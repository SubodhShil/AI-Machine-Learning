{
  "cells": [
    {
      "cell_type": "code",
      "execution_count": 1,
      "metadata": {
        "id": "L50vRsGgC8Oe"
      },
      "outputs": [],
      "source": [
        "import torch\n",
        "import pandas as pd\n",
        "import numpy as np\n",
        "import matplotlib.pyplot as plt"
      ]
    },
    {
      "cell_type": "markdown",
      "metadata": {
        "id": "8Pid_WI0vuKs"
      },
      "source": [
        "## Tensors"
      ]
    },
    {
      "cell_type": "markdown",
      "metadata": {
        "id": "YIAh66zLx30b"
      },
      "source": [
        "Tensors can run on GPU's"
      ]
    },
    {
      "cell_type": "code",
      "execution_count": 2,
      "metadata": {
        "colab": {
          "base_uri": "https://localhost:8080/"
        },
        "id": "GnWgn-XRFdnB",
        "outputId": "052d2f49-90aa-4451-cbe9-f2b3d39c8127"
      },
      "outputs": [
        {
          "output_type": "execute_result",
          "data": {
            "text/plain": [
              "(tensor(7), 0, torch.Size([]), torch.Size([]))"
            ]
          },
          "metadata": {},
          "execution_count": 2
        }
      ],
      "source": [
        "# Scalar: A scalar contains a single element\n",
        "# Scalar has no dimension\n",
        "scalar = torch.tensor(7)\n",
        "# To seek only the value itself, this method only available for scalars or single element tensors\n",
        "scalar.item()\n",
        "scalar, scalar.ndim, scalar.shape, scalar.size()"
      ]
    },
    {
      "cell_type": "code",
      "execution_count": 3,
      "metadata": {
        "colab": {
          "base_uri": "https://localhost:8080/"
        },
        "id": "W_WJhZfDxQ6C",
        "outputId": "c600317e-bf11-4763-e3c6-a80fa3de230b"
      },
      "outputs": [
        {
          "output_type": "execute_result",
          "data": {
            "text/plain": [
              "(tensor([10, 20]), 1, torch.Size([2]), torch.Size([2]))"
            ]
          },
          "metadata": {},
          "execution_count": 3
        }
      ],
      "source": [
        "# Vector: Also know as 1D array that contains multiple scalars\n",
        "vector = torch.tensor([10, 20])\n",
        "vector, vector.ndim, vector.size(), vector.shape"
      ]
    },
    {
      "cell_type": "code",
      "execution_count": 4,
      "metadata": {
        "colab": {
          "base_uri": "https://localhost:8080/"
        },
        "id": "ui8He0otxto6",
        "outputId": "8e351d68-5690-4b34-9cef-0f1bbf862419"
      },
      "outputs": [
        {
          "output_type": "execute_result",
          "data": {
            "text/plain": [
              "(tensor([[10, 20],\n",
              "         [30, 40]]),\n",
              " torch.Size([2, 2]),\n",
              " 2,\n",
              " torch.Size([2, 2]))"
            ]
          },
          "metadata": {},
          "execution_count": 4
        }
      ],
      "source": [
        "# Matrix\n",
        "\n",
        "MATRIX = torch.tensor([\n",
        "    [10, 20],\n",
        "    [30, 40]\n",
        "])\n",
        "\n",
        "MATRIX, MATRIX.size(), MATRIX.ndim, MATRIX.shape"
      ]
    },
    {
      "cell_type": "code",
      "execution_count": 5,
      "metadata": {
        "colab": {
          "base_uri": "https://localhost:8080/"
        },
        "id": "HQSFWx2Hy0FL",
        "outputId": "5251c9a1-df75-42c7-aa8c-de70715e5b44"
      },
      "outputs": [
        {
          "output_type": "execute_result",
          "data": {
            "text/plain": [
              "tensor([[[ 1,  2],\n",
              "         [ 3,  4]],\n",
              "\n",
              "        [[10, 20],\n",
              "         [30, 40]]])"
            ]
          },
          "metadata": {},
          "execution_count": 5
        }
      ],
      "source": [
        "# Any dimension we usually see above 2 is more precisely said to be TENSOR's\n",
        "\n",
        "# This is a 3D tensor\n",
        "TENSOR = torch.tensor([\n",
        "    # 1st 2D matrix\n",
        "    [\n",
        "        [1, 2],\n",
        "        [3, 4]\n",
        "    ],\n",
        "\n",
        "    # 2nd 2D matrix\n",
        "    [\n",
        "        [10, 20],\n",
        "        [30, 40]\n",
        "    ]\n",
        "])\n",
        "\n",
        "TENSOR"
      ]
    },
    {
      "cell_type": "code",
      "execution_count": 6,
      "metadata": {
        "colab": {
          "base_uri": "https://localhost:8080/"
        },
        "id": "iimAIuSK0ozc",
        "outputId": "75b2ff2a-8b49-4195-a1c3-19d98fe2b45f"
      },
      "outputs": [
        {
          "output_type": "execute_result",
          "data": {
            "text/plain": [
              "torch.Size([2, 2, 2])"
            ]
          },
          "metadata": {},
          "execution_count": 6
        }
      ],
      "source": [
        "TENSOR.shape"
      ]
    },
    {
      "cell_type": "markdown",
      "metadata": {
        "id": "iH0s3wfl3zeA"
      },
      "source": [
        "**Random Tensors**\n",
        "\n",
        "Randoms tensors are significantly important due to the reason that, neural networks particularly initialized with random numbers"
      ]
    },
    {
      "cell_type": "code",
      "execution_count": 7,
      "metadata": {
        "colab": {
          "base_uri": "https://localhost:8080/"
        },
        "id": "ZVNQdqg33wnn",
        "outputId": "e41dc9a2-82d8-4860-8bb2-2d039de0b0b6"
      },
      "outputs": [
        {
          "output_type": "execute_result",
          "data": {
            "text/plain": [
              "tensor([[[0.1129, 0.6804, 0.7794, 0.1527],\n",
              "         [0.4106, 0.4181, 0.8683, 0.0317],\n",
              "         [0.5009, 0.1552, 0.3120, 0.9240]],\n",
              "\n",
              "        [[0.1028, 0.8084, 0.5906, 0.4335],\n",
              "         [0.4643, 0.3568, 0.4046, 0.4182],\n",
              "         [0.7258, 0.0236, 0.1629, 0.3447]]])"
            ]
          },
          "metadata": {},
          "execution_count": 7
        }
      ],
      "source": [
        "random_tensor = torch.rand(2, 3, 4)\n",
        "random_tensor"
      ]
    },
    {
      "cell_type": "code",
      "execution_count": 8,
      "metadata": {
        "colab": {
          "base_uri": "https://localhost:8080/"
        },
        "id": "DDL4w_mDgvgt",
        "outputId": "4a617cbe-f6a9-42ea-b2cd-3a61f6ffa58b"
      },
      "outputs": [
        {
          "output_type": "execute_result",
          "data": {
            "text/plain": [
              "tensor([[[[0.3201, 0.2286, 0.1749],\n",
              "          [0.0721, 0.8235, 0.5941]],\n",
              "\n",
              "         [[0.3139, 0.9846, 0.0847],\n",
              "          [0.7678, 0.7187, 0.9053]],\n",
              "\n",
              "         [[0.5365, 0.2404, 0.5392],\n",
              "          [0.5483, 0.8808, 0.1918]]],\n",
              "\n",
              "\n",
              "        [[[0.3177, 0.1291, 0.9499],\n",
              "          [0.8023, 0.3882, 0.7777]],\n",
              "\n",
              "         [[0.0749, 0.5750, 0.4761],\n",
              "          [0.2153, 0.0525, 0.5056]],\n",
              "\n",
              "         [[0.9538, 0.7666, 0.3170],\n",
              "          [0.1199, 0.2963, 0.9482]]]])"
            ]
          },
          "metadata": {},
          "execution_count": 8
        }
      ],
      "source": [
        "random_tensor_2 = torch.rand(2, 3, 2, 3)\n",
        "random_tensor_2"
      ]
    },
    {
      "cell_type": "code",
      "execution_count": 9,
      "metadata": {
        "colab": {
          "base_uri": "https://localhost:8080/"
        },
        "id": "OlM4LLBO0k8J",
        "outputId": "79b7c1b4-01fe-4713-d108-d804ba1fcf56"
      },
      "outputs": [
        {
          "output_type": "execute_result",
          "data": {
            "text/plain": [
              "(3, 4)"
            ]
          },
          "metadata": {},
          "execution_count": 9
        }
      ],
      "source": [
        "random_tensor.ndim, random_tensor_2.ndim"
      ]
    },
    {
      "cell_type": "markdown",
      "metadata": {
        "id": "4Mef2RUJ25by"
      },
      "source": [
        "Image"
      ]
    },
    {
      "cell_type": "code",
      "execution_count": 10,
      "metadata": {
        "colab": {
          "base_uri": "https://localhost:8080/"
        },
        "id": "ia41S0jR20l1",
        "outputId": "427e68ec-a8a7-45a5-d0e5-292f1e4bcb12"
      },
      "outputs": [
        {
          "output_type": "execute_result",
          "data": {
            "text/plain": [
              "tensor([[[0.0135, 0.6641, 0.6462,  ..., 0.6198, 0.2514, 0.3441],\n",
              "         [0.0343, 0.3538, 0.4405,  ..., 0.1871, 0.8920, 0.3115],\n",
              "         [0.7858, 0.2336, 0.1108,  ..., 0.6833, 0.4430, 0.7807],\n",
              "         ...,\n",
              "         [0.0893, 0.8836, 0.7627,  ..., 0.0734, 0.7268, 0.7405],\n",
              "         [0.9240, 0.2414, 0.0320,  ..., 0.5044, 0.5470, 0.6569],\n",
              "         [0.1668, 0.3606, 0.9842,  ..., 0.0420, 0.8759, 0.0703]],\n",
              "\n",
              "        [[0.7587, 0.2031, 0.7244,  ..., 0.0071, 0.3521, 0.0648],\n",
              "         [0.7831, 0.6497, 0.7138,  ..., 0.7904, 0.7305, 0.3673],\n",
              "         [0.9978, 0.9804, 0.2696,  ..., 0.5744, 0.5262, 0.9943],\n",
              "         ...,\n",
              "         [0.3363, 0.4475, 0.7149,  ..., 0.4903, 0.1987, 0.6196],\n",
              "         [0.5619, 0.1725, 0.8593,  ..., 0.4862, 0.4343, 0.7065],\n",
              "         [0.9553, 0.7564, 0.1056,  ..., 0.8128, 0.4019, 0.4410]],\n",
              "\n",
              "        [[0.2615, 0.4576, 0.5571,  ..., 0.3961, 0.8304, 0.0708],\n",
              "         [0.6399, 0.7469, 0.5596,  ..., 0.6400, 0.3516, 0.5542],\n",
              "         [0.5444, 0.8105, 0.9839,  ..., 0.2628, 0.5843, 0.9549],\n",
              "         ...,\n",
              "         [0.3342, 0.2831, 0.7771,  ..., 0.4431, 0.4780, 0.7973],\n",
              "         [0.8263, 0.7421, 0.3649,  ..., 0.0885, 0.6068, 0.0786],\n",
              "         [0.8365, 0.8939, 0.2833,  ..., 0.8428, 0.4991, 0.3183]]])"
            ]
          },
          "metadata": {},
          "execution_count": 10
        }
      ],
      "source": [
        "random_img_tensor = torch.rand(size=(3, 224, 224))\n",
        "random_img_tensor"
      ]
    },
    {
      "cell_type": "code",
      "execution_count": 11,
      "metadata": {
        "colab": {
          "base_uri": "https://localhost:8080/"
        },
        "id": "_IPLSbJQ3w5x",
        "outputId": "b873f7b8-eeab-4135-a8b6-e215dc146933"
      },
      "outputs": [
        {
          "output_type": "execute_result",
          "data": {
            "text/plain": [
              "tensor([[0., 0., 0., 0., 0.],\n",
              "        [0., 0., 0., 0., 0.],\n",
              "        [0., 0., 0., 0., 0.],\n",
              "        [0., 0., 0., 0., 0.],\n",
              "        [0., 0., 0., 0., 0.]])"
            ]
          },
          "metadata": {},
          "execution_count": 11
        }
      ],
      "source": [
        "zero_tensor = torch.zeros(size=(5, 5))\n",
        "zero_tensor"
      ]
    },
    {
      "cell_type": "code",
      "execution_count": 12,
      "metadata": {
        "colab": {
          "base_uri": "https://localhost:8080/"
        },
        "id": "TqNY-duZs7my",
        "outputId": "26b4ab47-f1f1-4158-b8c6-7c761ac02804"
      },
      "outputs": [
        {
          "output_type": "execute_result",
          "data": {
            "text/plain": [
              "tensor([[1., 1., 1., 1., 1.],\n",
              "        [1., 1., 1., 1., 1.],\n",
              "        [1., 1., 1., 1., 1.],\n",
              "        [1., 1., 1., 1., 1.],\n",
              "        [1., 1., 1., 1., 1.]])"
            ]
          },
          "metadata": {},
          "execution_count": 12
        }
      ],
      "source": [
        "tensor_all_ones = torch.ones(size=(5, 5))\n",
        "tensor_all_ones"
      ]
    },
    {
      "cell_type": "markdown",
      "metadata": {
        "id": "x2n3bimetuuD"
      },
      "source": [
        "Range Tensors"
      ]
    },
    {
      "cell_type": "code",
      "execution_count": 13,
      "metadata": {
        "colab": {
          "base_uri": "https://localhost:8080/"
        },
        "id": "ffSEAlhHtTs7",
        "outputId": "872d5fb8-9512-425d-d166-abc0ca1b2997"
      },
      "outputs": [
        {
          "output_type": "execute_result",
          "data": {
            "text/plain": [
              "tensor([  1,   2,   3,   4,   5,   6,   7,   8,   9,  10,  11,  12,  13,  14,\n",
              "         15,  16,  17,  18,  19,  20,  21,  22,  23,  24,  25,  26,  27,  28,\n",
              "         29,  30,  31,  32,  33,  34,  35,  36,  37,  38,  39,  40,  41,  42,\n",
              "         43,  44,  45,  46,  47,  48,  49,  50,  51,  52,  53,  54,  55,  56,\n",
              "         57,  58,  59,  60,  61,  62,  63,  64,  65,  66,  67,  68,  69,  70,\n",
              "         71,  72,  73,  74,  75,  76,  77,  78,  79,  80,  81,  82,  83,  84,\n",
              "         85,  86,  87,  88,  89,  90,  91,  92,  93,  94,  95,  96,  97,  98,\n",
              "         99, 100])"
            ]
          },
          "metadata": {},
          "execution_count": 13
        }
      ],
      "source": [
        "one_to_100 = torch.arange(1, 101)\n",
        "one_to_100"
      ]
    },
    {
      "cell_type": "code",
      "execution_count": 14,
      "metadata": {
        "colab": {
          "base_uri": "https://localhost:8080/"
        },
        "id": "L_TVh8yCtzrL",
        "outputId": "1fbb3602-75a2-4ecb-e6e1-b5e7f48ff454"
      },
      "outputs": [
        {
          "output_type": "execute_result",
          "data": {
            "text/plain": [
              "tensor([ 10,  20,  30,  40,  50,  60,  70,  80,  90, 100])"
            ]
          },
          "metadata": {},
          "execution_count": 14
        }
      ],
      "source": [
        "ten_table = torch.arange(start=10, end=101, step=10)\n",
        "ten_table"
      ]
    },
    {
      "cell_type": "code",
      "execution_count": 15,
      "metadata": {
        "colab": {
          "base_uri": "https://localhost:8080/"
        },
        "id": "a8G2Fgnjvvfb",
        "outputId": "5c1a227d-8c2a-40b5-cc80-b8a817e8251e"
      },
      "outputs": [
        {
          "output_type": "stream",
          "name": "stdout",
          "text": [
            "10 20 30 40 50 60 70 80 90 100 "
          ]
        }
      ],
      "source": [
        "for x in ten_table:\n",
        "  print(x.item(), end=\" \")"
      ]
    },
    {
      "cell_type": "markdown",
      "metadata": {
        "id": "7ZaSrW_QDvQ9"
      },
      "source": [
        "### Tensor data types"
      ]
    },
    {
      "cell_type": "markdown",
      "source": [
        "Using tensors without knowing the correct use of parameters, it may lead to errors. Here are the reasons:\n",
        "1. Tensors are not in the right datatypes.\n",
        "2. Tensors shapes are not similar\n",
        "3. Tensors are not in the right device."
      ],
      "metadata": {
        "id": "qWJY7iwuHXOY"
      }
    },
    {
      "cell_type": "code",
      "execution_count": 16,
      "metadata": {
        "colab": {
          "base_uri": "https://localhost:8080/"
        },
        "id": "plnhe_4Fv7_j",
        "outputId": "756dc9e0-837c-4c16-eb05-360678a7cd2c"
      },
      "outputs": [
        {
          "output_type": "execute_result",
          "data": {
            "text/plain": [
              "tensor([5., 7., 9.])"
            ]
          },
          "metadata": {},
          "execution_count": 16
        }
      ],
      "source": [
        "float_32_tensor = torch.tensor([5, 7, 9],\n",
        "                               dtype=torch.float32,\n",
        "                               device='cpu',\n",
        "                               requires_grad=False)\n",
        "float_32_tensor"
      ]
    },
    {
      "cell_type": "code",
      "source": [
        "random_tensor_3 = torch.rand(size=(3, 5))\n",
        "print(random_tensor_3)"
      ],
      "metadata": {
        "colab": {
          "base_uri": "https://localhost:8080/"
        },
        "id": "80WYhHCNGFTp",
        "outputId": "9fcc49b5-10d8-4692-c364-eb80c7a88c45"
      },
      "execution_count": 17,
      "outputs": [
        {
          "output_type": "stream",
          "name": "stdout",
          "text": [
            "tensor([[0.4976, 0.1885, 0.2181, 0.5201, 0.4287],\n",
            "        [0.8542, 0.7225, 0.0500, 0.8195, 0.8994],\n",
            "        [0.8755, 0.0435, 0.9354, 0.8825, 0.2487]])\n"
          ]
        }
      ]
    }
  ],
  "metadata": {
    "accelerator": "TPU",
    "colab": {
      "gpuType": "V28",
      "provenance": []
    },
    "kernelspec": {
      "display_name": "Python 3",
      "name": "python3"
    },
    "language_info": {
      "name": "python"
    }
  },
  "nbformat": 4,
  "nbformat_minor": 0
}