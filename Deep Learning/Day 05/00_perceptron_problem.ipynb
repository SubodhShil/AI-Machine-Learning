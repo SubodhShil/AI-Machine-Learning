{
 "cells": [
  {
   "cell_type": "markdown",
   "metadata": {},
   "source": [
    "Perceptron drawback\n",
    "- Perceptron doesn't work with non-linear data"
   ]
  },
  {
   "cell_type": "code",
   "execution_count": 8,
   "metadata": {},
   "outputs": [],
   "source": [
    "import numpy as np\n",
    "import pandas as pd\n",
    "import matplotlib.pyplot as plt\n",
    "import seaborn as sns"
   ]
  },
  {
   "cell_type": "code",
   "execution_count": 9,
   "metadata": {},
   "outputs": [],
   "source": [
    "or_data = pd.DataFrame()\n",
    "and_data = pd.DataFrame()\n",
    "xor_data = pd.DataFrame()"
   ]
  },
  {
   "cell_type": "code",
   "execution_count": 10,
   "metadata": {},
   "outputs": [],
   "source": [
    "or_data['input1'] = [1, 1, 0, 0]\n",
    "or_data['input2'] = [1, 1, 0, 0]\n",
    "or_data['output'] = [1, 1, 1, 0]"
   ]
  },
  {
   "cell_type": "code",
   "execution_count": 11,
   "metadata": {},
   "outputs": [],
   "source": [
    "and_data['input1'] = [1, 1, 0, 0]\n",
    "and_data['input2'] = [1, 1, 0, 0]\n",
    "and_data['output'] = [1, 1, 0, 0]"
   ]
  },
  {
   "cell_type": "code",
   "execution_count": 12,
   "metadata": {},
   "outputs": [],
   "source": [
    "xor_data['input1'] = [1, 1, 0, 0]\n",
    "xor_data['input2'] = [1, 0, 1, 0]\n",
    "xor_data['output'] = [0, 1, 1, 0]"
   ]
  },
  {
   "cell_type": "code",
   "execution_count": 13,
   "metadata": {},
   "outputs": [
    {
     "data": {
      "text/plain": [
       "(   input1  input2  output\n",
       " 0       1       1       1\n",
       " 1       1       1       1\n",
       " 2       0       0       1\n",
       " 3       0       0       0,\n",
       "    input1  input2  output\n",
       " 0       1       1       0\n",
       " 1       1       0       1\n",
       " 2       0       1       1\n",
       " 3       0       0       0,\n",
       "    input1  input2  output\n",
       " 0       1       1       1\n",
       " 1       1       1       1\n",
       " 2       0       0       0\n",
       " 3       0       0       0)"
      ]
     },
     "execution_count": 13,
     "metadata": {},
     "output_type": "execute_result"
    }
   ],
   "source": [
    "or_data, xor_data, and_data"
   ]
  },
  {
   "cell_type": "code",
   "execution_count": 14,
   "metadata": {},
   "outputs": [],
   "source": [
    "from sklearn.linear_model import Perceptron\n",
    "clf1 = Perceptron()\n",
    "clf2 = Perceptron()\n",
    "clf3 = Perceptron()"
   ]
  }
 ],
 "metadata": {
  "kernelspec": {
   "display_name": "Python 3",
   "language": "python",
   "name": "python3"
  },
  "language_info": {
   "codemirror_mode": {
    "name": "ipython",
    "version": 3
   },
   "file_extension": ".py",
   "mimetype": "text/x-python",
   "name": "python",
   "nbconvert_exporter": "python",
   "pygments_lexer": "ipython3",
   "version": "3.11.5"
  }
 },
 "nbformat": 4,
 "nbformat_minor": 2
}
