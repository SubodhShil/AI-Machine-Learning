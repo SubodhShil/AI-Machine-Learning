{
  "cells": [
    {
      "cell_type": "code",
      "execution_count": 73,
      "metadata": {
        "id": "b8m0EFaaT-ga"
      },
      "outputs": [],
      "source": [
        "import tensorflow as tf\n",
        "from tensorflow import keras\n",
        "from tensorflow.keras import Sequential\n",
        "from tensorflow.keras.layers import Dense, Flatten"
      ]
    },
    {
      "cell_type": "code",
      "execution_count": 74,
      "metadata": {
        "id": "bPGbrVexUW-i"
      },
      "outputs": [],
      "source": [
        "(X_train, y_train), (X_test, y_test) = keras.datasets.mnist.load_data()"
      ]
    },
    {
      "cell_type": "code",
      "execution_count": 75,
      "metadata": {
        "colab": {
          "base_uri": "https://localhost:8080/"
        },
        "id": "-rqc0BrRUjuS",
        "outputId": "e6d9bc2a-ac2a-4fc1-cf59-7665edfed7f0"
      },
      "outputs": [
        {
          "data": {
            "text/plain": [
              "((60000, 28, 28), 47040000)"
            ]
          },
          "execution_count": 75,
          "metadata": {},
          "output_type": "execute_result"
        }
      ],
      "source": [
        "X_train.shape, X_train.size"
      ]
    },
    {
      "cell_type": "code",
      "execution_count": 76,
      "metadata": {
        "colab": {
          "base_uri": "https://localhost:8080/",
          "height": 68
        },
        "id": "GTojTeDBU6_p",
        "outputId": "e183bed8-b2f5-4a22-d34c-7fcb34b9ae34"
      },
      "outputs": [
        {
          "data": {
            "text/html": [
              "<style>\n",
              "      .ndarray_repr .ndarray_raw_data {\n",
              "        display: none;\n",
              "      }\n",
              "      .ndarray_repr.show_array .ndarray_raw_data {\n",
              "        display: block;\n",
              "      }\n",
              "      .ndarray_repr.show_array .ndarray_image_preview {\n",
              "        display: none;\n",
              "      }\n",
              "      </style>\n",
              "      <div id=\"id-4fb6fb97-5b40-4b9c-a87d-8060f8dfb252\" class=\"ndarray_repr\"><pre>ndarray (28, 28) <button style=\"padding: 0 2px;\">show data</button></pre><img src=\"data:image/png;base64,iVBORw0KGgoAAAANSUhEUgAAABwAAAAcCAAAAABXZoBIAAABFklEQVR4nMXPMUvDUBQF4BOhYhdBqQaXuhUcgm6C4iwF0SJKUYp16uggNAiKP8C1CEJExFUw/QkVIrg4OcYhKJaCCC0qDwrnxsnkpcRVz/TO++C9e4F/zeL8r7Tckn5jLN0OFYX01pquezQ3YGWlmtVa/eO91SG/zoZ1M195AgD+Aqp2qS1eXsMDeRgBgH0AQCEUJxPjOSv6Q0tvrMUt4GpihDq98ajIAGYfWQQwlLqYesJ6hJ5hJvXSQIQ34V42gX1a0Xmmx3ICp7qMS4Mvszru8D4umVu2VzR06Wht2pfw+Ge30VP5tDTExIXw+crezeWKdkC1mZw+75CkkKSoDQCAof07ub1V6HUB/+46QEosM+32L/MNNFNq4gGK2CsAAAAASUVORK5CYII=\" class=\"ndarray_image_preview\" /><pre class=\"ndarray_raw_data\">array([[  0,   0,   0,   0,   0,   0,   0,   0,   0,   0,   0,   0,   0,\n",
              "          0,   0,   0,   0,   0,   0,   0,   0,   0,   0,   0,   0,   0,\n",
              "          0,   0],\n",
              "       [  0,   0,   0,   0,   0,   0,   0,   0,   0,   0,   0,   0,   0,\n",
              "          0,   0,   0,   0,   0,   0,   0,   0,   0,   0,   0,   0,   0,\n",
              "          0,   0],\n",
              "       [  0,   0,   0,   0,   0,   0,   0,   0,   0,   0,   0,   0,   0,\n",
              "          0,   0,   0,   0,   0,   0,   0,   0,   0,   0,   0,   0,   0,\n",
              "          0,   0],\n",
              "       [  0,   0,   0,   0,   0,   0,   0,   0,   0,   0,   0,   0,   0,\n",
              "          0,   0,   0,   0,   0,   0,   0,   0,   0,   0,   0,   0,   0,\n",
              "          0,   0],\n",
              "       [  0,   0,   0,   0,   0,   0,   0,   0,   0,   0,  59,  55,   0,\n",
              "          0,   0,   0,   0,   0,   0,   0,   0,   0,   0,   0,   0,   0,\n",
              "          0,   0],\n",
              "       [  0,   0,   0,   0,   0,   0,   0,   0,  71, 192, 254, 250, 147,\n",
              "         17,   0,   0,   0,   0,   0,   0,   0,   0,   0,   0,   0,   0,\n",
              "          0,   0],\n",
              "       [  0,   0,   0,   0,   0,   0,   0, 123, 247, 253, 254, 253, 253,\n",
              "        196,  79, 176, 175, 175, 124,  48,   0,   0,   0,   0,   0,   0,\n",
              "          0,   0],\n",
              "       [  0,   0,   0,   0,   0,   0,  87, 247, 247, 176,  95, 102, 117,\n",
              "        243, 237, 192, 232, 253, 253, 245, 152,   6,   0,   0,   0,   0,\n",
              "          0,   0],\n",
              "       [  0,   0,   0,   0,   0,  23, 229, 253, 138,   0,   0,   0,   0,\n",
              "        219,  58,   0,  95, 118,  80, 230, 254, 196,  30,   0,   0,   0,\n",
              "          0,   0],\n",
              "       [  0,   0,   0,   0,   0, 120, 254, 205,   8,   0,   0,   0,   0,\n",
              "        114,   0,   0,   0,   0,   0,  38, 255, 254, 155,   5,   0,   0,\n",
              "          0,   0],\n",
              "       [  0,   0,   0,   0,   0, 156, 253,  92,   0,   0,   0,   0,   0,\n",
              "          0,   0,   0,   0,   0,   0,   0,  61, 235, 253, 102,   0,   0,\n",
              "          0,   0],\n",
              "       [  0,   0,   0,   0,   0, 224, 253,  78,   0,   0,   0,   0,   0,\n",
              "          0,   0,   0,   0,   0,   0,   0,   0, 117, 253, 196,  18,   0,\n",
              "          0,   0],\n",
              "       [  0,   0,   0,   0,   0, 254, 253,  78,   0,   0,   0,   0,   0,\n",
              "          0,   0,   0,   0,   0,   0,   0,   0,   9, 211, 253,  73,   0,\n",
              "          0,   0],\n",
              "       [  0,   0,   0,   0,   0, 254, 253,  78,   0,   0,   0,   0,   0,\n",
              "          0,   0,   0,   0,   0,   0,   0,   0,   0, 175, 253, 155,   0,\n",
              "          0,   0],\n",
              "       [  0,   0,   0,   0,   0, 194, 254, 101,   0,   0,   0,   0,   0,\n",
              "          0,   0,   0,   0,   0,   0,   0,   0,   0,  79, 254, 155,   0,\n",
              "          0,   0],\n",
              "       [  0,   0,   0,   0,   0, 112, 253, 211,   9,   0,   0,   0,   0,\n",
              "          0,   0,   0,   0,   0,   0,   0,   0,   0,  73, 251, 200,   0,\n",
              "          0,   0],\n",
              "       [  0,   0,   0,   0,   0,  41, 241, 253,  87,   0,   0,   0,   0,\n",
              "          0,   0,   0,   0,   0,   0,   0,   0,   0,  25, 240, 253,   0,\n",
              "          0,   0],\n",
              "       [  0,   0,   0,   0,   0,   0, 147, 253, 227,  47,   0,   0,   0,\n",
              "          0,   0,   0,   0,   0,   0,   0,   0,   0,  94, 253, 200,   0,\n",
              "          0,   0],\n",
              "       [  0,   0,   0,   0,   0,   0,   5, 193, 253, 230,  76,   0,   0,\n",
              "          0,   0,   0,   0,   0,   0,   0,   0,   0, 175, 253, 155,   0,\n",
              "          0,   0],\n",
              "       [  0,   0,   0,   0,   0,   0,   0,  31, 219, 254, 255, 126,  18,\n",
              "          0,   0,   0,   0,   0,   0,   0,  14, 149, 254, 244,  45,   0,\n",
              "          0,   0],\n",
              "       [  0,   0,   0,   0,   0,   0,   0,   0,  21, 158, 254, 253, 226,\n",
              "        162, 118,  96,  20,  20,  73, 118, 224, 253, 247,  85,   0,   0,\n",
              "          0,   0],\n",
              "       [  0,   0,   0,   0,   0,   0,   0,   0,   0,  30, 155, 253, 253,\n",
              "        253, 253, 254, 253, 253, 253, 253, 254, 247,  84,   0,   0,   0,\n",
              "          0,   0],\n",
              "       [  0,   0,   0,   0,   0,   0,   0,   0,   0,   0,   5,  27, 117,\n",
              "        206, 244, 229, 213, 213, 213, 176, 117,  32,   0,   0,   0,   0,\n",
              "          0,   0],\n",
              "       [  0,   0,   0,   0,   0,   0,   0,   0,   0,   0,   0,   0,   0,\n",
              "          0,  45,  23,   0,   0,   0,   0,   0,   0,   0,   0,   0,   0,\n",
              "          0,   0],\n",
              "       [  0,   0,   0,   0,   0,   0,   0,   0,   0,   0,   0,   0,   0,\n",
              "          0,   0,   0,   0,   0,   0,   0,   0,   0,   0,   0,   0,   0,\n",
              "          0,   0],\n",
              "       [  0,   0,   0,   0,   0,   0,   0,   0,   0,   0,   0,   0,   0,\n",
              "          0,   0,   0,   0,   0,   0,   0,   0,   0,   0,   0,   0,   0,\n",
              "          0,   0],\n",
              "       [  0,   0,   0,   0,   0,   0,   0,   0,   0,   0,   0,   0,   0,\n",
              "          0,   0,   0,   0,   0,   0,   0,   0,   0,   0,   0,   0,   0,\n",
              "          0,   0],\n",
              "       [  0,   0,   0,   0,   0,   0,   0,   0,   0,   0,   0,   0,   0,\n",
              "          0,   0,   0,   0,   0,   0,   0,   0,   0,   0,   0,   0,   0,\n",
              "          0,   0]], dtype=uint8)</pre></div><script>\n",
              "      (() => {\n",
              "      const titles = ['show data', 'hide data'];\n",
              "      let index = 0\n",
              "      document.querySelector('#id-4fb6fb97-5b40-4b9c-a87d-8060f8dfb252 button').onclick = (e) => {\n",
              "        document.querySelector('#id-4fb6fb97-5b40-4b9c-a87d-8060f8dfb252').classList.toggle('show_array');\n",
              "        index = (++index) % 2;\n",
              "        document.querySelector('#id-4fb6fb97-5b40-4b9c-a87d-8060f8dfb252 button').textContent = titles[index];\n",
              "        e.preventDefault();\n",
              "        e.stopPropagation();\n",
              "      }\n",
              "      })();\n",
              "    </script>"
            ],
            "text/plain": [
              "array([[  0,   0,   0,   0,   0,   0,   0,   0,   0,   0,   0,   0,   0,\n",
              "          0,   0,   0,   0,   0,   0,   0,   0,   0,   0,   0,   0,   0,\n",
              "          0,   0],\n",
              "       [  0,   0,   0,   0,   0,   0,   0,   0,   0,   0,   0,   0,   0,\n",
              "          0,   0,   0,   0,   0,   0,   0,   0,   0,   0,   0,   0,   0,\n",
              "          0,   0],\n",
              "       [  0,   0,   0,   0,   0,   0,   0,   0,   0,   0,   0,   0,   0,\n",
              "          0,   0,   0,   0,   0,   0,   0,   0,   0,   0,   0,   0,   0,\n",
              "          0,   0],\n",
              "       [  0,   0,   0,   0,   0,   0,   0,   0,   0,   0,   0,   0,   0,\n",
              "          0,   0,   0,   0,   0,   0,   0,   0,   0,   0,   0,   0,   0,\n",
              "          0,   0],\n",
              "       [  0,   0,   0,   0,   0,   0,   0,   0,   0,   0,  59,  55,   0,\n",
              "          0,   0,   0,   0,   0,   0,   0,   0,   0,   0,   0,   0,   0,\n",
              "          0,   0],\n",
              "       [  0,   0,   0,   0,   0,   0,   0,   0,  71, 192, 254, 250, 147,\n",
              "         17,   0,   0,   0,   0,   0,   0,   0,   0,   0,   0,   0,   0,\n",
              "          0,   0],\n",
              "       [  0,   0,   0,   0,   0,   0,   0, 123, 247, 253, 254, 253, 253,\n",
              "        196,  79, 176, 175, 175, 124,  48,   0,   0,   0,   0,   0,   0,\n",
              "          0,   0],\n",
              "       [  0,   0,   0,   0,   0,   0,  87, 247, 247, 176,  95, 102, 117,\n",
              "        243, 237, 192, 232, 253, 253, 245, 152,   6,   0,   0,   0,   0,\n",
              "          0,   0],\n",
              "       [  0,   0,   0,   0,   0,  23, 229, 253, 138,   0,   0,   0,   0,\n",
              "        219,  58,   0,  95, 118,  80, 230, 254, 196,  30,   0,   0,   0,\n",
              "          0,   0],\n",
              "       [  0,   0,   0,   0,   0, 120, 254, 205,   8,   0,   0,   0,   0,\n",
              "        114,   0,   0,   0,   0,   0,  38, 255, 254, 155,   5,   0,   0,\n",
              "          0,   0],\n",
              "       [  0,   0,   0,   0,   0, 156, 253,  92,   0,   0,   0,   0,   0,\n",
              "          0,   0,   0,   0,   0,   0,   0,  61, 235, 253, 102,   0,   0,\n",
              "          0,   0],\n",
              "       [  0,   0,   0,   0,   0, 224, 253,  78,   0,   0,   0,   0,   0,\n",
              "          0,   0,   0,   0,   0,   0,   0,   0, 117, 253, 196,  18,   0,\n",
              "          0,   0],\n",
              "       [  0,   0,   0,   0,   0, 254, 253,  78,   0,   0,   0,   0,   0,\n",
              "          0,   0,   0,   0,   0,   0,   0,   0,   9, 211, 253,  73,   0,\n",
              "          0,   0],\n",
              "       [  0,   0,   0,   0,   0, 254, 253,  78,   0,   0,   0,   0,   0,\n",
              "          0,   0,   0,   0,   0,   0,   0,   0,   0, 175, 253, 155,   0,\n",
              "          0,   0],\n",
              "       [  0,   0,   0,   0,   0, 194, 254, 101,   0,   0,   0,   0,   0,\n",
              "          0,   0,   0,   0,   0,   0,   0,   0,   0,  79, 254, 155,   0,\n",
              "          0,   0],\n",
              "       [  0,   0,   0,   0,   0, 112, 253, 211,   9,   0,   0,   0,   0,\n",
              "          0,   0,   0,   0,   0,   0,   0,   0,   0,  73, 251, 200,   0,\n",
              "          0,   0],\n",
              "       [  0,   0,   0,   0,   0,  41, 241, 253,  87,   0,   0,   0,   0,\n",
              "          0,   0,   0,   0,   0,   0,   0,   0,   0,  25, 240, 253,   0,\n",
              "          0,   0],\n",
              "       [  0,   0,   0,   0,   0,   0, 147, 253, 227,  47,   0,   0,   0,\n",
              "          0,   0,   0,   0,   0,   0,   0,   0,   0,  94, 253, 200,   0,\n",
              "          0,   0],\n",
              "       [  0,   0,   0,   0,   0,   0,   5, 193, 253, 230,  76,   0,   0,\n",
              "          0,   0,   0,   0,   0,   0,   0,   0,   0, 175, 253, 155,   0,\n",
              "          0,   0],\n",
              "       [  0,   0,   0,   0,   0,   0,   0,  31, 219, 254, 255, 126,  18,\n",
              "          0,   0,   0,   0,   0,   0,   0,  14, 149, 254, 244,  45,   0,\n",
              "          0,   0],\n",
              "       [  0,   0,   0,   0,   0,   0,   0,   0,  21, 158, 254, 253, 226,\n",
              "        162, 118,  96,  20,  20,  73, 118, 224, 253, 247,  85,   0,   0,\n",
              "          0,   0],\n",
              "       [  0,   0,   0,   0,   0,   0,   0,   0,   0,  30, 155, 253, 253,\n",
              "        253, 253, 254, 253, 253, 253, 253, 254, 247,  84,   0,   0,   0,\n",
              "          0,   0],\n",
              "       [  0,   0,   0,   0,   0,   0,   0,   0,   0,   0,   5,  27, 117,\n",
              "        206, 244, 229, 213, 213, 213, 176, 117,  32,   0,   0,   0,   0,\n",
              "          0,   0],\n",
              "       [  0,   0,   0,   0,   0,   0,   0,   0,   0,   0,   0,   0,   0,\n",
              "          0,  45,  23,   0,   0,   0,   0,   0,   0,   0,   0,   0,   0,\n",
              "          0,   0],\n",
              "       [  0,   0,   0,   0,   0,   0,   0,   0,   0,   0,   0,   0,   0,\n",
              "          0,   0,   0,   0,   0,   0,   0,   0,   0,   0,   0,   0,   0,\n",
              "          0,   0],\n",
              "       [  0,   0,   0,   0,   0,   0,   0,   0,   0,   0,   0,   0,   0,\n",
              "          0,   0,   0,   0,   0,   0,   0,   0,   0,   0,   0,   0,   0,\n",
              "          0,   0],\n",
              "       [  0,   0,   0,   0,   0,   0,   0,   0,   0,   0,   0,   0,   0,\n",
              "          0,   0,   0,   0,   0,   0,   0,   0,   0,   0,   0,   0,   0,\n",
              "          0,   0],\n",
              "       [  0,   0,   0,   0,   0,   0,   0,   0,   0,   0,   0,   0,   0,\n",
              "          0,   0,   0,   0,   0,   0,   0,   0,   0,   0,   0,   0,   0,\n",
              "          0,   0]], dtype=uint8)"
            ]
          },
          "execution_count": 76,
          "metadata": {},
          "output_type": "execute_result"
        }
      ],
      "source": [
        "import random\n",
        "X_train[random.randint(1, 500)]"
      ]
    },
    {
      "cell_type": "code",
      "execution_count": 77,
      "metadata": {
        "colab": {
          "base_uri": "https://localhost:8080/",
          "height": 447
        },
        "id": "MLDpXV6YVfpJ",
        "outputId": "f0e2dd91-6b92-438b-bc83-5a3fdd9995d7"
      },
      "outputs": [
        {
          "data": {
            "text/plain": [
              "<matplotlib.image.AxesImage at 0x7ab5bd21cf10>"
            ]
          },
          "execution_count": 77,
          "metadata": {},
          "output_type": "execute_result"
        },
        {
          "data": {
            "image/png": "[encoded data removed]",
            "text/plain": [
              "<Figure size 640x480 with 1 Axes>"
            ]
          },
          "metadata": {},
          "output_type": "display_data"
        }
      ],
      "source": [
        "import matplotlib.pyplot as plt\n",
        "plt.imshow(X_train[10])"
      ]
    },
    {
      "cell_type": "code",
      "execution_count": 78,
      "metadata": {
        "id": "q0G4MTFDWtuq"
      },
      "outputs": [],
      "source": [
        "# Feature scaling\n",
        "X_train = X_train / 255\n",
        "X_test = X_test / 255"
      ]
    },
    {
      "cell_type": "code",
      "execution_count": 79,
      "metadata": {
        "colab": {
          "base_uri": "https://localhost:8080/",
          "height": 447
        },
        "id": "0uLqQyvtYDMR",
        "outputId": "8f74947f-ae88-4b8b-ac35-27e0be43c150"
      },
      "outputs": [
        {
          "data": {
            "text/plain": [
              "<matplotlib.image.AxesImage at 0x7ab5c0974850>"
            ]
          },
          "execution_count": 79,
          "metadata": {},
          "output_type": "execute_result"
        },
        {
          "data": {
            "image/png": "[encoded data removed]",
            "text/plain": [
              "<Figure size 640x480 with 1 Axes>"
            ]
          },
          "metadata": {},
          "output_type": "display_data"
        }
      ],
      "source": [
        "plt.imshow(X_train[10])"
      ]
    },
    {
      "cell_type": "code",
      "execution_count": 80,
      "metadata": {
        "colab": {
          "base_uri": "https://localhost:8080/"
        },
        "id": "W4KmZCSNZDE4",
        "outputId": "a05c2423-7b41-4df5-db3a-9b8ae533bfcd"
      },
      "outputs": [
        {
          "data": {
            "text/plain": [
              "(28, 28)"
            ]
          },
          "execution_count": 80,
          "metadata": {},
          "output_type": "execute_result"
        }
      ],
      "source": [
        "X_train[22].shape"
      ]
    },
    {
      "cell_type": "markdown",
      "metadata": {
        "id": "2ZTMNzr7h903"
      },
      "source": [
        "Architecture"
      ]
    },
    {
      "cell_type": "code",
      "execution_count": 81,
      "metadata": {
        "id": "dzR12F95YHVR"
      },
      "outputs": [],
      "source": [
        "model = Sequential()\n",
        "\n",
        "# input layer\n",
        "model.add(Flatten(input_shape=(28,28)))\n",
        "\n",
        "# hidden layer 1\n",
        "model.add(Dense(128, activation='relu'))\n",
        "\n",
        "# hidden layer 2\n",
        "model.add(Dense(32, activation='relu'))\n",
        "\n",
        "# output layer\n",
        "model.add(Dense(10, activation='softmax'))"
      ]
    },
    {
      "cell_type": "code",
      "execution_count": 82,
      "metadata": {
        "colab": {
          "base_uri": "https://localhost:8080/"
        },
        "id": "EmwhLhMVZJyo",
        "outputId": "9689c19a-d767-4f57-828c-dd609bc6c67f"
      },
      "outputs": [
        {
          "name": "stdout",
          "output_type": "stream",
          "text": [
            "Model: \"sequential_6\"\n",
            "_________________________________________________________________\n",
            " Layer (type)                Output Shape              Param #   \n",
            "=================================================================\n",
            " flatten_6 (Flatten)         (None, 784)               0         \n",
            "                                                                 \n",
            " dense_7 (Dense)             (None, 128)               100480    \n",
            "                                                                 \n",
            " dense_8 (Dense)             (None, 32)                4128      \n",
            "                                                                 \n",
            " dense_9 (Dense)             (None, 10)                330       \n",
            "                                                                 \n",
            "=================================================================\n",
            "Total params: 104938 (409.91 KB)\n",
            "Trainable params: 104938 (409.91 KB)\n",
            "Non-trainable params: 0 (0.00 Byte)\n",
            "_________________________________________________________________\n"
          ]
        }
      ],
      "source": [
        "model.summary()"
      ]
    },
    {
      "cell_type": "code",
      "execution_count": 83,
      "metadata": {
        "id": "REAj_WmOemn_"
      },
      "outputs": [],
      "source": [
        "model.compile(loss='sparse_categorical_crossentropy', optimizer='Adam', metrics=['accuracy'])"
      ]
    },
    {
      "cell_type": "code",
      "execution_count": 84,
      "metadata": {
        "colab": {
          "base_uri": "https://localhost:8080/"
        },
        "id": "26CISdbSe_NH",
        "outputId": "e76d656a-ff97-4cc3-ea34-6db344daf7af"
      },
      "outputs": [
        {
          "name": "stdout",
          "output_type": "stream",
          "text": [
            "Epoch 1/25\n",
            "1500/1500 [==============================] - 8s 5ms/step - loss: 0.2810 - accuracy: 0.9178 - val_loss: 0.1499 - val_accuracy: 0.9544\n",
            "Epoch 2/25\n",
            "1500/1500 [==============================] - 6s 4ms/step - loss: 0.1209 - accuracy: 0.9638 - val_loss: 0.1085 - val_accuracy: 0.9682\n",
            "Epoch 3/25\n",
            "1500/1500 [==============================] - 6s 4ms/step - loss: 0.0823 - accuracy: 0.9753 - val_loss: 0.0996 - val_accuracy: 0.9693\n",
            "Epoch 4/25\n",
            "1500/1500 [==============================] - 6s 4ms/step - loss: 0.0604 - accuracy: 0.9816 - val_loss: 0.0918 - val_accuracy: 0.9723\n",
            "Epoch 5/25\n",
            "1500/1500 [==============================] - 6s 4ms/step - loss: 0.0490 - accuracy: 0.9845 - val_loss: 0.1144 - val_accuracy: 0.9682\n",
            "Epoch 6/25\n",
            "1500/1500 [==============================] - 7s 5ms/step - loss: 0.0385 - accuracy: 0.9877 - val_loss: 0.0964 - val_accuracy: 0.9737\n",
            "Epoch 7/25\n",
            "1500/1500 [==============================] - 6s 4ms/step - loss: 0.0310 - accuracy: 0.9896 - val_loss: 0.0968 - val_accuracy: 0.9735\n",
            "Epoch 8/25\n",
            "1500/1500 [==============================] - 7s 5ms/step - loss: 0.0251 - accuracy: 0.9915 - val_loss: 0.1076 - val_accuracy: 0.9729\n",
            "Epoch 9/25\n",
            "1500/1500 [==============================] - 6s 4ms/step - loss: 0.0222 - accuracy: 0.9930 - val_loss: 0.1042 - val_accuracy: 0.9734\n",
            "Epoch 10/25\n",
            "1500/1500 [==============================] - 7s 5ms/step - loss: 0.0201 - accuracy: 0.9931 - val_loss: 0.1285 - val_accuracy: 0.9705\n",
            "Epoch 11/25\n",
            "1500/1500 [==============================] - 6s 4ms/step - loss: 0.0175 - accuracy: 0.9941 - val_loss: 0.1101 - val_accuracy: 0.9749\n",
            "Epoch 12/25\n",
            "1500/1500 [==============================] - 8s 5ms/step - loss: 0.0159 - accuracy: 0.9945 - val_loss: 0.1241 - val_accuracy: 0.9728\n",
            "Epoch 13/25\n",
            "1500/1500 [==============================] - 6s 4ms/step - loss: 0.0147 - accuracy: 0.9948 - val_loss: 0.1137 - val_accuracy: 0.9752\n",
            "Epoch 14/25\n",
            "1500/1500 [==============================] - 7s 5ms/step - loss: 0.0127 - accuracy: 0.9958 - val_loss: 0.1190 - val_accuracy: 0.9745\n",
            "Epoch 15/25\n",
            "1500/1500 [==============================] - 6s 4ms/step - loss: 0.0124 - accuracy: 0.9962 - val_loss: 0.1244 - val_accuracy: 0.9753\n",
            "Epoch 16/25\n",
            "1500/1500 [==============================] - 7s 5ms/step - loss: 0.0099 - accuracy: 0.9966 - val_loss: 0.1179 - val_accuracy: 0.9748\n",
            "Epoch 17/25\n",
            "1500/1500 [==============================] - 6s 4ms/step - loss: 0.0114 - accuracy: 0.9960 - val_loss: 0.1610 - val_accuracy: 0.9703\n",
            "Epoch 18/25\n",
            "1500/1500 [==============================] - 7s 5ms/step - loss: 0.0091 - accuracy: 0.9968 - val_loss: 0.1496 - val_accuracy: 0.9744\n",
            "Epoch 19/25\n",
            "1500/1500 [==============================] - 6s 4ms/step - loss: 0.0094 - accuracy: 0.9968 - val_loss: 0.1453 - val_accuracy: 0.9748\n",
            "Epoch 20/25\n",
            "1500/1500 [==============================] - 7s 5ms/step - loss: 0.0096 - accuracy: 0.9970 - val_loss: 0.1440 - val_accuracy: 0.9747\n",
            "Epoch 21/25\n",
            "1500/1500 [==============================] - 6s 4ms/step - loss: 0.0075 - accuracy: 0.9972 - val_loss: 0.2271 - val_accuracy: 0.9622\n",
            "Epoch 22/25\n",
            "1500/1500 [==============================] - 7s 5ms/step - loss: 0.0120 - accuracy: 0.9961 - val_loss: 0.1714 - val_accuracy: 0.9720\n",
            "Epoch 23/25\n",
            "1500/1500 [==============================] - 6s 4ms/step - loss: 0.0074 - accuracy: 0.9977 - val_loss: 0.1618 - val_accuracy: 0.9744\n",
            "Epoch 24/25\n",
            "1500/1500 [==============================] - 7s 5ms/step - loss: 0.0059 - accuracy: 0.9980 - val_loss: 0.1746 - val_accuracy: 0.9744\n",
            "Epoch 25/25\n",
            "1500/1500 [==============================] - 6s 4ms/step - loss: 0.0106 - accuracy: 0.9968 - val_loss: 0.1474 - val_accuracy: 0.9765\n"
          ]
        }
      ],
      "source": [
        "# Model training\n",
        "\n",
        "history = model.fit(X_train, y_train, epochs=25, validation_split = 0.2)"
      ]
    },
    {
      "cell_type": "code",
      "execution_count": 85,
      "metadata": {
        "colab": {
          "base_uri": "https://localhost:8080/"
        },
        "id": "8-cPSLQMfaoY",
        "outputId": "d2f40729-674d-4c71-e4f4-9b1f19ce76b0"
      },
      "outputs": [
        {
          "name": "stdout",
          "output_type": "stream",
          "text": [
            "313/313 [==============================] - 1s 3ms/step\n"
          ]
        }
      ],
      "source": [
        "# Prediction\n",
        "\n",
        "y_prob = model.predict(X_test)"
      ]
    },
    {
      "cell_type": "code",
      "execution_count": 86,
      "metadata": {
        "colab": {
          "base_uri": "https://localhost:8080/"
        },
        "id": "9gwlxAX2gHF4",
        "outputId": "b306f2eb-eae4-4741-c859-fde0043d872b"
      },
      "outputs": [
        {
          "data": {
            "text/plain": [
              "array([7, 2, 1, ..., 4, 5, 6])"
            ]
          },
          "execution_count": 86,
          "metadata": {},
          "output_type": "execute_result"
        }
      ],
      "source": [
        "y_pred = y_prob.argmax(axis=1)\n",
        "y_pred"
      ]
    },
    {
      "cell_type": "code",
      "execution_count": 87,
      "metadata": {
        "colab": {
          "base_uri": "https://localhost:8080/"
        },
        "id": "45YAdKrHgKin",
        "outputId": "c149bbfc-b17a-416d-c84f-cd5cff17a421"
      },
      "outputs": [
        {
          "data": {
            "text/plain": [
              "0.9774"
            ]
          },
          "execution_count": 87,
          "metadata": {},
          "output_type": "execute_result"
        }
      ],
      "source": [
        "from sklearn.metrics import accuracy_score\n",
        "accuracy_score(y_test, y_pred)"
      ]
    },
    {
      "cell_type": "code",
      "execution_count": 88,
      "metadata": {
        "colab": {
          "base_uri": "https://localhost:8080/",
          "height": 447
        },
        "id": "o1dHeadJmteJ",
        "outputId": "f0bd638f-57bf-4fce-e22f-052dca1d67ad"
      },
      "outputs": [
        {
          "data": {
            "text/plain": [
              "[<matplotlib.lines.Line2D at 0x7ab5bcce2320>]"
            ]
          },
          "execution_count": 88,
          "metadata": {},
          "output_type": "execute_result"
        },
        {
          "data": {
            "image/png": "[encoded data removed]",
            "text/plain": [
              "<Figure size 640x480 with 1 Axes>"
            ]
          },
          "metadata": {},
          "output_type": "display_data"
        }
      ],
      "source": [
        "plt.plot(history.history['loss'])"
      ]
    }
  ],
  "metadata": {
    "colab": {
      "provenance": []
    },
    "kernelspec": {
      "display_name": "Python 3",
      "name": "python3"
    },
    "language_info": {
      "name": "python"
    }
  },
  "nbformat": 4,
  "nbformat_minor": 0
}
