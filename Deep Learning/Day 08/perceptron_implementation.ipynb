{
 "cells": [
  {
   "cell_type": "code",
   "execution_count": 3,
   "metadata": {},
   "outputs": [],
   "source": [
    "import tensorflow as tf\n",
    "\n",
    "w = tf.Variable([.2])\n",
    "b = tf.Variable([-.2])\n",
    "x = tf.Variable([1., 2., 3., 4.])\n",
    "y = tf.Variable([0, -1., -2., -3.])"
   ]
  },
  {
   "cell_type": "code",
   "execution_count": 4,
   "metadata": {},
   "outputs": [],
   "source": [
    "optimizer = tf.optimizers.SGD(learning_rate=0.01)"
   ]
  },
  {
   "cell_type": "code",
   "execution_count": 5,
   "metadata": {},
   "outputs": [
    {
     "name": "stdout",
     "output_type": "stream",
     "text": [
      "Epoch 0: Loss = 20.15999984741211\n",
      "Epoch 10: Loss = 1.090765357017517\n",
      "Epoch 20: Loss = 0.8572048544883728\n",
      "Epoch 30: Loss = 0.67365562915802\n",
      "Epoch 40: Loss = 0.529408872127533\n",
      "Epoch 50: Loss = 0.41604894399642944\n",
      "Epoch 60: Loss = 0.3269624710083008\n",
      "Epoch 70: Loss = 0.2569514811038971\n",
      "Epoch 80: Loss = 0.20193162560462952\n",
      "Epoch 90: Loss = 0.15869295597076416\n"
     ]
    }
   ],
   "source": [
    "# Training loop\n",
    "\n",
    "for epoch in range(100):  # You can adjust the number of epochs as needed\n",
    "    with tf.GradientTape() as tape:\n",
    "        # Forward pass: Compute predicted y\n",
    "        linear_model = w * x + b\n",
    "        # Compute the loss\n",
    "        squared_deltas = tf.square(linear_model - y)\n",
    "        loss = tf.reduce_sum(squared_deltas)\n",
    "\n",
    "    # Compute the gradients with respect to `w` and `b`\n",
    "    gradients = tape.gradient(loss, [w, b])\n",
    "\n",
    "    # Update `w` and `b` using the optimizer\n",
    "    optimizer.apply_gradients(zip(gradients, [w, b]))\n",
    "\n",
    "    # Print the loss every 10 epochs to monitor progress\n",
    "    if epoch % 10 == 0:\n",
    "        print(f\"Epoch {epoch}: Loss = {loss.numpy()}\")"
   ]
  }
 ],
 "metadata": {
  "kernelspec": {
   "display_name": "Python 3",
   "language": "python",
   "name": "python3"
  },
  "language_info": {
   "codemirror_mode": {
    "name": "ipython",
    "version": 3
   },
   "file_extension": ".py",
   "mimetype": "text/x-python",
   "name": "python",
   "nbconvert_exporter": "python",
   "pygments_lexer": "ipython3",
   "version": "3.11.5"
  }
 },
 "nbformat": 4,
 "nbformat_minor": 2
}
