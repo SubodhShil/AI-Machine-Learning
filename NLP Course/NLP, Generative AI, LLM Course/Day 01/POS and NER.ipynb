{
  "nbformat": 4,
  "nbformat_minor": 0,
  "metadata": {
    "colab": {
      "provenance": [],
      "collapsed_sections": [
        "2SjIu5ZyFk41",
        "gMT4Ppk9C4dF"
      ],
      "gpuType": "V28"
    },
    "kernelspec": {
      "name": "python3",
      "display_name": "Python 3"
    },
    "language_info": {
      "name": "python"
    },
    "accelerator": "TPU"
  },
  "cells": [
    {
      "cell_type": "markdown",
      "source": [
        "# Parts of Speech tagging"
      ],
      "metadata": {
        "id": "2SjIu5ZyFk41"
      }
    },
    {
      "cell_type": "markdown",
      "source": [
        "## POS tagging using NLTK"
      ],
      "metadata": {
        "id": "gMT4Ppk9C4dF"
      }
    },
    {
      "cell_type": "code",
      "execution_count": 8,
      "metadata": {
        "id": "L4oi3NbBf5dg",
        "colab": {
          "base_uri": "https://localhost:8080/"
        },
        "outputId": "3dae1a30-cae1-4966-ca84-22568612f619"
      },
      "outputs": [
        {
          "output_type": "stream",
          "name": "stderr",
          "text": [
            "[nltk_data] Downloading package punkt_tab to /root/nltk_data...\n",
            "[nltk_data]   Package punkt_tab is already up-to-date!\n"
          ]
        },
        {
          "output_type": "execute_result",
          "data": {
            "text/plain": [
              "True"
            ]
          },
          "metadata": {},
          "execution_count": 8
        }
      ],
      "source": [
        "import nltk\n",
        "from nltk.corpus import stopwords\n",
        "nltk.download('punkt_tab')"
      ]
    },
    {
      "cell_type": "code",
      "source": [
        "paragraph = \"\"\"This is a ten-line paragraph.  It's designed to demonstrate how to create a multi-line string variable in Python.  Each line represents a sentence or part of a sentence contributing to a cohesive thought.  We can use triple quotes to define strings that span multiple lines.  This is useful for longer blocks of text, such as paragraphs, docstrings, or even code snippets.  The paragraph can explore different aspects of a given topic, making it more informative and engaging.  Using this technique, we avoid messy line breaks and ensure proper formatting.  This multi-line string can be easily stored and manipulated.  Finally, this completes our ten-line paragraph example.\"\"\""
      ],
      "metadata": {
        "id": "u5NsCmUp96Lb"
      },
      "execution_count": 24,
      "outputs": []
    },
    {
      "cell_type": "code",
      "source": [
        "sentences = nltk.sent_tokenize(paragraph)\n",
        "sentences"
      ],
      "metadata": {
        "colab": {
          "base_uri": "https://localhost:8080/"
        },
        "id": "L-1Ds0vK99b8",
        "outputId": "6fe17389-8103-4a73-e213-0f3899186eb9"
      },
      "execution_count": 25,
      "outputs": [
        {
          "output_type": "execute_result",
          "data": {
            "text/plain": [
              "['This is a ten-line paragraph.',\n",
              " \"It's designed to demonstrate how to create a multi-line string variable in Python.\",\n",
              " 'Each line represents a sentence or part of a sentence contributing to a cohesive thought.',\n",
              " 'We can use triple quotes to define strings that span multiple lines.',\n",
              " 'This is useful for longer blocks of text, such as paragraphs, docstrings, or even code snippets.',\n",
              " 'The paragraph can explore different aspects of a given topic, making it more informative and engaging.',\n",
              " 'Using this technique, we avoid messy line breaks and ensure proper formatting.',\n",
              " 'This multi-line string can be easily stored and manipulated.',\n",
              " 'Finally, this completes our ten-line paragraph example.']"
            ]
          },
          "metadata": {},
          "execution_count": 25
        }
      ]
    },
    {
      "cell_type": "code",
      "source": [
        "# Download pos tag\n",
        "nltk.download('stopwords')\n",
        "nltk.download('averaged_perceptron_tagger_eng')"
      ],
      "metadata": {
        "colab": {
          "base_uri": "https://localhost:8080/"
        },
        "id": "ZRWS8e9HAQeI",
        "outputId": "88280dcf-0049-4db1-c8fe-1ced4e88625f"
      },
      "execution_count": 17,
      "outputs": [
        {
          "output_type": "stream",
          "name": "stderr",
          "text": [
            "[nltk_data] Downloading package stopwords to /root/nltk_data...\n",
            "[nltk_data]   Package stopwords is already up-to-date!\n",
            "[nltk_data] Downloading package averaged_perceptron_tagger_eng to\n",
            "[nltk_data]     /root/nltk_data...\n",
            "[nltk_data]   Unzipping taggers/averaged_perceptron_tagger_eng.zip.\n"
          ]
        },
        {
          "output_type": "execute_result",
          "data": {
            "text/plain": [
              "True"
            ]
          },
          "metadata": {},
          "execution_count": 17
        }
      ]
    },
    {
      "cell_type": "code",
      "source": [
        "# In Python, dictionary keys must be immutable (hashable) types, such as strings, numbers, or tuples."
      ],
      "metadata": {
        "id": "sE5bAeS2BOui"
      },
      "execution_count": null,
      "outputs": []
    },
    {
      "cell_type": "code",
      "source": [
        "pos_dict = {}\n",
        "\n",
        "for sentence in sentences:\n",
        "  words = nltk.word_tokenize(sentence)\n",
        "  filtered_words = [word for word in words if word not in set(stopwords.words('english'))]\n",
        "  pos_dict[tuple(words)] = nltk.pos_tag(filtered_words)\n",
        "\n",
        "for item, pos_tags in pos_dict.items():\n",
        "  print(f\"{item} 👉 {pos_tags}\")\n"
      ],
      "metadata": {
        "colab": {
          "base_uri": "https://localhost:8080/"
        },
        "id": "_SQewy6b-rtL",
        "outputId": "f4e432c5-5006-4d9b-9d0b-75d4bc0205f7"
      },
      "execution_count": 28,
      "outputs": [
        {
          "output_type": "stream",
          "name": "stdout",
          "text": [
            "('This', 'is', 'a', 'ten-line', 'paragraph', '.') 👉 [('This', 'DT'), ('ten-line', 'JJ'), ('paragraph', 'NN'), ('.', '.')]\n",
            "('It', \"'s\", 'designed', 'to', 'demonstrate', 'how', 'to', 'create', 'a', 'multi-line', 'string', 'variable', 'in', 'Python', '.') 👉 [('It', 'PRP'), (\"'s\", 'VBZ'), ('designed', 'VBN'), ('demonstrate', 'JJ'), ('create', 'NN'), ('multi-line', 'JJ'), ('string', 'NN'), ('variable', 'JJ'), ('Python', 'NNP'), ('.', '.')]\n",
            "('Each', 'line', 'represents', 'a', 'sentence', 'or', 'part', 'of', 'a', 'sentence', 'contributing', 'to', 'a', 'cohesive', 'thought', '.') 👉 [('Each', 'DT'), ('line', 'NN'), ('represents', 'VBZ'), ('sentence', 'NN'), ('part', 'NN'), ('sentence', 'NN'), ('contributing', 'VBG'), ('cohesive', 'JJ'), ('thought', 'NN'), ('.', '.')]\n",
            "('We', 'can', 'use', 'triple', 'quotes', 'to', 'define', 'strings', 'that', 'span', 'multiple', 'lines', '.') 👉 [('We', 'PRP'), ('use', 'VBP'), ('triple', 'JJ'), ('quotes', 'NNS'), ('define', 'VBP'), ('strings', 'NNS'), ('span', 'VBP'), ('multiple', 'JJ'), ('lines', 'NNS'), ('.', '.')]\n",
            "('This', 'is', 'useful', 'for', 'longer', 'blocks', 'of', 'text', ',', 'such', 'as', 'paragraphs', ',', 'docstrings', ',', 'or', 'even', 'code', 'snippets', '.') 👉 [('This', 'DT'), ('useful', 'JJ'), ('longer', 'JJR'), ('blocks', 'NNS'), ('text', 'NN'), (',', ','), ('paragraphs', 'NN'), (',', ','), ('docstrings', 'NNS'), (',', ','), ('even', 'RB'), ('code', 'JJ'), ('snippets', 'NNS'), ('.', '.')]\n",
            "('The', 'paragraph', 'can', 'explore', 'different', 'aspects', 'of', 'a', 'given', 'topic', ',', 'making', 'it', 'more', 'informative', 'and', 'engaging', '.') 👉 [('The', 'DT'), ('paragraph', 'NN'), ('explore', 'RB'), ('different', 'JJ'), ('aspects', 'NNS'), ('given', 'VBN'), ('topic', 'NN'), (',', ','), ('making', 'VBG'), ('informative', 'JJ'), ('engaging', 'NN'), ('.', '.')]\n",
            "('Using', 'this', 'technique', ',', 'we', 'avoid', 'messy', 'line', 'breaks', 'and', 'ensure', 'proper', 'formatting', '.') 👉 [('Using', 'VBG'), ('technique', 'NN'), (',', ','), ('avoid', 'JJ'), ('messy', 'JJ'), ('line', 'NN'), ('breaks', 'NNS'), ('ensure', 'VB'), ('proper', 'JJ'), ('formatting', 'NN'), ('.', '.')]\n",
            "('This', 'multi-line', 'string', 'can', 'be', 'easily', 'stored', 'and', 'manipulated', '.') 👉 [('This', 'DT'), ('multi-line', 'JJ'), ('string', 'NN'), ('easily', 'RB'), ('stored', 'VBD'), ('manipulated', 'VBN'), ('.', '.')]\n",
            "('Finally', ',', 'this', 'completes', 'our', 'ten-line', 'paragraph', 'example', '.') 👉 [('Finally', 'RB'), (',', ','), ('completes', 'VBZ'), ('ten-line', 'JJ'), ('paragraph', 'NN'), ('example', 'NN'), ('.', '.')]\n"
          ]
        }
      ]
    },
    {
      "cell_type": "markdown",
      "source": [
        "## POS tagging using SpaCy"
      ],
      "metadata": {
        "id": "DAEGu2L-C74m"
      }
    },
    {
      "cell_type": "code",
      "source": [
        "import spacy"
      ],
      "metadata": {
        "id": "g9Tvsv6BC_qI"
      },
      "execution_count": 29,
      "outputs": []
    },
    {
      "cell_type": "code",
      "source": [
        "nlp = spacy.load(\"en_core_web_sm\")"
      ],
      "metadata": {
        "id": "JdcSGbLuDCXC"
      },
      "execution_count": 30,
      "outputs": []
    },
    {
      "cell_type": "code",
      "source": [
        "doc = nlp(\"\"\"This is a ten-line paragraph.  It's designed to demonstrate how to create a multi-line string variable in Python.  Each line represents a sentence or part of a sentence contributing to a cohesive thought.  We can use triple quotes to define strings that span multiple lines.  This is useful for longer blocks of text, such as paragraphs, docstrings, or even code snippets.  The paragraph can explore different aspects of a given topic, making it more informative and engaging.  Using this technique, we avoid messy line breaks and ensure proper formatting.  This multi-line string can be easily stored and manipulated.  Finally, this completes our ten-line paragraph example.\"\"\")"
      ],
      "metadata": {
        "id": "U4F0WZcYDM03"
      },
      "execution_count": 32,
      "outputs": []
    },
    {
      "cell_type": "code",
      "source": [
        "doc"
      ],
      "metadata": {
        "colab": {
          "base_uri": "https://localhost:8080/"
        },
        "id": "707BVfqIDUJi",
        "outputId": "666b65f7-4604-425e-8450-a0ebd59947a8"
      },
      "execution_count": 33,
      "outputs": [
        {
          "output_type": "execute_result",
          "data": {
            "text/plain": [
              "This is a ten-line paragraph.  It's designed to demonstrate how to create a multi-line string variable in Python.  Each line represents a sentence or part of a sentence contributing to a cohesive thought.  We can use triple quotes to define strings that span multiple lines.  This is useful for longer blocks of text, such as paragraphs, docstrings, or even code snippets.  The paragraph can explore different aspects of a given topic, making it more informative and engaging.  Using this technique, we avoid messy line breaks and ensure proper formatting.  This multi-line string can be easily stored and manipulated.  Finally, this completes our ten-line paragraph example."
            ]
          },
          "metadata": {},
          "execution_count": 33
        }
      ]
    },
    {
      "cell_type": "code",
      "source": [
        "for word in doc:\n",
        "  print(f\"{word} 👉 {word.pos_} | {spacy.explain(word.pos_)}\")"
      ],
      "metadata": {
        "colab": {
          "base_uri": "https://localhost:8080/"
        },
        "id": "EolzJrYQDbVO",
        "outputId": "57533417-ee77-446c-ca61-9eb7e4228219"
      },
      "execution_count": 36,
      "outputs": [
        {
          "output_type": "stream",
          "name": "stdout",
          "text": [
            "This 👉 PRON | pronoun\n",
            "is 👉 AUX | auxiliary\n",
            "a 👉 DET | determiner\n",
            "ten 👉 NUM | numeral\n",
            "- 👉 PUNCT | punctuation\n",
            "line 👉 NOUN | noun\n",
            "paragraph 👉 NOUN | noun\n",
            ". 👉 PUNCT | punctuation\n",
            "  👉 SPACE | space\n",
            "It 👉 PRON | pronoun\n",
            "'s 👉 AUX | auxiliary\n",
            "designed 👉 VERB | verb\n",
            "to 👉 PART | particle\n",
            "demonstrate 👉 VERB | verb\n",
            "how 👉 SCONJ | subordinating conjunction\n",
            "to 👉 PART | particle\n",
            "create 👉 VERB | verb\n",
            "a 👉 DET | determiner\n",
            "multi 👉 ADJ | adjective\n",
            "- 👉 ADJ | adjective\n",
            "line 👉 ADJ | adjective\n",
            "string 👉 NOUN | noun\n",
            "variable 👉 NOUN | noun\n",
            "in 👉 ADP | adposition\n",
            "Python 👉 PROPN | proper noun\n",
            ". 👉 PUNCT | punctuation\n",
            "  👉 SPACE | space\n",
            "Each 👉 DET | determiner\n",
            "line 👉 NOUN | noun\n",
            "represents 👉 VERB | verb\n",
            "a 👉 DET | determiner\n",
            "sentence 👉 NOUN | noun\n",
            "or 👉 CCONJ | coordinating conjunction\n",
            "part 👉 NOUN | noun\n",
            "of 👉 ADP | adposition\n",
            "a 👉 DET | determiner\n",
            "sentence 👉 NOUN | noun\n",
            "contributing 👉 VERB | verb\n",
            "to 👉 ADP | adposition\n",
            "a 👉 DET | determiner\n",
            "cohesive 👉 ADJ | adjective\n",
            "thought 👉 NOUN | noun\n",
            ". 👉 PUNCT | punctuation\n",
            "  👉 SPACE | space\n",
            "We 👉 PRON | pronoun\n",
            "can 👉 AUX | auxiliary\n",
            "use 👉 VERB | verb\n",
            "triple 👉 ADJ | adjective\n",
            "quotes 👉 NOUN | noun\n",
            "to 👉 PART | particle\n",
            "define 👉 VERB | verb\n",
            "strings 👉 NOUN | noun\n",
            "that 👉 PRON | pronoun\n",
            "span 👉 VERB | verb\n",
            "multiple 👉 ADJ | adjective\n",
            "lines 👉 NOUN | noun\n",
            ". 👉 PUNCT | punctuation\n",
            "  👉 SPACE | space\n",
            "This 👉 PRON | pronoun\n",
            "is 👉 AUX | auxiliary\n",
            "useful 👉 ADJ | adjective\n",
            "for 👉 ADP | adposition\n",
            "longer 👉 ADJ | adjective\n",
            "blocks 👉 NOUN | noun\n",
            "of 👉 ADP | adposition\n",
            "text 👉 NOUN | noun\n",
            ", 👉 PUNCT | punctuation\n",
            "such 👉 ADJ | adjective\n",
            "as 👉 ADP | adposition\n",
            "paragraphs 👉 NOUN | noun\n",
            ", 👉 PUNCT | punctuation\n",
            "docstrings 👉 NOUN | noun\n",
            ", 👉 PUNCT | punctuation\n",
            "or 👉 CCONJ | coordinating conjunction\n",
            "even 👉 ADV | adverb\n",
            "code 👉 NOUN | noun\n",
            "snippets 👉 NOUN | noun\n",
            ". 👉 PUNCT | punctuation\n",
            "  👉 SPACE | space\n",
            "The 👉 DET | determiner\n",
            "paragraph 👉 NOUN | noun\n",
            "can 👉 AUX | auxiliary\n",
            "explore 👉 VERB | verb\n",
            "different 👉 ADJ | adjective\n",
            "aspects 👉 NOUN | noun\n",
            "of 👉 ADP | adposition\n",
            "a 👉 DET | determiner\n",
            "given 👉 VERB | verb\n",
            "topic 👉 NOUN | noun\n",
            ", 👉 PUNCT | punctuation\n",
            "making 👉 VERB | verb\n",
            "it 👉 PRON | pronoun\n",
            "more 👉 ADV | adverb\n",
            "informative 👉 ADJ | adjective\n",
            "and 👉 CCONJ | coordinating conjunction\n",
            "engaging 👉 ADJ | adjective\n",
            ". 👉 PUNCT | punctuation\n",
            "  👉 SPACE | space\n",
            "Using 👉 VERB | verb\n",
            "this 👉 DET | determiner\n",
            "technique 👉 NOUN | noun\n",
            ", 👉 PUNCT | punctuation\n",
            "we 👉 PRON | pronoun\n",
            "avoid 👉 VERB | verb\n",
            "messy 👉 ADJ | adjective\n",
            "line 👉 NOUN | noun\n",
            "breaks 👉 NOUN | noun\n",
            "and 👉 CCONJ | coordinating conjunction\n",
            "ensure 👉 VERB | verb\n",
            "proper 👉 ADJ | adjective\n",
            "formatting 👉 NOUN | noun\n",
            ". 👉 PUNCT | punctuation\n",
            "  👉 SPACE | space\n",
            "This 👉 DET | determiner\n",
            "multi 👉 ADJ | adjective\n",
            "- 👉 ADJ | adjective\n",
            "line 👉 ADJ | adjective\n",
            "string 👉 NOUN | noun\n",
            "can 👉 AUX | auxiliary\n",
            "be 👉 AUX | auxiliary\n",
            "easily 👉 ADV | adverb\n",
            "stored 👉 VERB | verb\n",
            "and 👉 CCONJ | coordinating conjunction\n",
            "manipulated 👉 VERB | verb\n",
            ". 👉 PUNCT | punctuation\n",
            "  👉 SPACE | space\n",
            "Finally 👉 ADV | adverb\n",
            ", 👉 PUNCT | punctuation\n",
            "this 👉 PRON | pronoun\n",
            "completes 👉 VERB | verb\n",
            "our 👉 PRON | pronoun\n",
            "ten 👉 NUM | numeral\n",
            "- 👉 PUNCT | punctuation\n",
            "line 👉 NOUN | noun\n",
            "paragraph 👉 NOUN | noun\n",
            "example 👉 NOUN | noun\n",
            ". 👉 PUNCT | punctuation\n"
          ]
        }
      ]
    },
    {
      "cell_type": "markdown",
      "source": [
        "# Name Entity Recognition"
      ],
      "metadata": {
        "id": "XwLDf8vrFpWu"
      }
    },
    {
      "cell_type": "markdown",
      "source": [
        "## Using NLTK\n"
      ],
      "metadata": {
        "id": "xa9kpy0iFwTK"
      }
    },
    {
      "cell_type": "code",
      "source": [
        "sentence = \"\"\"\n",
        "Checking things off the list is the best feeling.\n",
        "Lisa had a big, radiant smile.\n",
        "It was the most exciting match I’ve ever seen.\n",
        "The dog was so tired he fell asleep on the way to his doghouse.\n",
        "She twisted her ankle and couldn't go to soccer anymore.\n",
        "The pool was green and covered in gross-looking algae.\n",
        "Have you heard the news?\n",
        "Where do you live?\n",
        "\"\"\""
      ],
      "metadata": {
        "id": "i4PUgkIKFvyK"
      },
      "execution_count": 37,
      "outputs": []
    },
    {
      "cell_type": "code",
      "source": [
        "nltk.download('maxent_ne_chunker_tab')\n",
        "nltk.download('words')"
      ],
      "metadata": {
        "colab": {
          "base_uri": "https://localhost:8080/"
        },
        "id": "lO47AZUVIHGG",
        "outputId": "c61fc319-5636-444a-99e7-e4a776857834"
      },
      "execution_count": 47,
      "outputs": [
        {
          "output_type": "stream",
          "name": "stderr",
          "text": [
            "[nltk_data] Downloading package maxent_ne_chunker_tab to\n",
            "[nltk_data]     /root/nltk_data...\n",
            "[nltk_data]   Package maxent_ne_chunker_tab is already up-to-date!\n",
            "[nltk_data] Downloading package words to /root/nltk_data...\n",
            "[nltk_data]   Unzipping corpora/words.zip.\n"
          ]
        },
        {
          "output_type": "execute_result",
          "data": {
            "text/plain": [
              "True"
            ]
          },
          "metadata": {},
          "execution_count": 47
        }
      ]
    },
    {
      "cell_type": "code",
      "source": [
        "!pip install svgling"
      ],
      "metadata": {
        "colab": {
          "base_uri": "https://localhost:8080/"
        },
        "id": "88025mNCIhGs",
        "outputId": "fba4207c-81fa-4019-c635-63f83c7532ea"
      },
      "execution_count": 49,
      "outputs": [
        {
          "output_type": "stream",
          "name": "stdout",
          "text": [
            "Collecting svgling\n",
            "  Downloading svgling-0.5.0-py3-none-any.whl.metadata (7.4 kB)\n",
            "Collecting svgwrite (from svgling)\n",
            "  Downloading svgwrite-1.4.3-py3-none-any.whl.metadata (8.8 kB)\n",
            "Downloading svgling-0.5.0-py3-none-any.whl (31 kB)\n",
            "Downloading svgwrite-1.4.3-py3-none-any.whl (67 kB)\n",
            "\u001b[2K   \u001b[90m━━━━━━━━━━━━━━━━━━━━━━━━━━━━━━━━━━━━━━━━\u001b[0m \u001b[32m67.1/67.1 kB\u001b[0m \u001b[31m2.2 MB/s\u001b[0m eta \u001b[36m0:00:00\u001b[0m\n",
            "\u001b[?25hInstalling collected packages: svgwrite, svgling\n",
            "Successfully installed svgling-0.5.0 svgwrite-1.4.3\n"
          ]
        }
      ]
    },
    {
      "cell_type": "code",
      "source": [
        "words = nltk.word_tokenize(sentence)"
      ],
      "metadata": {
        "id": "xr_SgrKPHDLM"
      },
      "execution_count": 45,
      "outputs": []
    },
    {
      "cell_type": "code",
      "source": [
        "tag_elements = nltk.pos_tag(words)"
      ],
      "metadata": {
        "id": "fId6Akf1Hi7M"
      },
      "execution_count": 40,
      "outputs": []
    },
    {
      "cell_type": "code",
      "source": [
        "nltk.ne_chunk(tag_elements)"
      ],
      "metadata": {
        "colab": {
          "base_uri": "https://localhost:8080/",
          "height": 209
        },
        "id": "aqPSdKZaH5fg",
        "outputId": "88950a4f-1c2a-49b3-905d-4cb1c30e3a7c"
      },
      "execution_count": 50,
      "outputs": [
        {
          "output_type": "execute_result",
          "data": {
            "text/plain": [
              "Tree('S', [('Checking', 'VBG'), ('things', 'NNS'), ('off', 'IN'), ('the', 'DT'), ('list', 'NN'), ('is', 'VBZ'), ('the', 'DT'), ('best', 'JJS'), ('feeling', 'NN'), ('.', '.'), Tree('PERSON', [('Lisa', 'NNP')]), ('had', 'VBD'), ('a', 'DT'), ('big', 'JJ'), (',', ','), ('radiant', 'JJ'), ('smile', 'NN'), ('.', '.'), ('It', 'PRP'), ('was', 'VBD'), ('the', 'DT'), ('most', 'RBS'), ('exciting', 'JJ'), ('match', 'NN'), ('I', 'PRP'), ('’', 'VBP'), ('ve', 'JJ'), ('ever', 'RB'), ('seen', 'VBN'), ('.', '.'), ('The', 'DT'), ('dog', 'NN'), ('was', 'VBD'), ('so', 'RB'), ('tired', 'JJ'), ('he', 'PRP'), ('fell', 'VBD'), ('asleep', 'RB'), ('on', 'IN'), ('the', 'DT'), ('way', 'NN'), ('to', 'TO'), ('his', 'PRP$'), ('doghouse', 'NN'), ('.', '.'), ('She', 'PRP'), ('twisted', 'VBD'), ('her', 'PRP'), ('ankle', 'NN'), ('and', 'CC'), ('could', 'MD'), (\"n't\", 'RB'), ('go', 'VB'), ('to', 'TO'), ('soccer', 'VB'), ('anymore', 'RB'), ('.', '.'), ('The', 'DT'), ('pool', 'NN'), ('was', 'VBD'), ('green', 'JJ'), ('and', 'CC'), ('covered', 'VBN'), ('in', 'IN'), ('gross-looking', 'JJ'), ('algae', 'NN'), ('.', '.'), ('Have', 'VBP'), ('you', 'PRP'), ('heard', 'VBP'), ('the', 'DT'), ('news', 'NN'), ('?', '.'), ('Where', 'WRB'), ('do', 'VB'), ('you', 'PRP'), ('live', 'VB'), ('?', '.')])"
            ],
            "image/svg+xml": "<svg baseProfile=\"full\" height=\"168px\" preserveAspectRatio=\"xMidYMid meet\" style=\"font-family: times, serif; font-weight: normal; font-style: normal; font-size: 16px\" version=\"1.1\" viewBox=\"0,0,3592.0,168.0\" width=\"3592px\" xmlns=\"http://www.w3.org/2000/svg\" xmlns:ev=\"http://www.w3.org/2001/xml-events\" xmlns:xlink=\"http://www.w3.org/1999/xlink\"><defs /><svg width=\"100%\" x=\"0\" y=\"0px\"><defs /><text text-anchor=\"middle\" x=\"50%\" y=\"16px\">S</text></svg><svg width=\"2.22717%\" x=\"0%\" y=\"48px\"><defs /><svg width=\"100%\" x=\"0\" y=\"0px\"><defs /><text text-anchor=\"middle\" x=\"50%\" y=\"16px\">Checking</text></svg><svg width=\"100%\" x=\"0%\" y=\"48px\"><defs /><svg width=\"100%\" x=\"0\" y=\"0px\"><defs /><text text-anchor=\"middle\" x=\"50%\" y=\"16px\">VBG</text></svg></svg><line stroke=\"black\" x1=\"50%\" x2=\"50%\" y1=\"20px\" y2=\"48px\" /></svg><line stroke=\"black\" x1=\"50%\" x2=\"1.11359%\" y1=\"20px\" y2=\"48px\" /><svg width=\"1.78174%\" x=\"2.22717%\" y=\"48px\"><defs /><svg width=\"100%\" x=\"0\" y=\"0px\"><defs /><text text-anchor=\"middle\" x=\"50%\" y=\"16px\">things</text></svg><svg width=\"100%\" x=\"0%\" y=\"48px\"><defs /><svg width=\"100%\" x=\"0\" y=\"0px\"><defs /><text text-anchor=\"middle\" x=\"50%\" y=\"16px\">NNS</text></svg></svg><line stroke=\"black\" x1=\"50%\" x2=\"50%\" y1=\"20px\" y2=\"48px\" /></svg><line stroke=\"black\" x1=\"50%\" x2=\"3.11804%\" y1=\"20px\" y2=\"48px\" /><svg width=\"1.11359%\" x=\"4.00891%\" y=\"48px\"><defs /><svg width=\"100%\" x=\"0\" y=\"0px\"><defs /><text text-anchor=\"middle\" x=\"50%\" y=\"16px\">off</text></svg><svg width=\"100%\" x=\"0%\" y=\"48px\"><defs /><svg width=\"100%\" x=\"0\" y=\"0px\"><defs /><text text-anchor=\"middle\" x=\"50%\" y=\"16px\">IN</text></svg></svg><line stroke=\"black\" x1=\"50%\" x2=\"50%\" y1=\"20px\" y2=\"48px\" /></svg><line stroke=\"black\" x1=\"50%\" x2=\"4.5657%\" y1=\"20px\" y2=\"48px\" /><svg width=\"1.11359%\" x=\"5.12249%\" y=\"48px\"><defs /><svg width=\"100%\" x=\"0\" y=\"0px\"><defs /><text text-anchor=\"middle\" x=\"50%\" y=\"16px\">the</text></svg><svg width=\"100%\" x=\"0%\" y=\"48px\"><defs /><svg width=\"100%\" x=\"0\" y=\"0px\"><defs /><text text-anchor=\"middle\" x=\"50%\" y=\"16px\">DT</text></svg></svg><line stroke=\"black\" x1=\"50%\" x2=\"50%\" y1=\"20px\" y2=\"48px\" /></svg><line stroke=\"black\" x1=\"50%\" x2=\"5.67929%\" y1=\"20px\" y2=\"48px\" /><svg width=\"1.3363%\" x=\"6.23608%\" y=\"48px\"><defs /><svg width=\"100%\" x=\"0\" y=\"0px\"><defs /><text text-anchor=\"middle\" x=\"50%\" y=\"16px\">list</text></svg><svg width=\"100%\" x=\"0%\" y=\"48px\"><defs /><svg width=\"100%\" x=\"0\" y=\"0px\"><defs /><text text-anchor=\"middle\" x=\"50%\" y=\"16px\">NN</text></svg></svg><line stroke=\"black\" x1=\"50%\" x2=\"50%\" y1=\"20px\" y2=\"48px\" /></svg><line stroke=\"black\" x1=\"50%\" x2=\"6.90423%\" y1=\"20px\" y2=\"48px\" /><svg width=\"1.11359%\" x=\"7.57238%\" y=\"48px\"><defs /><svg width=\"100%\" x=\"0\" y=\"0px\"><defs /><text text-anchor=\"middle\" x=\"50%\" y=\"16px\">is</text></svg><svg width=\"100%\" x=\"0%\" y=\"48px\"><defs /><svg width=\"100%\" x=\"0\" y=\"0px\"><defs /><text text-anchor=\"middle\" x=\"50%\" y=\"16px\">VBZ</text></svg></svg><line stroke=\"black\" x1=\"50%\" x2=\"50%\" y1=\"20px\" y2=\"48px\" /></svg><line stroke=\"black\" x1=\"50%\" x2=\"8.12918%\" y1=\"20px\" y2=\"48px\" /><svg width=\"1.11359%\" x=\"8.68597%\" y=\"48px\"><defs /><svg width=\"100%\" x=\"0\" y=\"0px\"><defs /><text text-anchor=\"middle\" x=\"50%\" y=\"16px\">the</text></svg><svg width=\"100%\" x=\"0%\" y=\"48px\"><defs /><svg width=\"100%\" x=\"0\" y=\"0px\"><defs /><text text-anchor=\"middle\" x=\"50%\" y=\"16px\">DT</text></svg></svg><line stroke=\"black\" x1=\"50%\" x2=\"50%\" y1=\"20px\" y2=\"48px\" /></svg><line stroke=\"black\" x1=\"50%\" x2=\"9.24276%\" y1=\"20px\" y2=\"48px\" /><svg width=\"1.3363%\" x=\"9.79955%\" y=\"48px\"><defs /><svg width=\"100%\" x=\"0\" y=\"0px\"><defs /><text text-anchor=\"middle\" x=\"50%\" y=\"16px\">best</text></svg><svg width=\"100%\" x=\"0%\" y=\"48px\"><defs /><svg width=\"100%\" x=\"0\" y=\"0px\"><defs /><text text-anchor=\"middle\" x=\"50%\" y=\"16px\">JJS</text></svg></svg><line stroke=\"black\" x1=\"50%\" x2=\"50%\" y1=\"20px\" y2=\"48px\" /></svg><line stroke=\"black\" x1=\"50%\" x2=\"10.4677%\" y1=\"20px\" y2=\"48px\" /><svg width=\"2.00445%\" x=\"11.1359%\" y=\"48px\"><defs /><svg width=\"100%\" x=\"0\" y=\"0px\"><defs /><text text-anchor=\"middle\" x=\"50%\" y=\"16px\">feeling</text></svg><svg width=\"100%\" x=\"0%\" y=\"48px\"><defs /><svg width=\"100%\" x=\"0\" y=\"0px\"><defs /><text text-anchor=\"middle\" x=\"50%\" y=\"16px\">NN</text></svg></svg><line stroke=\"black\" x1=\"50%\" x2=\"50%\" y1=\"20px\" y2=\"48px\" /></svg><line stroke=\"black\" x1=\"50%\" x2=\"12.1381%\" y1=\"20px\" y2=\"48px\" /><svg width=\"0.668151%\" x=\"13.1403%\" y=\"48px\"><defs /><svg width=\"100%\" x=\"0\" y=\"0px\"><defs /><text text-anchor=\"middle\" x=\"50%\" y=\"16px\">.</text></svg><svg width=\"100%\" x=\"0%\" y=\"48px\"><defs /><svg width=\"100%\" x=\"0\" y=\"0px\"><defs /><text text-anchor=\"middle\" x=\"50%\" y=\"16px\">.</text></svg></svg><line stroke=\"black\" x1=\"50%\" x2=\"50%\" y1=\"20px\" y2=\"48px\" /></svg><line stroke=\"black\" x1=\"50%\" x2=\"13.4744%\" y1=\"20px\" y2=\"48px\" /><svg width=\"1.78174%\" x=\"13.8085%\" y=\"48px\"><defs /><svg width=\"100%\" x=\"0\" y=\"0px\"><defs /><text text-anchor=\"middle\" x=\"50%\" y=\"16px\">PERSON</text></svg><svg width=\"100%\" x=\"0%\" y=\"48px\"><defs /><svg width=\"100%\" x=\"0\" y=\"0px\"><defs /><text text-anchor=\"middle\" x=\"50%\" y=\"16px\">Lisa</text></svg><svg width=\"100%\" x=\"0%\" y=\"48px\"><defs /><svg width=\"100%\" x=\"0\" y=\"0px\"><defs /><text text-anchor=\"middle\" x=\"50%\" y=\"16px\">NNP</text></svg></svg><line stroke=\"black\" x1=\"50%\" x2=\"50%\" y1=\"20px\" y2=\"48px\" /></svg><line stroke=\"black\" x1=\"50%\" x2=\"50%\" y1=\"20px\" y2=\"48px\" /></svg><line stroke=\"black\" x1=\"50%\" x2=\"14.6993%\" y1=\"20px\" y2=\"48px\" /><svg width=\"1.11359%\" x=\"15.5902%\" y=\"48px\"><defs /><svg width=\"100%\" x=\"0\" y=\"0px\"><defs /><text text-anchor=\"middle\" x=\"50%\" y=\"16px\">had</text></svg><svg width=\"100%\" x=\"0%\" y=\"48px\"><defs /><svg width=\"100%\" x=\"0\" y=\"0px\"><defs /><text text-anchor=\"middle\" x=\"50%\" y=\"16px\">VBD</text></svg></svg><line stroke=\"black\" x1=\"50%\" x2=\"50%\" y1=\"20px\" y2=\"48px\" /></svg><line stroke=\"black\" x1=\"50%\" x2=\"16.147%\" y1=\"20px\" y2=\"48px\" /><svg width=\"0.890869%\" x=\"16.7038%\" y=\"48px\"><defs /><svg width=\"100%\" x=\"0\" y=\"0px\"><defs /><text text-anchor=\"middle\" x=\"50%\" y=\"16px\">a</text></svg><svg width=\"100%\" x=\"0%\" y=\"48px\"><defs /><svg width=\"100%\" x=\"0\" y=\"0px\"><defs /><text text-anchor=\"middle\" x=\"50%\" y=\"16px\">DT</text></svg></svg><line stroke=\"black\" x1=\"50%\" x2=\"50%\" y1=\"20px\" y2=\"48px\" /></svg><line stroke=\"black\" x1=\"50%\" x2=\"17.1492%\" y1=\"20px\" y2=\"48px\" /><svg width=\"1.11359%\" x=\"17.5947%\" y=\"48px\"><defs /><svg width=\"100%\" x=\"0\" y=\"0px\"><defs /><text text-anchor=\"middle\" x=\"50%\" y=\"16px\">big</text></svg><svg width=\"100%\" x=\"0%\" y=\"48px\"><defs /><svg width=\"100%\" x=\"0\" y=\"0px\"><defs /><text text-anchor=\"middle\" x=\"50%\" y=\"16px\">JJ</text></svg></svg><line stroke=\"black\" x1=\"50%\" x2=\"50%\" y1=\"20px\" y2=\"48px\" /></svg><line stroke=\"black\" x1=\"50%\" x2=\"18.1514%\" y1=\"20px\" y2=\"48px\" /><svg width=\"0.668151%\" x=\"18.7082%\" y=\"48px\"><defs /><svg width=\"100%\" x=\"0\" y=\"0px\"><defs /><text text-anchor=\"middle\" x=\"50%\" y=\"16px\">,</text></svg><svg width=\"100%\" x=\"0%\" y=\"48px\"><defs /><svg width=\"100%\" x=\"0\" y=\"0px\"><defs /><text text-anchor=\"middle\" x=\"50%\" y=\"16px\">,</text></svg></svg><line stroke=\"black\" x1=\"50%\" x2=\"50%\" y1=\"20px\" y2=\"48px\" /></svg><line stroke=\"black\" x1=\"50%\" x2=\"19.0423%\" y1=\"20px\" y2=\"48px\" /><svg width=\"2.00445%\" x=\"19.3764%\" y=\"48px\"><defs /><svg width=\"100%\" x=\"0\" y=\"0px\"><defs /><text text-anchor=\"middle\" x=\"50%\" y=\"16px\">radiant</text></svg><svg width=\"100%\" x=\"0%\" y=\"48px\"><defs /><svg width=\"100%\" x=\"0\" y=\"0px\"><defs /><text text-anchor=\"middle\" x=\"50%\" y=\"16px\">JJ</text></svg></svg><line stroke=\"black\" x1=\"50%\" x2=\"50%\" y1=\"20px\" y2=\"48px\" /></svg><line stroke=\"black\" x1=\"50%\" x2=\"20.3786%\" y1=\"20px\" y2=\"48px\" /><svg width=\"1.55902%\" x=\"21.3808%\" y=\"48px\"><defs /><svg width=\"100%\" x=\"0\" y=\"0px\"><defs /><text text-anchor=\"middle\" x=\"50%\" y=\"16px\">smile</text></svg><svg width=\"100%\" x=\"0%\" y=\"48px\"><defs /><svg width=\"100%\" x=\"0\" y=\"0px\"><defs /><text text-anchor=\"middle\" x=\"50%\" y=\"16px\">NN</text></svg></svg><line stroke=\"black\" x1=\"50%\" x2=\"50%\" y1=\"20px\" y2=\"48px\" /></svg><line stroke=\"black\" x1=\"50%\" x2=\"22.1604%\" y1=\"20px\" y2=\"48px\" /><svg width=\"0.668151%\" x=\"22.9399%\" y=\"48px\"><defs /><svg width=\"100%\" x=\"0\" y=\"0px\"><defs /><text text-anchor=\"middle\" x=\"50%\" y=\"16px\">.</text></svg><svg width=\"100%\" x=\"0%\" y=\"48px\"><defs /><svg width=\"100%\" x=\"0\" y=\"0px\"><defs /><text text-anchor=\"middle\" x=\"50%\" y=\"16px\">.</text></svg></svg><line stroke=\"black\" x1=\"50%\" x2=\"50%\" y1=\"20px\" y2=\"48px\" /></svg><line stroke=\"black\" x1=\"50%\" x2=\"23.2739%\" y1=\"20px\" y2=\"48px\" /><svg width=\"1.11359%\" x=\"23.608%\" y=\"48px\"><defs /><svg width=\"100%\" x=\"0\" y=\"0px\"><defs /><text text-anchor=\"middle\" x=\"50%\" y=\"16px\">It</text></svg><svg width=\"100%\" x=\"0%\" y=\"48px\"><defs /><svg width=\"100%\" x=\"0\" y=\"0px\"><defs /><text text-anchor=\"middle\" x=\"50%\" y=\"16px\">PRP</text></svg></svg><line stroke=\"black\" x1=\"50%\" x2=\"50%\" y1=\"20px\" y2=\"48px\" /></svg><line stroke=\"black\" x1=\"50%\" x2=\"24.1648%\" y1=\"20px\" y2=\"48px\" /><svg width=\"1.11359%\" x=\"24.7216%\" y=\"48px\"><defs /><svg width=\"100%\" x=\"0\" y=\"0px\"><defs /><text text-anchor=\"middle\" x=\"50%\" y=\"16px\">was</text></svg><svg width=\"100%\" x=\"0%\" y=\"48px\"><defs /><svg width=\"100%\" x=\"0\" y=\"0px\"><defs /><text text-anchor=\"middle\" x=\"50%\" y=\"16px\">VBD</text></svg></svg><line stroke=\"black\" x1=\"50%\" x2=\"50%\" y1=\"20px\" y2=\"48px\" /></svg><line stroke=\"black\" x1=\"50%\" x2=\"25.2784%\" y1=\"20px\" y2=\"48px\" /><svg width=\"1.11359%\" x=\"25.8352%\" y=\"48px\"><defs /><svg width=\"100%\" x=\"0\" y=\"0px\"><defs /><text text-anchor=\"middle\" x=\"50%\" y=\"16px\">the</text></svg><svg width=\"100%\" x=\"0%\" y=\"48px\"><defs /><svg width=\"100%\" x=\"0\" y=\"0px\"><defs /><text text-anchor=\"middle\" x=\"50%\" y=\"16px\">DT</text></svg></svg><line stroke=\"black\" x1=\"50%\" x2=\"50%\" y1=\"20px\" y2=\"48px\" /></svg><line stroke=\"black\" x1=\"50%\" x2=\"26.392%\" y1=\"20px\" y2=\"48px\" /><svg width=\"1.3363%\" x=\"26.9488%\" y=\"48px\"><defs /><svg width=\"100%\" x=\"0\" y=\"0px\"><defs /><text text-anchor=\"middle\" x=\"50%\" y=\"16px\">most</text></svg><svg width=\"100%\" x=\"0%\" y=\"48px\"><defs /><svg width=\"100%\" x=\"0\" y=\"0px\"><defs /><text text-anchor=\"middle\" x=\"50%\" y=\"16px\">RBS</text></svg></svg><line stroke=\"black\" x1=\"50%\" x2=\"50%\" y1=\"20px\" y2=\"48px\" /></svg><line stroke=\"black\" x1=\"50%\" x2=\"27.6169%\" y1=\"20px\" y2=\"48px\" /><svg width=\"2.22717%\" x=\"28.2851%\" y=\"48px\"><defs /><svg width=\"100%\" x=\"0\" y=\"0px\"><defs /><text text-anchor=\"middle\" x=\"50%\" y=\"16px\">exciting</text></svg><svg width=\"100%\" x=\"0%\" y=\"48px\"><defs /><svg width=\"100%\" x=\"0\" y=\"0px\"><defs /><text text-anchor=\"middle\" x=\"50%\" y=\"16px\">JJ</text></svg></svg><line stroke=\"black\" x1=\"50%\" x2=\"50%\" y1=\"20px\" y2=\"48px\" /></svg><line stroke=\"black\" x1=\"50%\" x2=\"29.3987%\" y1=\"20px\" y2=\"48px\" /><svg width=\"1.55902%\" x=\"30.5122%\" y=\"48px\"><defs /><svg width=\"100%\" x=\"0\" y=\"0px\"><defs /><text text-anchor=\"middle\" x=\"50%\" y=\"16px\">match</text></svg><svg width=\"100%\" x=\"0%\" y=\"48px\"><defs /><svg width=\"100%\" x=\"0\" y=\"0px\"><defs /><text text-anchor=\"middle\" x=\"50%\" y=\"16px\">NN</text></svg></svg><line stroke=\"black\" x1=\"50%\" x2=\"50%\" y1=\"20px\" y2=\"48px\" /></svg><line stroke=\"black\" x1=\"50%\" x2=\"31.2918%\" y1=\"20px\" y2=\"48px\" /><svg width=\"1.11359%\" x=\"32.0713%\" y=\"48px\"><defs /><svg width=\"100%\" x=\"0\" y=\"0px\"><defs /><text text-anchor=\"middle\" x=\"50%\" y=\"16px\">I</text></svg><svg width=\"100%\" x=\"0%\" y=\"48px\"><defs /><svg width=\"100%\" x=\"0\" y=\"0px\"><defs /><text text-anchor=\"middle\" x=\"50%\" y=\"16px\">PRP</text></svg></svg><line stroke=\"black\" x1=\"50%\" x2=\"50%\" y1=\"20px\" y2=\"48px\" /></svg><line stroke=\"black\" x1=\"50%\" x2=\"32.6281%\" y1=\"20px\" y2=\"48px\" /><svg width=\"1.11359%\" x=\"33.1849%\" y=\"48px\"><defs /><svg width=\"100%\" x=\"0\" y=\"0px\"><defs /><text text-anchor=\"middle\" x=\"50%\" y=\"16px\">’</text></svg><svg width=\"100%\" x=\"0%\" y=\"48px\"><defs /><svg width=\"100%\" x=\"0\" y=\"0px\"><defs /><text text-anchor=\"middle\" x=\"50%\" y=\"16px\">VBP</text></svg></svg><line stroke=\"black\" x1=\"50%\" x2=\"50%\" y1=\"20px\" y2=\"48px\" /></svg><line stroke=\"black\" x1=\"50%\" x2=\"33.7416%\" y1=\"20px\" y2=\"48px\" /><svg width=\"0.890869%\" x=\"34.2984%\" y=\"48px\"><defs /><svg width=\"100%\" x=\"0\" y=\"0px\"><defs /><text text-anchor=\"middle\" x=\"50%\" y=\"16px\">ve</text></svg><svg width=\"100%\" x=\"0%\" y=\"48px\"><defs /><svg width=\"100%\" x=\"0\" y=\"0px\"><defs /><text text-anchor=\"middle\" x=\"50%\" y=\"16px\">JJ</text></svg></svg><line stroke=\"black\" x1=\"50%\" x2=\"50%\" y1=\"20px\" y2=\"48px\" /></svg><line stroke=\"black\" x1=\"50%\" x2=\"34.7439%\" y1=\"20px\" y2=\"48px\" /><svg width=\"1.3363%\" x=\"35.1893%\" y=\"48px\"><defs /><svg width=\"100%\" x=\"0\" y=\"0px\"><defs /><text text-anchor=\"middle\" x=\"50%\" y=\"16px\">ever</text></svg><svg width=\"100%\" x=\"0%\" y=\"48px\"><defs /><svg width=\"100%\" x=\"0\" y=\"0px\"><defs /><text text-anchor=\"middle\" x=\"50%\" y=\"16px\">RB</text></svg></svg><line stroke=\"black\" x1=\"50%\" x2=\"50%\" y1=\"20px\" y2=\"48px\" /></svg><line stroke=\"black\" x1=\"50%\" x2=\"35.8575%\" y1=\"20px\" y2=\"48px\" /><svg width=\"1.3363%\" x=\"36.5256%\" y=\"48px\"><defs /><svg width=\"100%\" x=\"0\" y=\"0px\"><defs /><text text-anchor=\"middle\" x=\"50%\" y=\"16px\">seen</text></svg><svg width=\"100%\" x=\"0%\" y=\"48px\"><defs /><svg width=\"100%\" x=\"0\" y=\"0px\"><defs /><text text-anchor=\"middle\" x=\"50%\" y=\"16px\">VBN</text></svg></svg><line stroke=\"black\" x1=\"50%\" x2=\"50%\" y1=\"20px\" y2=\"48px\" /></svg><line stroke=\"black\" x1=\"50%\" x2=\"37.1938%\" y1=\"20px\" y2=\"48px\" /><svg width=\"0.668151%\" x=\"37.8619%\" y=\"48px\"><defs /><svg width=\"100%\" x=\"0\" y=\"0px\"><defs /><text text-anchor=\"middle\" x=\"50%\" y=\"16px\">.</text></svg><svg width=\"100%\" x=\"0%\" y=\"48px\"><defs /><svg width=\"100%\" x=\"0\" y=\"0px\"><defs /><text text-anchor=\"middle\" x=\"50%\" y=\"16px\">.</text></svg></svg><line stroke=\"black\" x1=\"50%\" x2=\"50%\" y1=\"20px\" y2=\"48px\" /></svg><line stroke=\"black\" x1=\"50%\" x2=\"38.196%\" y1=\"20px\" y2=\"48px\" /><svg width=\"1.11359%\" x=\"38.5301%\" y=\"48px\"><defs /><svg width=\"100%\" x=\"0\" y=\"0px\"><defs /><text text-anchor=\"middle\" x=\"50%\" y=\"16px\">The</text></svg><svg width=\"100%\" x=\"0%\" y=\"48px\"><defs /><svg width=\"100%\" x=\"0\" y=\"0px\"><defs /><text text-anchor=\"middle\" x=\"50%\" y=\"16px\">DT</text></svg></svg><line stroke=\"black\" x1=\"50%\" x2=\"50%\" y1=\"20px\" y2=\"48px\" /></svg><line stroke=\"black\" x1=\"50%\" x2=\"39.0869%\" y1=\"20px\" y2=\"48px\" /><svg width=\"1.11359%\" x=\"39.6437%\" y=\"48px\"><defs /><svg width=\"100%\" x=\"0\" y=\"0px\"><defs /><text text-anchor=\"middle\" x=\"50%\" y=\"16px\">dog</text></svg><svg width=\"100%\" x=\"0%\" y=\"48px\"><defs /><svg width=\"100%\" x=\"0\" y=\"0px\"><defs /><text text-anchor=\"middle\" x=\"50%\" y=\"16px\">NN</text></svg></svg><line stroke=\"black\" x1=\"50%\" x2=\"50%\" y1=\"20px\" y2=\"48px\" /></svg><line stroke=\"black\" x1=\"50%\" x2=\"40.2004%\" y1=\"20px\" y2=\"48px\" /><svg width=\"1.11359%\" x=\"40.7572%\" y=\"48px\"><defs /><svg width=\"100%\" x=\"0\" y=\"0px\"><defs /><text text-anchor=\"middle\" x=\"50%\" y=\"16px\">was</text></svg><svg width=\"100%\" x=\"0%\" y=\"48px\"><defs /><svg width=\"100%\" x=\"0\" y=\"0px\"><defs /><text text-anchor=\"middle\" x=\"50%\" y=\"16px\">VBD</text></svg></svg><line stroke=\"black\" x1=\"50%\" x2=\"50%\" y1=\"20px\" y2=\"48px\" /></svg><line stroke=\"black\" x1=\"50%\" x2=\"41.314%\" y1=\"20px\" y2=\"48px\" /><svg width=\"0.890869%\" x=\"41.8708%\" y=\"48px\"><defs /><svg width=\"100%\" x=\"0\" y=\"0px\"><defs /><text text-anchor=\"middle\" x=\"50%\" y=\"16px\">so</text></svg><svg width=\"100%\" x=\"0%\" y=\"48px\"><defs /><svg width=\"100%\" x=\"0\" y=\"0px\"><defs /><text text-anchor=\"middle\" x=\"50%\" y=\"16px\">RB</text></svg></svg><line stroke=\"black\" x1=\"50%\" x2=\"50%\" y1=\"20px\" y2=\"48px\" /></svg><line stroke=\"black\" x1=\"50%\" x2=\"42.3163%\" y1=\"20px\" y2=\"48px\" /><svg width=\"1.55902%\" x=\"42.7617%\" y=\"48px\"><defs /><svg width=\"100%\" x=\"0\" y=\"0px\"><defs /><text text-anchor=\"middle\" x=\"50%\" y=\"16px\">tired</text></svg><svg width=\"100%\" x=\"0%\" y=\"48px\"><defs /><svg width=\"100%\" x=\"0\" y=\"0px\"><defs /><text text-anchor=\"middle\" x=\"50%\" y=\"16px\">JJ</text></svg></svg><line stroke=\"black\" x1=\"50%\" x2=\"50%\" y1=\"20px\" y2=\"48px\" /></svg><line stroke=\"black\" x1=\"50%\" x2=\"43.5412%\" y1=\"20px\" y2=\"48px\" /><svg width=\"1.11359%\" x=\"44.3207%\" y=\"48px\"><defs /><svg width=\"100%\" x=\"0\" y=\"0px\"><defs /><text text-anchor=\"middle\" x=\"50%\" y=\"16px\">he</text></svg><svg width=\"100%\" x=\"0%\" y=\"48px\"><defs /><svg width=\"100%\" x=\"0\" y=\"0px\"><defs /><text text-anchor=\"middle\" x=\"50%\" y=\"16px\">PRP</text></svg></svg><line stroke=\"black\" x1=\"50%\" x2=\"50%\" y1=\"20px\" y2=\"48px\" /></svg><line stroke=\"black\" x1=\"50%\" x2=\"44.8775%\" y1=\"20px\" y2=\"48px\" /><svg width=\"1.3363%\" x=\"45.4343%\" y=\"48px\"><defs /><svg width=\"100%\" x=\"0\" y=\"0px\"><defs /><text text-anchor=\"middle\" x=\"50%\" y=\"16px\">fell</text></svg><svg width=\"100%\" x=\"0%\" y=\"48px\"><defs /><svg width=\"100%\" x=\"0\" y=\"0px\"><defs /><text text-anchor=\"middle\" x=\"50%\" y=\"16px\">VBD</text></svg></svg><line stroke=\"black\" x1=\"50%\" x2=\"50%\" y1=\"20px\" y2=\"48px\" /></svg><line stroke=\"black\" x1=\"50%\" x2=\"46.1024%\" y1=\"20px\" y2=\"48px\" /><svg width=\"1.78174%\" x=\"46.7706%\" y=\"48px\"><defs /><svg width=\"100%\" x=\"0\" y=\"0px\"><defs /><text text-anchor=\"middle\" x=\"50%\" y=\"16px\">asleep</text></svg><svg width=\"100%\" x=\"0%\" y=\"48px\"><defs /><svg width=\"100%\" x=\"0\" y=\"0px\"><defs /><text text-anchor=\"middle\" x=\"50%\" y=\"16px\">RB</text></svg></svg><line stroke=\"black\" x1=\"50%\" x2=\"50%\" y1=\"20px\" y2=\"48px\" /></svg><line stroke=\"black\" x1=\"50%\" x2=\"47.6615%\" y1=\"20px\" y2=\"48px\" /><svg width=\"0.890869%\" x=\"48.5523%\" y=\"48px\"><defs /><svg width=\"100%\" x=\"0\" y=\"0px\"><defs /><text text-anchor=\"middle\" x=\"50%\" y=\"16px\">on</text></svg><svg width=\"100%\" x=\"0%\" y=\"48px\"><defs /><svg width=\"100%\" x=\"0\" y=\"0px\"><defs /><text text-anchor=\"middle\" x=\"50%\" y=\"16px\">IN</text></svg></svg><line stroke=\"black\" x1=\"50%\" x2=\"50%\" y1=\"20px\" y2=\"48px\" /></svg><line stroke=\"black\" x1=\"50%\" x2=\"48.9978%\" y1=\"20px\" y2=\"48px\" /><svg width=\"1.11359%\" x=\"49.4432%\" y=\"48px\"><defs /><svg width=\"100%\" x=\"0\" y=\"0px\"><defs /><text text-anchor=\"middle\" x=\"50%\" y=\"16px\">the</text></svg><svg width=\"100%\" x=\"0%\" y=\"48px\"><defs /><svg width=\"100%\" x=\"0\" y=\"0px\"><defs /><text text-anchor=\"middle\" x=\"50%\" y=\"16px\">DT</text></svg></svg><line stroke=\"black\" x1=\"50%\" x2=\"50%\" y1=\"20px\" y2=\"48px\" /></svg><line stroke=\"black\" x1=\"50%\" x2=\"50%\" y1=\"20px\" y2=\"48px\" /><svg width=\"1.11359%\" x=\"50.5568%\" y=\"48px\"><defs /><svg width=\"100%\" x=\"0\" y=\"0px\"><defs /><text text-anchor=\"middle\" x=\"50%\" y=\"16px\">way</text></svg><svg width=\"100%\" x=\"0%\" y=\"48px\"><defs /><svg width=\"100%\" x=\"0\" y=\"0px\"><defs /><text text-anchor=\"middle\" x=\"50%\" y=\"16px\">NN</text></svg></svg><line stroke=\"black\" x1=\"50%\" x2=\"50%\" y1=\"20px\" y2=\"48px\" /></svg><line stroke=\"black\" x1=\"50%\" x2=\"51.1136%\" y1=\"20px\" y2=\"48px\" /><svg width=\"0.890869%\" x=\"51.6704%\" y=\"48px\"><defs /><svg width=\"100%\" x=\"0\" y=\"0px\"><defs /><text text-anchor=\"middle\" x=\"50%\" y=\"16px\">to</text></svg><svg width=\"100%\" x=\"0%\" y=\"48px\"><defs /><svg width=\"100%\" x=\"0\" y=\"0px\"><defs /><text text-anchor=\"middle\" x=\"50%\" y=\"16px\">TO</text></svg></svg><line stroke=\"black\" x1=\"50%\" x2=\"50%\" y1=\"20px\" y2=\"48px\" /></svg><line stroke=\"black\" x1=\"50%\" x2=\"52.1158%\" y1=\"20px\" y2=\"48px\" /><svg width=\"1.3363%\" x=\"52.5612%\" y=\"48px\"><defs /><svg width=\"100%\" x=\"0\" y=\"0px\"><defs /><text text-anchor=\"middle\" x=\"50%\" y=\"16px\">his</text></svg><svg width=\"100%\" x=\"0%\" y=\"48px\"><defs /><svg width=\"100%\" x=\"0\" y=\"0px\"><defs /><text text-anchor=\"middle\" x=\"50%\" y=\"16px\">PRP$</text></svg></svg><line stroke=\"black\" x1=\"50%\" x2=\"50%\" y1=\"20px\" y2=\"48px\" /></svg><line stroke=\"black\" x1=\"50%\" x2=\"53.2294%\" y1=\"20px\" y2=\"48px\" /><svg width=\"2.22717%\" x=\"53.8976%\" y=\"48px\"><defs /><svg width=\"100%\" x=\"0\" y=\"0px\"><defs /><text text-anchor=\"middle\" x=\"50%\" y=\"16px\">doghouse</text></svg><svg width=\"100%\" x=\"0%\" y=\"48px\"><defs /><svg width=\"100%\" x=\"0\" y=\"0px\"><defs /><text text-anchor=\"middle\" x=\"50%\" y=\"16px\">NN</text></svg></svg><line stroke=\"black\" x1=\"50%\" x2=\"50%\" y1=\"20px\" y2=\"48px\" /></svg><line stroke=\"black\" x1=\"50%\" x2=\"55.0111%\" y1=\"20px\" y2=\"48px\" /><svg width=\"0.668151%\" x=\"56.1247%\" y=\"48px\"><defs /><svg width=\"100%\" x=\"0\" y=\"0px\"><defs /><text text-anchor=\"middle\" x=\"50%\" y=\"16px\">.</text></svg><svg width=\"100%\" x=\"0%\" y=\"48px\"><defs /><svg width=\"100%\" x=\"0\" y=\"0px\"><defs /><text text-anchor=\"middle\" x=\"50%\" y=\"16px\">.</text></svg></svg><line stroke=\"black\" x1=\"50%\" x2=\"50%\" y1=\"20px\" y2=\"48px\" /></svg><line stroke=\"black\" x1=\"50%\" x2=\"56.4588%\" y1=\"20px\" y2=\"48px\" /><svg width=\"1.11359%\" x=\"56.7929%\" y=\"48px\"><defs /><svg width=\"100%\" x=\"0\" y=\"0px\"><defs /><text text-anchor=\"middle\" x=\"50%\" y=\"16px\">She</text></svg><svg width=\"100%\" x=\"0%\" y=\"48px\"><defs /><svg width=\"100%\" x=\"0\" y=\"0px\"><defs /><text text-anchor=\"middle\" x=\"50%\" y=\"16px\">PRP</text></svg></svg><line stroke=\"black\" x1=\"50%\" x2=\"50%\" y1=\"20px\" y2=\"48px\" /></svg><line stroke=\"black\" x1=\"50%\" x2=\"57.3497%\" y1=\"20px\" y2=\"48px\" /><svg width=\"2.00445%\" x=\"57.9065%\" y=\"48px\"><defs /><svg width=\"100%\" x=\"0\" y=\"0px\"><defs /><text text-anchor=\"middle\" x=\"50%\" y=\"16px\">twisted</text></svg><svg width=\"100%\" x=\"0%\" y=\"48px\"><defs /><svg width=\"100%\" x=\"0\" y=\"0px\"><defs /><text text-anchor=\"middle\" x=\"50%\" y=\"16px\">VBD</text></svg></svg><line stroke=\"black\" x1=\"50%\" x2=\"50%\" y1=\"20px\" y2=\"48px\" /></svg><line stroke=\"black\" x1=\"50%\" x2=\"58.9087%\" y1=\"20px\" y2=\"48px\" /><svg width=\"1.11359%\" x=\"59.9109%\" y=\"48px\"><defs /><svg width=\"100%\" x=\"0\" y=\"0px\"><defs /><text text-anchor=\"middle\" x=\"50%\" y=\"16px\">her</text></svg><svg width=\"100%\" x=\"0%\" y=\"48px\"><defs /><svg width=\"100%\" x=\"0\" y=\"0px\"><defs /><text text-anchor=\"middle\" x=\"50%\" y=\"16px\">PRP</text></svg></svg><line stroke=\"black\" x1=\"50%\" x2=\"50%\" y1=\"20px\" y2=\"48px\" /></svg><line stroke=\"black\" x1=\"50%\" x2=\"60.4677%\" y1=\"20px\" y2=\"48px\" /><svg width=\"1.55902%\" x=\"61.0245%\" y=\"48px\"><defs /><svg width=\"100%\" x=\"0\" y=\"0px\"><defs /><text text-anchor=\"middle\" x=\"50%\" y=\"16px\">ankle</text></svg><svg width=\"100%\" x=\"0%\" y=\"48px\"><defs /><svg width=\"100%\" x=\"0\" y=\"0px\"><defs /><text text-anchor=\"middle\" x=\"50%\" y=\"16px\">NN</text></svg></svg><line stroke=\"black\" x1=\"50%\" x2=\"50%\" y1=\"20px\" y2=\"48px\" /></svg><line stroke=\"black\" x1=\"50%\" x2=\"61.804%\" y1=\"20px\" y2=\"48px\" /><svg width=\"1.11359%\" x=\"62.5835%\" y=\"48px\"><defs /><svg width=\"100%\" x=\"0\" y=\"0px\"><defs /><text text-anchor=\"middle\" x=\"50%\" y=\"16px\">and</text></svg><svg width=\"100%\" x=\"0%\" y=\"48px\"><defs /><svg width=\"100%\" x=\"0\" y=\"0px\"><defs /><text text-anchor=\"middle\" x=\"50%\" y=\"16px\">CC</text></svg></svg><line stroke=\"black\" x1=\"50%\" x2=\"50%\" y1=\"20px\" y2=\"48px\" /></svg><line stroke=\"black\" x1=\"50%\" x2=\"63.1403%\" y1=\"20px\" y2=\"48px\" /><svg width=\"1.55902%\" x=\"63.6971%\" y=\"48px\"><defs /><svg width=\"100%\" x=\"0\" y=\"0px\"><defs /><text text-anchor=\"middle\" x=\"50%\" y=\"16px\">could</text></svg><svg width=\"100%\" x=\"0%\" y=\"48px\"><defs /><svg width=\"100%\" x=\"0\" y=\"0px\"><defs /><text text-anchor=\"middle\" x=\"50%\" y=\"16px\">MD</text></svg></svg><line stroke=\"black\" x1=\"50%\" x2=\"50%\" y1=\"20px\" y2=\"48px\" /></svg><line stroke=\"black\" x1=\"50%\" x2=\"64.4766%\" y1=\"20px\" y2=\"48px\" /><svg width=\"1.11359%\" x=\"65.2561%\" y=\"48px\"><defs /><svg width=\"100%\" x=\"0\" y=\"0px\"><defs /><text text-anchor=\"middle\" x=\"50%\" y=\"16px\">n't</text></svg><svg width=\"100%\" x=\"0%\" y=\"48px\"><defs /><svg width=\"100%\" x=\"0\" y=\"0px\"><defs /><text text-anchor=\"middle\" x=\"50%\" y=\"16px\">RB</text></svg></svg><line stroke=\"black\" x1=\"50%\" x2=\"50%\" y1=\"20px\" y2=\"48px\" /></svg><line stroke=\"black\" x1=\"50%\" x2=\"65.8129%\" y1=\"20px\" y2=\"48px\" /><svg width=\"0.890869%\" x=\"66.3697%\" y=\"48px\"><defs /><svg width=\"100%\" x=\"0\" y=\"0px\"><defs /><text text-anchor=\"middle\" x=\"50%\" y=\"16px\">go</text></svg><svg width=\"100%\" x=\"0%\" y=\"48px\"><defs /><svg width=\"100%\" x=\"0\" y=\"0px\"><defs /><text text-anchor=\"middle\" x=\"50%\" y=\"16px\">VB</text></svg></svg><line stroke=\"black\" x1=\"50%\" x2=\"50%\" y1=\"20px\" y2=\"48px\" /></svg><line stroke=\"black\" x1=\"50%\" x2=\"66.8151%\" y1=\"20px\" y2=\"48px\" /><svg width=\"0.890869%\" x=\"67.2606%\" y=\"48px\"><defs /><svg width=\"100%\" x=\"0\" y=\"0px\"><defs /><text text-anchor=\"middle\" x=\"50%\" y=\"16px\">to</text></svg><svg width=\"100%\" x=\"0%\" y=\"48px\"><defs /><svg width=\"100%\" x=\"0\" y=\"0px\"><defs /><text text-anchor=\"middle\" x=\"50%\" y=\"16px\">TO</text></svg></svg><line stroke=\"black\" x1=\"50%\" x2=\"50%\" y1=\"20px\" y2=\"48px\" /></svg><line stroke=\"black\" x1=\"50%\" x2=\"67.706%\" y1=\"20px\" y2=\"48px\" /><svg width=\"1.78174%\" x=\"68.1514%\" y=\"48px\"><defs /><svg width=\"100%\" x=\"0\" y=\"0px\"><defs /><text text-anchor=\"middle\" x=\"50%\" y=\"16px\">soccer</text></svg><svg width=\"100%\" x=\"0%\" y=\"48px\"><defs /><svg width=\"100%\" x=\"0\" y=\"0px\"><defs /><text text-anchor=\"middle\" x=\"50%\" y=\"16px\">VB</text></svg></svg><line stroke=\"black\" x1=\"50%\" x2=\"50%\" y1=\"20px\" y2=\"48px\" /></svg><line stroke=\"black\" x1=\"50%\" x2=\"69.0423%\" y1=\"20px\" y2=\"48px\" /><svg width=\"2.00445%\" x=\"69.9332%\" y=\"48px\"><defs /><svg width=\"100%\" x=\"0\" y=\"0px\"><defs /><text text-anchor=\"middle\" x=\"50%\" y=\"16px\">anymore</text></svg><svg width=\"100%\" x=\"0%\" y=\"48px\"><defs /><svg width=\"100%\" x=\"0\" y=\"0px\"><defs /><text text-anchor=\"middle\" x=\"50%\" y=\"16px\">RB</text></svg></svg><line stroke=\"black\" x1=\"50%\" x2=\"50%\" y1=\"20px\" y2=\"48px\" /></svg><line stroke=\"black\" x1=\"50%\" x2=\"70.9354%\" y1=\"20px\" y2=\"48px\" /><svg width=\"0.668151%\" x=\"71.9376%\" y=\"48px\"><defs /><svg width=\"100%\" x=\"0\" y=\"0px\"><defs /><text text-anchor=\"middle\" x=\"50%\" y=\"16px\">.</text></svg><svg width=\"100%\" x=\"0%\" y=\"48px\"><defs /><svg width=\"100%\" x=\"0\" y=\"0px\"><defs /><text text-anchor=\"middle\" x=\"50%\" y=\"16px\">.</text></svg></svg><line stroke=\"black\" x1=\"50%\" x2=\"50%\" y1=\"20px\" y2=\"48px\" /></svg><line stroke=\"black\" x1=\"50%\" x2=\"72.2717%\" y1=\"20px\" y2=\"48px\" /><svg width=\"1.11359%\" x=\"72.6058%\" y=\"48px\"><defs /><svg width=\"100%\" x=\"0\" y=\"0px\"><defs /><text text-anchor=\"middle\" x=\"50%\" y=\"16px\">The</text></svg><svg width=\"100%\" x=\"0%\" y=\"48px\"><defs /><svg width=\"100%\" x=\"0\" y=\"0px\"><defs /><text text-anchor=\"middle\" x=\"50%\" y=\"16px\">DT</text></svg></svg><line stroke=\"black\" x1=\"50%\" x2=\"50%\" y1=\"20px\" y2=\"48px\" /></svg><line stroke=\"black\" x1=\"50%\" x2=\"73.1626%\" y1=\"20px\" y2=\"48px\" /><svg width=\"1.3363%\" x=\"73.7194%\" y=\"48px\"><defs /><svg width=\"100%\" x=\"0\" y=\"0px\"><defs /><text text-anchor=\"middle\" x=\"50%\" y=\"16px\">pool</text></svg><svg width=\"100%\" x=\"0%\" y=\"48px\"><defs /><svg width=\"100%\" x=\"0\" y=\"0px\"><defs /><text text-anchor=\"middle\" x=\"50%\" y=\"16px\">NN</text></svg></svg><line stroke=\"black\" x1=\"50%\" x2=\"50%\" y1=\"20px\" y2=\"48px\" /></svg><line stroke=\"black\" x1=\"50%\" x2=\"74.3875%\" y1=\"20px\" y2=\"48px\" /><svg width=\"1.11359%\" x=\"75.0557%\" y=\"48px\"><defs /><svg width=\"100%\" x=\"0\" y=\"0px\"><defs /><text text-anchor=\"middle\" x=\"50%\" y=\"16px\">was</text></svg><svg width=\"100%\" x=\"0%\" y=\"48px\"><defs /><svg width=\"100%\" x=\"0\" y=\"0px\"><defs /><text text-anchor=\"middle\" x=\"50%\" y=\"16px\">VBD</text></svg></svg><line stroke=\"black\" x1=\"50%\" x2=\"50%\" y1=\"20px\" y2=\"48px\" /></svg><line stroke=\"black\" x1=\"50%\" x2=\"75.6125%\" y1=\"20px\" y2=\"48px\" /><svg width=\"1.55902%\" x=\"76.1693%\" y=\"48px\"><defs /><svg width=\"100%\" x=\"0\" y=\"0px\"><defs /><text text-anchor=\"middle\" x=\"50%\" y=\"16px\">green</text></svg><svg width=\"100%\" x=\"0%\" y=\"48px\"><defs /><svg width=\"100%\" x=\"0\" y=\"0px\"><defs /><text text-anchor=\"middle\" x=\"50%\" y=\"16px\">JJ</text></svg></svg><line stroke=\"black\" x1=\"50%\" x2=\"50%\" y1=\"20px\" y2=\"48px\" /></svg><line stroke=\"black\" x1=\"50%\" x2=\"76.9488%\" y1=\"20px\" y2=\"48px\" /><svg width=\"1.11359%\" x=\"77.7283%\" y=\"48px\"><defs /><svg width=\"100%\" x=\"0\" y=\"0px\"><defs /><text text-anchor=\"middle\" x=\"50%\" y=\"16px\">and</text></svg><svg width=\"100%\" x=\"0%\" y=\"48px\"><defs /><svg width=\"100%\" x=\"0\" y=\"0px\"><defs /><text text-anchor=\"middle\" x=\"50%\" y=\"16px\">CC</text></svg></svg><line stroke=\"black\" x1=\"50%\" x2=\"50%\" y1=\"20px\" y2=\"48px\" /></svg><line stroke=\"black\" x1=\"50%\" x2=\"78.2851%\" y1=\"20px\" y2=\"48px\" /><svg width=\"2.00445%\" x=\"78.8419%\" y=\"48px\"><defs /><svg width=\"100%\" x=\"0\" y=\"0px\"><defs /><text text-anchor=\"middle\" x=\"50%\" y=\"16px\">covered</text></svg><svg width=\"100%\" x=\"0%\" y=\"48px\"><defs /><svg width=\"100%\" x=\"0\" y=\"0px\"><defs /><text text-anchor=\"middle\" x=\"50%\" y=\"16px\">VBN</text></svg></svg><line stroke=\"black\" x1=\"50%\" x2=\"50%\" y1=\"20px\" y2=\"48px\" /></svg><line stroke=\"black\" x1=\"50%\" x2=\"79.8441%\" y1=\"20px\" y2=\"48px\" /><svg width=\"0.890869%\" x=\"80.8463%\" y=\"48px\"><defs /><svg width=\"100%\" x=\"0\" y=\"0px\"><defs /><text text-anchor=\"middle\" x=\"50%\" y=\"16px\">in</text></svg><svg width=\"100%\" x=\"0%\" y=\"48px\"><defs /><svg width=\"100%\" x=\"0\" y=\"0px\"><defs /><text text-anchor=\"middle\" x=\"50%\" y=\"16px\">IN</text></svg></svg><line stroke=\"black\" x1=\"50%\" x2=\"50%\" y1=\"20px\" y2=\"48px\" /></svg><line stroke=\"black\" x1=\"50%\" x2=\"81.2918%\" y1=\"20px\" y2=\"48px\" /><svg width=\"3.34076%\" x=\"81.7372%\" y=\"48px\"><defs /><svg width=\"100%\" x=\"0\" y=\"0px\"><defs /><text text-anchor=\"middle\" x=\"50%\" y=\"16px\">gross-looking</text></svg><svg width=\"100%\" x=\"0%\" y=\"48px\"><defs /><svg width=\"100%\" x=\"0\" y=\"0px\"><defs /><text text-anchor=\"middle\" x=\"50%\" y=\"16px\">JJ</text></svg></svg><line stroke=\"black\" x1=\"50%\" x2=\"50%\" y1=\"20px\" y2=\"48px\" /></svg><line stroke=\"black\" x1=\"50%\" x2=\"83.4076%\" y1=\"20px\" y2=\"48px\" /><svg width=\"1.55902%\" x=\"85.078%\" y=\"48px\"><defs /><svg width=\"100%\" x=\"0\" y=\"0px\"><defs /><text text-anchor=\"middle\" x=\"50%\" y=\"16px\">algae</text></svg><svg width=\"100%\" x=\"0%\" y=\"48px\"><defs /><svg width=\"100%\" x=\"0\" y=\"0px\"><defs /><text text-anchor=\"middle\" x=\"50%\" y=\"16px\">NN</text></svg></svg><line stroke=\"black\" x1=\"50%\" x2=\"50%\" y1=\"20px\" y2=\"48px\" /></svg><line stroke=\"black\" x1=\"50%\" x2=\"85.8575%\" y1=\"20px\" y2=\"48px\" /><svg width=\"0.668151%\" x=\"86.637%\" y=\"48px\"><defs /><svg width=\"100%\" x=\"0\" y=\"0px\"><defs /><text text-anchor=\"middle\" x=\"50%\" y=\"16px\">.</text></svg><svg width=\"100%\" x=\"0%\" y=\"48px\"><defs /><svg width=\"100%\" x=\"0\" y=\"0px\"><defs /><text text-anchor=\"middle\" x=\"50%\" y=\"16px\">.</text></svg></svg><line stroke=\"black\" x1=\"50%\" x2=\"50%\" y1=\"20px\" y2=\"48px\" /></svg><line stroke=\"black\" x1=\"50%\" x2=\"86.971%\" y1=\"20px\" y2=\"48px\" /><svg width=\"1.3363%\" x=\"87.3051%\" y=\"48px\"><defs /><svg width=\"100%\" x=\"0\" y=\"0px\"><defs /><text text-anchor=\"middle\" x=\"50%\" y=\"16px\">Have</text></svg><svg width=\"100%\" x=\"0%\" y=\"48px\"><defs /><svg width=\"100%\" x=\"0\" y=\"0px\"><defs /><text text-anchor=\"middle\" x=\"50%\" y=\"16px\">VBP</text></svg></svg><line stroke=\"black\" x1=\"50%\" x2=\"50%\" y1=\"20px\" y2=\"48px\" /></svg><line stroke=\"black\" x1=\"50%\" x2=\"87.9733%\" y1=\"20px\" y2=\"48px\" /><svg width=\"1.11359%\" x=\"88.6414%\" y=\"48px\"><defs /><svg width=\"100%\" x=\"0\" y=\"0px\"><defs /><text text-anchor=\"middle\" x=\"50%\" y=\"16px\">you</text></svg><svg width=\"100%\" x=\"0%\" y=\"48px\"><defs /><svg width=\"100%\" x=\"0\" y=\"0px\"><defs /><text text-anchor=\"middle\" x=\"50%\" y=\"16px\">PRP</text></svg></svg><line stroke=\"black\" x1=\"50%\" x2=\"50%\" y1=\"20px\" y2=\"48px\" /></svg><line stroke=\"black\" x1=\"50%\" x2=\"89.1982%\" y1=\"20px\" y2=\"48px\" /><svg width=\"1.55902%\" x=\"89.755%\" y=\"48px\"><defs /><svg width=\"100%\" x=\"0\" y=\"0px\"><defs /><text text-anchor=\"middle\" x=\"50%\" y=\"16px\">heard</text></svg><svg width=\"100%\" x=\"0%\" y=\"48px\"><defs /><svg width=\"100%\" x=\"0\" y=\"0px\"><defs /><text text-anchor=\"middle\" x=\"50%\" y=\"16px\">VBP</text></svg></svg><line stroke=\"black\" x1=\"50%\" x2=\"50%\" y1=\"20px\" y2=\"48px\" /></svg><line stroke=\"black\" x1=\"50%\" x2=\"90.5345%\" y1=\"20px\" y2=\"48px\" /><svg width=\"1.11359%\" x=\"91.314%\" y=\"48px\"><defs /><svg width=\"100%\" x=\"0\" y=\"0px\"><defs /><text text-anchor=\"middle\" x=\"50%\" y=\"16px\">the</text></svg><svg width=\"100%\" x=\"0%\" y=\"48px\"><defs /><svg width=\"100%\" x=\"0\" y=\"0px\"><defs /><text text-anchor=\"middle\" x=\"50%\" y=\"16px\">DT</text></svg></svg><line stroke=\"black\" x1=\"50%\" x2=\"50%\" y1=\"20px\" y2=\"48px\" /></svg><line stroke=\"black\" x1=\"50%\" x2=\"91.8708%\" y1=\"20px\" y2=\"48px\" /><svg width=\"1.3363%\" x=\"92.4276%\" y=\"48px\"><defs /><svg width=\"100%\" x=\"0\" y=\"0px\"><defs /><text text-anchor=\"middle\" x=\"50%\" y=\"16px\">news</text></svg><svg width=\"100%\" x=\"0%\" y=\"48px\"><defs /><svg width=\"100%\" x=\"0\" y=\"0px\"><defs /><text text-anchor=\"middle\" x=\"50%\" y=\"16px\">NN</text></svg></svg><line stroke=\"black\" x1=\"50%\" x2=\"50%\" y1=\"20px\" y2=\"48px\" /></svg><line stroke=\"black\" x1=\"50%\" x2=\"93.0958%\" y1=\"20px\" y2=\"48px\" /><svg width=\"0.668151%\" x=\"93.7639%\" y=\"48px\"><defs /><svg width=\"100%\" x=\"0\" y=\"0px\"><defs /><text text-anchor=\"middle\" x=\"50%\" y=\"16px\">?</text></svg><svg width=\"100%\" x=\"0%\" y=\"48px\"><defs /><svg width=\"100%\" x=\"0\" y=\"0px\"><defs /><text text-anchor=\"middle\" x=\"50%\" y=\"16px\">.</text></svg></svg><line stroke=\"black\" x1=\"50%\" x2=\"50%\" y1=\"20px\" y2=\"48px\" /></svg><line stroke=\"black\" x1=\"50%\" x2=\"94.098%\" y1=\"20px\" y2=\"48px\" /><svg width=\"1.55902%\" x=\"94.4321%\" y=\"48px\"><defs /><svg width=\"100%\" x=\"0\" y=\"0px\"><defs /><text text-anchor=\"middle\" x=\"50%\" y=\"16px\">Where</text></svg><svg width=\"100%\" x=\"0%\" y=\"48px\"><defs /><svg width=\"100%\" x=\"0\" y=\"0px\"><defs /><text text-anchor=\"middle\" x=\"50%\" y=\"16px\">WRB</text></svg></svg><line stroke=\"black\" x1=\"50%\" x2=\"50%\" y1=\"20px\" y2=\"48px\" /></svg><line stroke=\"black\" x1=\"50%\" x2=\"95.2116%\" y1=\"20px\" y2=\"48px\" /><svg width=\"0.890869%\" x=\"95.9911%\" y=\"48px\"><defs /><svg width=\"100%\" x=\"0\" y=\"0px\"><defs /><text text-anchor=\"middle\" x=\"50%\" y=\"16px\">do</text></svg><svg width=\"100%\" x=\"0%\" y=\"48px\"><defs /><svg width=\"100%\" x=\"0\" y=\"0px\"><defs /><text text-anchor=\"middle\" x=\"50%\" y=\"16px\">VB</text></svg></svg><line stroke=\"black\" x1=\"50%\" x2=\"50%\" y1=\"20px\" y2=\"48px\" /></svg><line stroke=\"black\" x1=\"50%\" x2=\"96.4365%\" y1=\"20px\" y2=\"48px\" /><svg width=\"1.11359%\" x=\"96.882%\" y=\"48px\"><defs /><svg width=\"100%\" x=\"0\" y=\"0px\"><defs /><text text-anchor=\"middle\" x=\"50%\" y=\"16px\">you</text></svg><svg width=\"100%\" x=\"0%\" y=\"48px\"><defs /><svg width=\"100%\" x=\"0\" y=\"0px\"><defs /><text text-anchor=\"middle\" x=\"50%\" y=\"16px\">PRP</text></svg></svg><line stroke=\"black\" x1=\"50%\" x2=\"50%\" y1=\"20px\" y2=\"48px\" /></svg><line stroke=\"black\" x1=\"50%\" x2=\"97.4388%\" y1=\"20px\" y2=\"48px\" /><svg width=\"1.3363%\" x=\"97.9955%\" y=\"48px\"><defs /><svg width=\"100%\" x=\"0\" y=\"0px\"><defs /><text text-anchor=\"middle\" x=\"50%\" y=\"16px\">live</text></svg><svg width=\"100%\" x=\"0%\" y=\"48px\"><defs /><svg width=\"100%\" x=\"0\" y=\"0px\"><defs /><text text-anchor=\"middle\" x=\"50%\" y=\"16px\">VB</text></svg></svg><line stroke=\"black\" x1=\"50%\" x2=\"50%\" y1=\"20px\" y2=\"48px\" /></svg><line stroke=\"black\" x1=\"50%\" x2=\"98.6637%\" y1=\"20px\" y2=\"48px\" /><svg width=\"0.668151%\" x=\"99.3318%\" y=\"48px\"><defs /><svg width=\"100%\" x=\"0\" y=\"0px\"><defs /><text text-anchor=\"middle\" x=\"50%\" y=\"16px\">?</text></svg><svg width=\"100%\" x=\"0%\" y=\"48px\"><defs /><svg width=\"100%\" x=\"0\" y=\"0px\"><defs /><text text-anchor=\"middle\" x=\"50%\" y=\"16px\">.</text></svg></svg><line stroke=\"black\" x1=\"50%\" x2=\"50%\" y1=\"20px\" y2=\"48px\" /></svg><line stroke=\"black\" x1=\"50%\" x2=\"99.6659%\" y1=\"20px\" y2=\"48px\" /></svg>"
          },
          "metadata": {},
          "execution_count": 50
        }
      ]
    },
    {
      "cell_type": "markdown",
      "source": [
        "## Spacy"
      ],
      "metadata": {
        "id": "nxzedDImMzwn"
      }
    },
    {
      "cell_type": "code",
      "source": [
        "nlp = spacy.load(\"en_core_web_sm\")"
      ],
      "metadata": {
        "id": "rj87HfZXM1fI"
      },
      "execution_count": 54,
      "outputs": []
    },
    {
      "cell_type": "code",
      "source": [
        "nlp.pipe_names"
      ],
      "metadata": {
        "colab": {
          "base_uri": "https://localhost:8080/"
        },
        "id": "FdDI6SagM97M",
        "outputId": "fea89a28-1897-4152-f09a-8708bf902cd5"
      },
      "execution_count": 55,
      "outputs": [
        {
          "output_type": "execute_result",
          "data": {
            "text/plain": [
              "['tok2vec', 'tagger', 'parser', 'attribute_ruler', 'lemmatizer', 'ner']"
            ]
          },
          "metadata": {},
          "execution_count": 55
        }
      ]
    },
    {
      "cell_type": "code",
      "source": [
        "doc = nlp(\"Mr. Tesla is a good human-being. Car manufacturing company Tesla also named after his name. Musk is CEO of SpaceX, he wears musk due to his sickness. Elon musk has 200 billion dollars.\")\n",
        "\n",
        "for ent in doc.ents:\n",
        "  print(f\"{ent.text} | {ent.label_} | {spacy.explain(ent.label_)}\")"
      ],
      "metadata": {
        "colab": {
          "base_uri": "https://localhost:8080/"
        },
        "id": "1uFKHeNiNAx1",
        "outputId": "2d87eefc-e539-4550-da04-f7f41fb95bfe"
      },
      "execution_count": 60,
      "outputs": [
        {
          "output_type": "stream",
          "name": "stdout",
          "text": [
            "Tesla | PERSON | People, including fictional\n",
            "Tesla | ORG | Companies, agencies, institutions, etc.\n",
            "Musk | PERSON | People, including fictional\n",
            "200 billion dollars | MONEY | Monetary values, including unit\n"
          ]
        }
      ]
    },
    {
      "cell_type": "code",
      "source": [
        "from spacy import displacy\n",
        "displacy.render(doc, style=\"ent\")"
      ],
      "metadata": {
        "colab": {
          "base_uri": "https://localhost:8080/",
          "height": 87
        },
        "id": "UKcdGcjwOvDW",
        "outputId": "370ae0e4-94f2-4739-d4ad-57ed6ea66ab2"
      },
      "execution_count": 62,
      "outputs": [
        {
          "output_type": "display_data",
          "data": {
            "text/plain": [
              "<IPython.core.display.HTML object>"
            ],
            "text/html": [
              "<span class=\"tex2jax_ignore\"><div class=\"entities\" style=\"line-height: 2.5; direction: ltr\">Mr. \n",
              "<mark class=\"entity\" style=\"background: #aa9cfc; padding: 0.45em 0.6em; margin: 0 0.25em; line-height: 1; border-radius: 0.35em;\">\n",
              "    Tesla\n",
              "    <span style=\"font-size: 0.8em; font-weight: bold; line-height: 1; border-radius: 0.35em; vertical-align: middle; margin-left: 0.5rem\">PERSON</span>\n",
              "</mark>\n",
              " is a good human-being. Car manufacturing company \n",
              "<mark class=\"entity\" style=\"background: #7aecec; padding: 0.45em 0.6em; margin: 0 0.25em; line-height: 1; border-radius: 0.35em;\">\n",
              "    Tesla\n",
              "    <span style=\"font-size: 0.8em; font-weight: bold; line-height: 1; border-radius: 0.35em; vertical-align: middle; margin-left: 0.5rem\">ORG</span>\n",
              "</mark>\n",
              " also named after his name. \n",
              "<mark class=\"entity\" style=\"background: #aa9cfc; padding: 0.45em 0.6em; margin: 0 0.25em; line-height: 1; border-radius: 0.35em;\">\n",
              "    Musk\n",
              "    <span style=\"font-size: 0.8em; font-weight: bold; line-height: 1; border-radius: 0.35em; vertical-align: middle; margin-left: 0.5rem\">PERSON</span>\n",
              "</mark>\n",
              " is CEO of SpaceX, he wears musk due to his sickness. Elon musk has \n",
              "<mark class=\"entity\" style=\"background: #e4e7d2; padding: 0.45em 0.6em; margin: 0 0.25em; line-height: 1; border-radius: 0.35em;\">\n",
              "    200 billion dollars\n",
              "    <span style=\"font-size: 0.8em; font-weight: bold; line-height: 1; border-radius: 0.35em; vertical-align: middle; margin-left: 0.5rem\">MONEY</span>\n",
              "</mark>\n",
              ".</div></span>"
            ]
          },
          "metadata": {}
        }
      ]
    },
    {
      "cell_type": "markdown",
      "source": [
        "### Custom spacy entity training"
      ],
      "metadata": {
        "id": "DC_jhbktSYNc"
      }
    },
    {
      "cell_type": "code",
      "source": [
        "doc2 = nlp(\"Tesla is going to acquire Twitter for $45 billion\")\n",
        "for ent in doc2.ents:\n",
        "  print(f\"{ent} => {ent.label_}\")"
      ],
      "metadata": {
        "colab": {
          "base_uri": "https://localhost:8080/"
        },
        "id": "KKfYP8VSO1yh",
        "outputId": "10cf00ae-6441-441e-e6ce-17e890e92c8b"
      },
      "execution_count": 65,
      "outputs": [
        {
          "output_type": "stream",
          "name": "stdout",
          "text": [
            "Tesla => ORG\n",
            "Twitter => PRODUCT\n",
            "$45 billion => MONEY\n"
          ]
        }
      ]
    },
    {
      "cell_type": "code",
      "source": [
        "from spacy.tokens import Span\n",
        "s1 = Span(doc2, 0, 1, label=\"ORG\")\n",
        "s2 = Span(doc2, 5, 6, label=\"ORG\")\n",
        "\n",
        "doc2.set_ents([s1, s2], default=\"unmodified\")"
      ],
      "metadata": {
        "id": "cqWM_h4nSW0j"
      },
      "execution_count": 68,
      "outputs": []
    },
    {
      "cell_type": "code",
      "source": [
        "for ent in doc2.ents:\n",
        "  print(f\"{ent} => {ent.label_}\")"
      ],
      "metadata": {
        "colab": {
          "base_uri": "https://localhost:8080/"
        },
        "id": "jbk-ll28S96_",
        "outputId": "9f8e05e6-c1c6-4462-8d1e-5eae4ba96113"
      },
      "execution_count": 70,
      "outputs": [
        {
          "output_type": "stream",
          "name": "stdout",
          "text": [
            "Tesla => ORG\n",
            "Twitter => ORG\n",
            "$45 billion => MONEY\n"
          ]
        }
      ]
    }
  ]
}