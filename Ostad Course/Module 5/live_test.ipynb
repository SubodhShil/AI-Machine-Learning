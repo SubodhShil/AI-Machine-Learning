{
 "cells": [
  {
   "cell_type": "code",
   "execution_count": 1,
   "metadata": {},
   "outputs": [],
   "source": [
    "import numpy as np\n",
    "import pandas as pd"
   ]
  },
  {
   "cell_type": "code",
   "execution_count": 4,
   "metadata": {},
   "outputs": [
    {
     "data": {
      "text/plain": [
       "array([[50.        , 50.1010101 , 50.2020202 , 50.3030303 , 50.4040404 ,\n",
       "        50.50505051, 50.60606061, 50.70707071, 50.80808081, 50.90909091],\n",
       "       [51.01010101, 51.11111111, 51.21212121, 51.31313131, 51.41414141,\n",
       "        51.51515152, 51.61616162, 51.71717172, 51.81818182, 51.91919192],\n",
       "       [52.02020202, 52.12121212, 52.22222222, 52.32323232, 52.42424242,\n",
       "        52.52525253, 52.62626263, 52.72727273, 52.82828283, 52.92929293],\n",
       "       [53.03030303, 53.13131313, 53.23232323, 53.33333333, 53.43434343,\n",
       "        53.53535354, 53.63636364, 53.73737374, 53.83838384, 53.93939394],\n",
       "       [54.04040404, 54.14141414, 54.24242424, 54.34343434, 54.44444444,\n",
       "        54.54545455, 54.64646465, 54.74747475, 54.84848485, 54.94949495],\n",
       "       [55.05050505, 55.15151515, 55.25252525, 55.35353535, 55.45454545,\n",
       "        55.55555556, 55.65656566, 55.75757576, 55.85858586, 55.95959596],\n",
       "       [56.06060606, 56.16161616, 56.26262626, 56.36363636, 56.46464646,\n",
       "        56.56565657, 56.66666667, 56.76767677, 56.86868687, 56.96969697],\n",
       "       [57.07070707, 57.17171717, 57.27272727, 57.37373737, 57.47474747,\n",
       "        57.57575758, 57.67676768, 57.77777778, 57.87878788, 57.97979798],\n",
       "       [58.08080808, 58.18181818, 58.28282828, 58.38383838, 58.48484848,\n",
       "        58.58585859, 58.68686869, 58.78787879, 58.88888889, 58.98989899],\n",
       "       [59.09090909, 59.19191919, 59.29292929, 59.39393939, 59.49494949,\n",
       "        59.5959596 , 59.6969697 , 59.7979798 , 59.8989899 , 60.        ]])"
      ]
     },
     "execution_count": 4,
     "metadata": {},
     "output_type": "execute_result"
    }
   ],
   "source": [
    "arr = np.linspace(50, 60, 100).reshape(10, 10)"
   ]
  },
  {
   "cell_type": "code",
   "execution_count": 7,
   "metadata": {},
   "outputs": [
    {
     "name": "stdout",
     "output_type": "stream",
     "text": [
      "[[ True False False False False False False False False False]\n",
      " [False False False False False False False False False False]\n",
      " [False False False False False False False False False False]\n",
      " [False False False False False False False False False False]\n",
      " [False False False False False False False False False False]\n",
      " [False False False False False False False False False False]\n",
      " [False False False False False False False False False False]\n",
      " [False False False False False False False False False False]\n",
      " [False False False False False False False False False False]\n",
      " [False False False False False False False False False  True]]\n"
     ]
    }
   ],
   "source": [
    "res_arr = (arr % 5 == 0)\n",
    "print(res_arr)"
   ]
  }
 ],
 "metadata": {
  "kernelspec": {
   "display_name": "Python 3",
   "language": "python",
   "name": "python3"
  },
  "language_info": {
   "codemirror_mode": {
    "name": "ipython",
    "version": 3
   },
   "file_extension": ".py",
   "mimetype": "text/x-python",
   "name": "python",
   "nbconvert_exporter": "python",
   "pygments_lexer": "ipython3",
   "version": "3.11.5"
  }
 },
 "nbformat": 4,
 "nbformat_minor": 2
}
