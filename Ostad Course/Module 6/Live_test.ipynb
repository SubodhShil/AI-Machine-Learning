{
 "cells": [
  {
   "cell_type": "code",
   "execution_count": 53,
   "metadata": {},
   "outputs": [
    {
     "data": {
      "text/html": [
       "<div>\n",
       "<style scoped>\n",
       "    .dataframe tbody tr th:only-of-type {\n",
       "        vertical-align: middle;\n",
       "    }\n",
       "\n",
       "    .dataframe tbody tr th {\n",
       "        vertical-align: top;\n",
       "    }\n",
       "\n",
       "    .dataframe thead th {\n",
       "        text-align: right;\n",
       "    }\n",
       "</style>\n",
       "<table border=\"1\" class=\"dataframe\">\n",
       "  <thead>\n",
       "    <tr style=\"text-align: right;\">\n",
       "      <th></th>\n",
       "      <th>0</th>\n",
       "      <th>1</th>\n",
       "      <th>2</th>\n",
       "      <th>3</th>\n",
       "      <th>4</th>\n",
       "    </tr>\n",
       "  </thead>\n",
       "  <tbody>\n",
       "    <tr>\n",
       "      <th>0</th>\n",
       "      <td>A</td>\n",
       "      <td>21.0</td>\n",
       "      <td>31</td>\n",
       "      <td>NaN</td>\n",
       "      <td>46.0</td>\n",
       "    </tr>\n",
       "    <tr>\n",
       "      <th>1</th>\n",
       "      <td>B</td>\n",
       "      <td>NaN</td>\n",
       "      <td>32</td>\n",
       "      <td>NaN</td>\n",
       "      <td>47.0</td>\n",
       "    </tr>\n",
       "    <tr>\n",
       "      <th>2</th>\n",
       "      <td>C</td>\n",
       "      <td>22.0</td>\n",
       "      <td>33</td>\n",
       "      <td>NaN</td>\n",
       "      <td>NaN</td>\n",
       "    </tr>\n",
       "    <tr>\n",
       "      <th>3</th>\n",
       "      <td>D</td>\n",
       "      <td>4.0</td>\n",
       "      <td>34</td>\n",
       "      <td>NaN</td>\n",
       "      <td>48.0</td>\n",
       "    </tr>\n",
       "    <tr>\n",
       "      <th>4</th>\n",
       "      <td>E</td>\n",
       "      <td>NaN</td>\n",
       "      <td>35</td>\n",
       "      <td>NaN</td>\n",
       "      <td>49.0</td>\n",
       "    </tr>\n",
       "  </tbody>\n",
       "</table>\n",
       "</div>"
      ],
      "text/plain": [
       "   0     1   2   3     4\n",
       "0  A  21.0  31 NaN  46.0\n",
       "1  B   NaN  32 NaN  47.0\n",
       "2  C  22.0  33 NaN   NaN\n",
       "3  D   4.0  34 NaN  48.0\n",
       "4  E   NaN  35 NaN  49.0"
      ]
     },
     "execution_count": 53,
     "metadata": {},
     "output_type": "execute_result"
    }
   ],
   "source": [
    "# Make the following Dataframe by using pandas.\n",
    "\n",
    "import pandas as pd\n",
    "import numpy as np\n",
    "\n",
    "data = [['A', 21, 31, np.nan, 46],\n",
    "        ['B', np.nan, 32, np.nan, 47],\n",
    "        ['C', 22, 33, np.nan, np.nan],\n",
    "        ['D', 4, 34, np.nan, 48],\n",
    "        ['E', np.nan, 35, np.nan, 49]]\n",
    "\n",
    "df = pd.DataFrame(data)\n",
    "df"
   ]
  },
  {
   "cell_type": "code",
   "execution_count": 54,
   "metadata": {},
   "outputs": [
    {
     "name": "stdout",
     "output_type": "stream",
     "text": [
      "8\n"
     ]
    }
   ],
   "source": [
    "# Write the functions to see the how many NaN values are in the entire Dataframe?\n",
    "\n",
    "def count_null_values(df):\n",
    "    null_values = df.isnull().sum()\n",
    "    return null_values.sum()\n",
    "\n",
    "\n",
    "print(count_null_values(df))"
   ]
  },
  {
   "cell_type": "code",
   "execution_count": 55,
   "metadata": {},
   "outputs": [
    {
     "name": "stdout",
     "output_type": "stream",
     "text": [
      "   0     1   2   3     4\n",
      "0  A  21.0  31 NaN  46.0\n",
      "1  B  21.0  32 NaN  47.0\n",
      "2  C  22.0  33 NaN  47.0\n",
      "3  D   4.0  34 NaN  48.0\n",
      "4  E   4.0  35 NaN  49.0\n",
      "\n",
      "   0     1   2   3     4\n",
      "0  A  21.0  31 NaN  46.0\n",
      "1  B  22.0  32 NaN  47.0\n",
      "2  C  22.0  33 NaN  48.0\n",
      "3  D   4.0  34 NaN  48.0\n",
      "4  E   NaN  35 NaN  49.0\n",
      "\n",
      "   0     1   2    3     4\n",
      "0  A  21.0  31  0.0  46.0\n",
      "1  B   0.0  32  0.0  47.0\n",
      "2  C  22.0  33  0.0   0.0\n",
      "3  D   4.0  34  0.0  48.0\n",
      "4  E   0.0  35  0.0  49.0\n"
     ]
    },
    {
     "name": "stderr",
     "output_type": "stream",
     "text": [
      "C:\\Users\\subod\\AppData\\Local\\Temp\\ipykernel_20216\\3394032433.py:4: FutureWarning: DataFrame.fillna with 'method' is deprecated and will raise in a future version. Use obj.ffill() or obj.bfill() instead.\n",
      "  df = df.fillna(method='ffill')\n",
      "C:\\Users\\subod\\AppData\\Local\\Temp\\ipykernel_20216\\3394032433.py:9: FutureWarning: DataFrame.fillna with 'method' is deprecated and will raise in a future version. Use obj.ffill() or obj.bfill() instead.\n",
      "  df = df.fillna(method='bfill')\n"
     ]
    }
   ],
   "source": [
    "# Clean the NaN values using Forward fill, Backward fill, ‘0’ Fill\n",
    "\n",
    "def clean_forward_fill(df):\n",
    "    df = df.fillna(method='ffill')\n",
    "    return df\n",
    "\n",
    "\n",
    "def clean_backward_fill(df):\n",
    "    df = df.fillna(method='bfill')\n",
    "    return df\n",
    "\n",
    "\n",
    "def clean_zero_fill(df):\n",
    "    df = df.fillna(0)\n",
    "    return df\n",
    "\n",
    "\n",
    "fill_nan_ffill = clean_forward_fill(df)\n",
    "fill_nan_bfill = clean_backward_fill(df)\n",
    "fill_nan_0 = clean_zero_fill(df)\n",
    "\n",
    "print(fill_nan_ffill, end='\\n\\n')\n",
    "print(fill_nan_bfill, end='\\n\\n')\n",
    "print(fill_nan_0)"
   ]
  }
 ],
 "metadata": {
  "kernelspec": {
   "display_name": "Python 3",
   "language": "python",
   "name": "python3"
  },
  "language_info": {
   "codemirror_mode": {
    "name": "ipython",
    "version": 3
   },
   "file_extension": ".py",
   "mimetype": "text/x-python",
   "name": "python",
   "nbconvert_exporter": "python",
   "pygments_lexer": "ipython3",
   "version": "3.11.5"
  }
 },
 "nbformat": 4,
 "nbformat_minor": 2
}
