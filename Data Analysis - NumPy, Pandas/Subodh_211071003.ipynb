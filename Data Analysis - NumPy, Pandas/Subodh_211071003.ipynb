{
  "cells": [
    {
      "cell_type": "markdown",
      "metadata": {
        "id": "7QPe9Vum6xs8"
      },
      "source": [
        "Question 1: Create a 2D array of shape (3, 4) filled with random values."
      ]
    },
    {
      "cell_type": "code",
      "execution_count": 14,
      "metadata": {},
      "outputs": [
        {
          "name": "stdout",
          "output_type": "stream",
          "text": [
            "[[14, 40, 63, 48], [18, 7, 77, 68], [13, 88, 67, 63]]\n",
            "[[50.68047937 86.7472028  76.48374155 26.09375013]\n",
            " [83.26144563 55.85179291  3.05085289 16.3887896 ]\n",
            " [83.15432358 80.0619718  23.82831217 19.32312762]]\n"
          ]
        }
      ],
      "source": [
        "# Using plain python\n",
        "\n",
        "import random \n",
        "import numpy as np\n",
        "\n",
        "arr_2d_py = []\n",
        "\n",
        "for i in range(1, 4):\n",
        "    temp_arr = [random.randint(1, 100) for i in range(1, 5)]\n",
        "    arr_2d_py.append(temp_arr)\n",
        "\n",
        "print(arr_2d_py)\n",
        "\n",
        "# Using numpy \n",
        "\n",
        "arr_2d_num = np.random.rand(3, 4) * 100\n",
        "print(arr_2d_num)"
      ]
    },
    {
      "cell_type": "markdown",
      "metadata": {
        "id": "uNTfayey62Pl"
      },
      "source": [
        " Question 2. Array Operations:\n",
        "\n",
        "(a)Add two arrays element-wise.\n",
        "(b)Multiply two arrays element-wise.\n",
        "(c)Calculate the dot product of two arrays.\n",
        "(d)Transpose a matrix.\n",
        "(e)Find the inverse of a matrix."
      ]
    },
    {
      "cell_type": "code",
      "execution_count": 53,
      "metadata": {},
      "outputs": [
        {
          "name": "stdout",
          "output_type": "stream",
          "text": [
            "[[3 2 0 3]\n",
            " [4 8 6 5]\n",
            " [5 5 7 7]\n",
            " [0 5 4 5]]\n",
            "\n",
            "[[7 4 5 2]\n",
            " [6 9 8 7]\n",
            " [1 1 0 4]\n",
            " [3 8 3 9]]\n",
            "\n",
            "[0 8 0 7 3 7 1 9 1 8]\n",
            "\n",
            "[1 0 9 8 3 1 9 5 1 3]\n"
          ]
        }
      ],
      "source": [
        "matrix_one = (np.random.rand(4, 4) * 10).astype(int)\n",
        "matrix_two = (np.random.rand(4, 4) * 10).astype(int)\n",
        "arr_1d_one = (np.random.rand(10) * 10).astype(int)\n",
        "arr_1d_two = (np.random.rand(10) * 10).astype(int)\n",
        "\n",
        "print(matrix_one, end=\"\\n\\n\")\n",
        "print(matrix_two, end=\"\\n\\n\")\n",
        "print(arr_1d_one, end=\"\\n\\n\")\n",
        "print(arr_1d_two)"
      ]
    },
    {
      "cell_type": "code",
      "execution_count": 54,
      "metadata": {},
      "outputs": [
        {
          "name": "stdout",
          "output_type": "stream",
          "text": [
            "[[10  6  5  5]\n",
            " [10 17 14 12]\n",
            " [ 6  6  7 11]\n",
            " [ 3 13  7 14]]\n",
            "\n",
            "[ 1  8  9 15  6  8 10 14  2 11]\n"
          ]
        }
      ],
      "source": [
        "# Addition operation of 2D array\n",
        "matrix_addition = matrix_one + matrix_two\n",
        "print(matrix_addition, end=\"\\n\\n\")\n",
        "\n",
        "# 1D array addition\n",
        "arr_addition = arr_1d_one + arr_1d_two\n",
        "print(arr_addition)"
      ]
    },
    {
      "cell_type": "code",
      "execution_count": 55,
      "metadata": {},
      "outputs": [
        {
          "name": "stdout",
          "output_type": "stream",
          "text": [
            "[[21  8  0  6]\n",
            " [24 72 48 35]\n",
            " [ 5  5  0 28]\n",
            " [ 0 40 12 45]]\n",
            "\n",
            "[ 0  0  0 56  9  7  9 45  1 24]\n"
          ]
        }
      ],
      "source": [
        "# Multiplication operation\n",
        "\n",
        "matrix_multiplication_element_wise = matrix_one * matrix_two\n",
        "print(matrix_multiplication_element_wise, end=\"\\n\\n\")\n",
        "\n",
        "# multiplication 1d array, I've now used the numpy method\n",
        "multiplication_1d_array = np.multiply(arr_1d_one, arr_1d_two)\n",
        "print(multiplication_1d_array)"
      ]
    },
    {
      "cell_type": "code",
      "execution_count": 38,
      "metadata": {},
      "outputs": [
        {
          "data": {
            "text/plain": [
              "array([[123, 116,  56,  36],\n",
              "       [160, 152,  93,  80],\n",
              "       [100,  97,  75,  49],\n",
              "       [ 91,  88,  50,  44]])"
            ]
          },
          "execution_count": 38,
          "metadata": {},
          "output_type": "execute_result"
        }
      ],
      "source": [
        "# Dot product of two matrices\n",
        "\n",
        "matrix_dot_product = np.dot(matrix_one, matrix_two)\n",
        "matrix_dot_product"
      ]
    },
    {
      "cell_type": "code",
      "execution_count": 42,
      "metadata": {},
      "outputs": [
        {
          "name": "stdout",
          "output_type": "stream",
          "text": [
            "[[6 6 9 0]\n",
            " [4 0 5 2]\n",
            " [9 1 6 5]\n",
            " [2 1 8 1]]\n",
            "\n",
            "[[6 4 9 2]\n",
            " [6 0 1 1]\n",
            " [9 5 6 8]\n",
            " [0 2 5 1]]\n"
          ]
        }
      ],
      "source": [
        "# Transposing the first matrix \n",
        "\n",
        "transposed_matrix_one = np.transpose(matrix_one)\n",
        "# print(matrix_one, end=\"\\n\\n\")\n",
        "print(transposed_matrix_one)"
      ]
    },
    {
      "cell_type": "code",
      "execution_count": 43,
      "metadata": {},
      "outputs": [
        {
          "data": {
            "text/plain": [
              "array([[ 0.21428571, -0.07142857, -0.07142857,  0.07142857],\n",
              "       [-0.06593407,  0.17582418,  0.0989011 , -0.17582418],\n",
              "       [-0.08791209, -0.0989011 ,  0.13186813,  0.0989011 ],\n",
              "       [-0.27884615,  0.20192308, -0.14423077,  0.04807692]])"
            ]
          },
          "execution_count": 43,
          "metadata": {},
          "output_type": "execute_result"
        }
      ],
      "source": [
        "# inverse of second matrix \n",
        "\n",
        "inversed_matrix_two = np.linalg.inv(matrix_two)\n",
        "inversed_matrix_two"
      ]
    },
    {
      "cell_type": "markdown",
      "metadata": {
        "id": "tJ0bjydR7Mdd"
      },
      "source": [
        "Question 3. Array Indexing and Slicing:\n",
        "\n",
        "(a)Extract the first row from a 2D array.\n",
        "(b)Extract the last column from a 2D array.\n",
        "(c)Create a new array from a slice of an existing array.\n",
        "(d)Modify elements in an array using indexing."
      ]
    },
    {
      "cell_type": "code",
      "execution_count": 65,
      "metadata": {},
      "outputs": [
        {
          "name": "stdout",
          "output_type": "stream",
          "text": [
            "[[3 2 0 3]\n",
            " [4 8 6 5]\n",
            " [5 5 7 7]\n",
            " [0 5 4 5]]\n",
            "\n",
            "[[3 2 0 3]]\n"
          ]
        }
      ],
      "source": [
        "# a\n",
        "print(matrix_one, end=\"\\n\\n\")\n",
        "first_row = matrix_one[:1]\n",
        "print(first_row)"
      ]
    },
    {
      "cell_type": "code",
      "execution_count": 67,
      "metadata": {},
      "outputs": [
        {
          "data": {
            "text/plain": [
              "array([[3],\n",
              "       [5],\n",
              "       [7],\n",
              "       [5]])"
            ]
          },
          "execution_count": 67,
          "metadata": {},
          "output_type": "execute_result"
        }
      ],
      "source": [
        "# b\n",
        "n = len(matrix_one)\n",
        "last_column = matrix_one[:n, n-1: n]\n",
        "last_column"
      ]
    },
    {
      "cell_type": "code",
      "execution_count": 70,
      "metadata": {},
      "outputs": [
        {
          "name": "stdout",
          "output_type": "stream",
          "text": [
            "[0 8 0 7 3 7 1 9 1 8]\n",
            "[0 8 0 7 3]\n"
          ]
        }
      ],
      "source": [
        "# c \n",
        "print(arr_1d_one)\n",
        "new_arr = arr_1d_one[:5]\n",
        "print(new_arr)"
      ]
    },
    {
      "cell_type": "code",
      "execution_count": 72,
      "metadata": {},
      "outputs": [
        {
          "name": "stdout",
          "output_type": "stream",
          "text": [
            "[10 20  0  7  3]\n"
          ]
        }
      ],
      "source": [
        "# d \n",
        "new_arr[0] = 10\n",
        "new_arr[1] = 20\n",
        "\n",
        "print(new_arr)"
      ]
    },
    {
      "cell_type": "markdown",
      "metadata": {
        "id": "olZ_pure7Df9"
      },
      "source": [
        "Question 4: I.\tWrite a Python program to calculate the arc length of an angle.\n",
        "\n",
        "          arc_length = (pi*diameter) * (angle/360)\n"
      ]
    },
    {
      "cell_type": "code",
      "execution_count": 75,
      "metadata": {},
      "outputs": [
        {
          "name": "stdout",
          "output_type": "stream",
          "text": [
            "2.617993877991494\n"
          ]
        }
      ],
      "source": [
        "import math\n",
        "\n",
        "diameter = float(input(\"Enter diameter value: \"))\n",
        "angle = float(input(\"Enter angle value: \"))\n",
        "arc_length = ((math.pi * diameter) * (angle/360))\n",
        "print(arc_length)"
      ]
    },
    {
      "cell_type": "markdown",
      "metadata": {
        "id": "4d1GD1AG7dbe"
      },
      "source": [
        "Question 5: Repeatedly ask the user to enter game scores in a format like team1 score1 - team2 score2. Store\n",
        "this information in a dictionary where the keys are the team names and the values are lists of\n",
        "the form [wins, losses]."
      ]
    },
    {
      "cell_type": "code",
      "execution_count": 4,
      "metadata": {},
      "outputs": [
        {
          "name": "stdout",
          "output_type": "stream",
          "text": [
            "Game no. 1\n",
            "Game no. 2\n",
            "Game no. 3\n",
            "Game no. 4\n",
            "Game no. 5\n",
            "Team 1 total match won: 2 and loss: 3\n",
            "Team 2 total match won: 3 and loss: 2\n"
          ]
        }
      ],
      "source": [
        "win_loss_dict = {\n",
        "    \"Team 1\": [0, 0],\n",
        "    \"Team 2\": [0, 0]\n",
        "}\n",
        "match_cnt = int(input(\"Enter total number of matches both team will play: \"))\n",
        "\n",
        "for i in range(1, match_cnt + 1):\n",
        "    print(f\"Game no. {i}\")\n",
        "    t1_score = int(input(\"Team 1 score: \"))\n",
        "    t2_score = int(input(\"Team 2 score: \"))\n",
        "\n",
        "    if t1_score > t2_score:\n",
        "        win_loss_dict[\"Team 1\"][0] += 1\n",
        "        win_loss_dict[\"Team 2\"][1] += 1\n",
        "    elif t2_score > t1_score:\n",
        "        win_loss_dict[\"Team 2\"][0] += 1\n",
        "        win_loss_dict[\"Team 1\"][1] += 1\n",
        "\n",
        "print(f\"Team 1 total match won: {win_loss_dict['Team 1'][0]} and loss: {win_loss_dict['Team 1'][1]}\")\n",
        "print(f\"Team 2 total match won: {win_loss_dict['Team 2'][0]} and loss: {win_loss_dict['Team 2'][1]}\")"
      ]
    }
  ],
  "metadata": {
    "colab": {
      "provenance": []
    },
    "kernelspec": {
      "display_name": "Python 3",
      "name": "python3"
    },
    "language_info": {
      "codemirror_mode": {
        "name": "ipython",
        "version": 3
      },
      "file_extension": ".py",
      "mimetype": "text/x-python",
      "name": "python",
      "nbconvert_exporter": "python",
      "pygments_lexer": "ipython3",
      "version": "3.11.5"
    }
  },
  "nbformat": 4,
  "nbformat_minor": 0
}
