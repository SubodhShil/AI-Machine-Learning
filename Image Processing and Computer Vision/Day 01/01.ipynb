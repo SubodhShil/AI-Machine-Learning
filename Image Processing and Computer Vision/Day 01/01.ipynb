{
 "cells": [
  {
   "cell_type": "code",
   "execution_count": 1,
   "metadata": {},
   "outputs": [],
   "source": [
    "import cv2"
   ]
  },
  {
   "cell_type": "code",
   "execution_count": 4,
   "metadata": {},
   "outputs": [],
   "source": [
    "img1 = cv2.imread(\"image1.jpeg\")\n",
    "img2 = cv2.imread(\"image2.jpg\")\n",
    "\n",
    "cv2.imshow(\"Slider 1\", img1)\n",
    "cv2.imshow(\"Slider 2\", img2)\n",
    "\n",
    "cv2.waitKey(10000)\n",
    "\n",
    "cv2.destroyAllWindows()"
   ]
  },
  {
   "cell_type": "code",
   "execution_count": 3,
   "metadata": {},
   "outputs": [],
   "source": [
    "# colorful to black and white image\n",
    "grayImg1 = cv2.imread(\"image2.jpg\", 0)\n",
    "\n",
    "# resize \n",
    "grayImg1 = cv2.resize(grayImg1, (800, 800))\n",
    "cv2.imshow(\"Grayscale\", grayImg1)\n",
    "\n",
    "cv2.waitKey(10000)\n",
    "cv2.destroyAllWindows()"
   ]
  }
 ],
 "metadata": {
  "kernelspec": {
   "display_name": "Python 3",
   "language": "python",
   "name": "python3"
  },
  "language_info": {
   "codemirror_mode": {
    "name": "ipython",
    "version": 3
   },
   "file_extension": ".py",
   "mimetype": "text/x-python",
   "name": "python",
   "nbconvert_exporter": "python",
   "pygments_lexer": "ipython3",
   "version": "3.11.5"
  }
 },
 "nbformat": 4,
 "nbformat_minor": 2
}
