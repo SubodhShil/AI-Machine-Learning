{
  "cells": [
    {
      "cell_type": "code",
      "execution_count": 191,
      "metadata": {
        "id": "hBTP0-iMYbAL"
      },
      "outputs": [],
      "source": [
        "import numpy as np\n",
        "import pandas as pd\n",
        "import matplotlib.pyplot as plt\n",
        "import warnings\n",
        "warnings.filterwarnings('ignore')\n",
        "from math import floor"
      ]
    },
    {
      "cell_type": "code",
      "execution_count": 192,
      "metadata": {
        "colab": {
          "base_uri": "https://localhost:8080/"
        },
        "id": "3vtVde7aYnAS",
        "outputId": "6924fe68-7255-418e-8f81-51026b8331ec"
      },
      "outputs": [],
      "source": [
        "# from google.colab import drive\n",
        "# drive.mount('/content/drive')"
      ]
    },
    {
      "cell_type": "code",
      "execution_count": 193,
      "metadata": {
        "colab": {
          "base_uri": "https://localhost:8080/",
          "height": 759
        },
        "id": "TfiwDDrzY1Zi",
        "outputId": "e453ca8f-041a-4a97-ca42-77d8b3b4c9f9"
      },
      "outputs": [
        {
          "data": {
            "text/html": [
              "<div>\n",
              "<style scoped>\n",
              "    .dataframe tbody tr th:only-of-type {\n",
              "        vertical-align: middle;\n",
              "    }\n",
              "\n",
              "    .dataframe tbody tr th {\n",
              "        vertical-align: top;\n",
              "    }\n",
              "\n",
              "    .dataframe thead th {\n",
              "        text-align: right;\n",
              "    }\n",
              "</style>\n",
              "<table border=\"1\" class=\"dataframe\">\n",
              "  <thead>\n",
              "    <tr style=\"text-align: right;\">\n",
              "      <th></th>\n",
              "      <th>Date</th>\n",
              "      <th>Temp9am</th>\n",
              "      <th>Temp3pm</th>\n",
              "      <th>MinTemp</th>\n",
              "      <th>MaxTemp</th>\n",
              "      <th>Rainfall</th>\n",
              "      <th>RainToday</th>\n",
              "      <th>Evaporation</th>\n",
              "      <th>Sunshine</th>\n",
              "      <th>WindGustDir</th>\n",
              "      <th>...</th>\n",
              "      <th>WindDir9am</th>\n",
              "      <th>WindDir3pm</th>\n",
              "      <th>WindSpeed9am</th>\n",
              "      <th>WindSpeed3pm</th>\n",
              "      <th>Humidity9am</th>\n",
              "      <th>Humidity3pm</th>\n",
              "      <th>Pressure9am</th>\n",
              "      <th>Pressure3pm</th>\n",
              "      <th>Cloud9am</th>\n",
              "      <th>Cloud3pm</th>\n",
              "    </tr>\n",
              "  </thead>\n",
              "  <tbody>\n",
              "    <tr>\n",
              "      <th>1930</th>\n",
              "      <td>16-05-18</td>\n",
              "      <td>18.3</td>\n",
              "      <td>20.3</td>\n",
              "      <td>15.8</td>\n",
              "      <td>21.9</td>\n",
              "      <td>0.0</td>\n",
              "      <td>No</td>\n",
              "      <td>9.8</td>\n",
              "      <td>10.4</td>\n",
              "      <td>SE</td>\n",
              "      <td>...</td>\n",
              "      <td>SSW</td>\n",
              "      <td>SSE</td>\n",
              "      <td>26</td>\n",
              "      <td>33</td>\n",
              "      <td>60</td>\n",
              "      <td>44</td>\n",
              "      <td>1011.2</td>\n",
              "      <td>1010.8</td>\n",
              "      <td>2</td>\n",
              "      <td>2</td>\n",
              "    </tr>\n",
              "    <tr>\n",
              "      <th>1474</th>\n",
              "      <td>14-02-17</td>\n",
              "      <td>15.4</td>\n",
              "      <td>21.5</td>\n",
              "      <td>12.9</td>\n",
              "      <td>22.8</td>\n",
              "      <td>0.0</td>\n",
              "      <td>No</td>\n",
              "      <td>3.4</td>\n",
              "      <td>10.3</td>\n",
              "      <td>W</td>\n",
              "      <td>...</td>\n",
              "      <td>W</td>\n",
              "      <td>ESE</td>\n",
              "      <td>19</td>\n",
              "      <td>17</td>\n",
              "      <td>68</td>\n",
              "      <td>57</td>\n",
              "      <td>1022.0</td>\n",
              "      <td>1020.5</td>\n",
              "      <td>5</td>\n",
              "      <td>4</td>\n",
              "    </tr>\n",
              "    <tr>\n",
              "      <th>686</th>\n",
              "      <td>19-12-14</td>\n",
              "      <td>17.8</td>\n",
              "      <td>18.6</td>\n",
              "      <td>17.7</td>\n",
              "      <td>20.2</td>\n",
              "      <td>12.0</td>\n",
              "      <td>Yes</td>\n",
              "      <td>2.8</td>\n",
              "      <td>0.0</td>\n",
              "      <td>W</td>\n",
              "      <td>...</td>\n",
              "      <td>SSW</td>\n",
              "      <td>SSW</td>\n",
              "      <td>17</td>\n",
              "      <td>20</td>\n",
              "      <td>91</td>\n",
              "      <td>85</td>\n",
              "      <td>1016.2</td>\n",
              "      <td>1016.4</td>\n",
              "      <td>8</td>\n",
              "      <td>8</td>\n",
              "    </tr>\n",
              "    <tr>\n",
              "      <th>528</th>\n",
              "      <td>14-07-14</td>\n",
              "      <td>9.2</td>\n",
              "      <td>14.5</td>\n",
              "      <td>8.1</td>\n",
              "      <td>16.5</td>\n",
              "      <td>0.0</td>\n",
              "      <td>Yes</td>\n",
              "      <td>2.0</td>\n",
              "      <td>2.5</td>\n",
              "      <td>W</td>\n",
              "      <td>...</td>\n",
              "      <td>W</td>\n",
              "      <td>SW</td>\n",
              "      <td>24</td>\n",
              "      <td>22</td>\n",
              "      <td>78</td>\n",
              "      <td>47</td>\n",
              "      <td>1012.3</td>\n",
              "      <td>1010.3</td>\n",
              "      <td>6</td>\n",
              "      <td>7</td>\n",
              "    </tr>\n",
              "    <tr>\n",
              "      <th>966</th>\n",
              "      <td>25-09-15</td>\n",
              "      <td>17.8</td>\n",
              "      <td>22.5</td>\n",
              "      <td>12.9</td>\n",
              "      <td>26.7</td>\n",
              "      <td>0.2</td>\n",
              "      <td>No</td>\n",
              "      <td>3.8</td>\n",
              "      <td>12.1</td>\n",
              "      <td>NE</td>\n",
              "      <td>...</td>\n",
              "      <td>W</td>\n",
              "      <td>ENE</td>\n",
              "      <td>13</td>\n",
              "      <td>24</td>\n",
              "      <td>73</td>\n",
              "      <td>56</td>\n",
              "      <td>1018.0</td>\n",
              "      <td>1015.0</td>\n",
              "      <td>1</td>\n",
              "      <td>5</td>\n",
              "    </tr>\n",
              "    <tr>\n",
              "      <th>1984</th>\n",
              "      <td>09-07-18</td>\n",
              "      <td>18.5</td>\n",
              "      <td>21.9</td>\n",
              "      <td>14.9</td>\n",
              "      <td>22.9</td>\n",
              "      <td>2.8</td>\n",
              "      <td>No</td>\n",
              "      <td>3.4</td>\n",
              "      <td>7.3</td>\n",
              "      <td>SW</td>\n",
              "      <td>...</td>\n",
              "      <td>S</td>\n",
              "      <td>SE</td>\n",
              "      <td>22</td>\n",
              "      <td>20</td>\n",
              "      <td>59</td>\n",
              "      <td>49</td>\n",
              "      <td>1018.8</td>\n",
              "      <td>1019.5</td>\n",
              "      <td>7</td>\n",
              "      <td>2</td>\n",
              "    </tr>\n",
              "    <tr>\n",
              "      <th>2762</th>\n",
              "      <td>25-08-20</td>\n",
              "      <td>26.3</td>\n",
              "      <td>23.2</td>\n",
              "      <td>22.4</td>\n",
              "      <td>28.1</td>\n",
              "      <td>0.0</td>\n",
              "      <td>Yes</td>\n",
              "      <td>5.0</td>\n",
              "      <td>8.2</td>\n",
              "      <td>NW</td>\n",
              "      <td>...</td>\n",
              "      <td>NNE</td>\n",
              "      <td>ESE</td>\n",
              "      <td>11</td>\n",
              "      <td>6</td>\n",
              "      <td>72</td>\n",
              "      <td>86</td>\n",
              "      <td>1003.3</td>\n",
              "      <td>1001.9</td>\n",
              "      <td>3</td>\n",
              "      <td>7</td>\n",
              "    </tr>\n",
              "    <tr>\n",
              "      <th>2544</th>\n",
              "      <td>20-01-20</td>\n",
              "      <td>9.1</td>\n",
              "      <td>13.7</td>\n",
              "      <td>8.5</td>\n",
              "      <td>14.1</td>\n",
              "      <td>1.2</td>\n",
              "      <td>Yes</td>\n",
              "      <td>2.2</td>\n",
              "      <td>0.0</td>\n",
              "      <td>W</td>\n",
              "      <td>...</td>\n",
              "      <td>W</td>\n",
              "      <td>SSW</td>\n",
              "      <td>20</td>\n",
              "      <td>11</td>\n",
              "      <td>90</td>\n",
              "      <td>88</td>\n",
              "      <td>1028.7</td>\n",
              "      <td>1027.6</td>\n",
              "      <td>7</td>\n",
              "      <td>7</td>\n",
              "    </tr>\n",
              "    <tr>\n",
              "      <th>1066</th>\n",
              "      <td>03-01-16</td>\n",
              "      <td>21.3</td>\n",
              "      <td>24.3</td>\n",
              "      <td>20.4</td>\n",
              "      <td>25.7</td>\n",
              "      <td>0.0</td>\n",
              "      <td>No</td>\n",
              "      <td>7.2</td>\n",
              "      <td>4.7</td>\n",
              "      <td>NNE</td>\n",
              "      <td>...</td>\n",
              "      <td>W</td>\n",
              "      <td>E</td>\n",
              "      <td>7</td>\n",
              "      <td>24</td>\n",
              "      <td>85</td>\n",
              "      <td>70</td>\n",
              "      <td>1023.4</td>\n",
              "      <td>1020.3</td>\n",
              "      <td>5</td>\n",
              "      <td>4</td>\n",
              "    </tr>\n",
              "    <tr>\n",
              "      <th>398</th>\n",
              "      <td>06-03-14</td>\n",
              "      <td>20.5</td>\n",
              "      <td>25.8</td>\n",
              "      <td>17.7</td>\n",
              "      <td>26.3</td>\n",
              "      <td>0.0</td>\n",
              "      <td>No</td>\n",
              "      <td>4.8</td>\n",
              "      <td>9.2</td>\n",
              "      <td>W</td>\n",
              "      <td>...</td>\n",
              "      <td>SW</td>\n",
              "      <td>ESE</td>\n",
              "      <td>11</td>\n",
              "      <td>19</td>\n",
              "      <td>77</td>\n",
              "      <td>58</td>\n",
              "      <td>1014.2</td>\n",
              "      <td>1011.8</td>\n",
              "      <td>3</td>\n",
              "      <td>1</td>\n",
              "    </tr>\n",
              "  </tbody>\n",
              "</table>\n",
              "<p>10 rows × 21 columns</p>\n",
              "</div>"
            ],
            "text/plain": [
              "          Date  Temp9am  Temp3pm  MinTemp  MaxTemp  Rainfall RainToday  \\\n",
              "1930  16-05-18     18.3     20.3     15.8     21.9       0.0        No   \n",
              "1474  14-02-17     15.4     21.5     12.9     22.8       0.0        No   \n",
              "686   19-12-14     17.8     18.6     17.7     20.2      12.0       Yes   \n",
              "528   14-07-14      9.2     14.5      8.1     16.5       0.0       Yes   \n",
              "966   25-09-15     17.8     22.5     12.9     26.7       0.2        No   \n",
              "1984  09-07-18     18.5     21.9     14.9     22.9       2.8        No   \n",
              "2762  25-08-20     26.3     23.2     22.4     28.1       0.0       Yes   \n",
              "2544  20-01-20      9.1     13.7      8.5     14.1       1.2       Yes   \n",
              "1066  03-01-16     21.3     24.3     20.4     25.7       0.0        No   \n",
              "398   06-03-14     20.5     25.8     17.7     26.3       0.0        No   \n",
              "\n",
              "      Evaporation  Sunshine WindGustDir  ...  WindDir9am WindDir3pm  \\\n",
              "1930          9.8      10.4          SE  ...         SSW        SSE   \n",
              "1474          3.4      10.3           W  ...           W        ESE   \n",
              "686           2.8       0.0           W  ...         SSW        SSW   \n",
              "528           2.0       2.5           W  ...           W         SW   \n",
              "966           3.8      12.1          NE  ...           W        ENE   \n",
              "1984          3.4       7.3          SW  ...           S         SE   \n",
              "2762          5.0       8.2          NW  ...         NNE        ESE   \n",
              "2544          2.2       0.0           W  ...           W        SSW   \n",
              "1066          7.2       4.7         NNE  ...           W          E   \n",
              "398           4.8       9.2           W  ...          SW        ESE   \n",
              "\n",
              "     WindSpeed9am  WindSpeed3pm  Humidity9am  Humidity3pm  Pressure9am  \\\n",
              "1930           26            33           60           44       1011.2   \n",
              "1474           19            17           68           57       1022.0   \n",
              "686            17            20           91           85       1016.2   \n",
              "528            24            22           78           47       1012.3   \n",
              "966            13            24           73           56       1018.0   \n",
              "1984           22            20           59           49       1018.8   \n",
              "2762           11             6           72           86       1003.3   \n",
              "2544           20            11           90           88       1028.7   \n",
              "1066            7            24           85           70       1023.4   \n",
              "398            11            19           77           58       1014.2   \n",
              "\n",
              "      Pressure3pm  Cloud9am  Cloud3pm  \n",
              "1930       1010.8         2         2  \n",
              "1474       1020.5         5         4  \n",
              "686        1016.4         8         8  \n",
              "528        1010.3         6         7  \n",
              "966        1015.0         1         5  \n",
              "1984       1019.5         7         2  \n",
              "2762       1001.9         3         7  \n",
              "2544       1027.6         7         7  \n",
              "1066       1020.3         5         4  \n",
              "398        1011.8         3         1  \n",
              "\n",
              "[10 rows x 21 columns]"
            ]
          },
          "execution_count": 193,
          "metadata": {},
          "output_type": "execute_result"
        }
      ],
      "source": [
        "df = pd.read_csv('Weather_Data.csv')\n",
        "df.sample(10)"
      ]
    },
    {
      "cell_type": "code",
      "execution_count": 194,
      "metadata": {
        "colab": {
          "base_uri": "https://localhost:8080/"
        },
        "id": "vWfIMH7XZNhy",
        "outputId": "8d45f6ce-238b-484a-fa46-5e78991e2134"
      },
      "outputs": [
        {
          "name": "stdout",
          "output_type": "stream",
          "text": [
            "<class 'pandas.core.frame.DataFrame'>\n",
            "RangeIndex: 3271 entries, 0 to 3270\n",
            "Data columns (total 21 columns):\n",
            " #   Column         Non-Null Count  Dtype  \n",
            "---  ------         --------------  -----  \n",
            " 0   Date           3271 non-null   object \n",
            " 1   Temp9am        3271 non-null   float64\n",
            " 2   Temp3pm        3271 non-null   float64\n",
            " 3   MinTemp        3271 non-null   float64\n",
            " 4   MaxTemp        3271 non-null   float64\n",
            " 5   Rainfall       3271 non-null   float64\n",
            " 6   RainToday      3271 non-null   object \n",
            " 7   Evaporation    3271 non-null   float64\n",
            " 8   Sunshine       3271 non-null   float64\n",
            " 9   WindGustDir    3271 non-null   object \n",
            " 10  WindGustSpeed  3271 non-null   int64  \n",
            " 11  WindDir9am     3271 non-null   object \n",
            " 12  WindDir3pm     3271 non-null   object \n",
            " 13  WindSpeed9am   3271 non-null   int64  \n",
            " 14  WindSpeed3pm   3271 non-null   int64  \n",
            " 15  Humidity9am    3271 non-null   int64  \n",
            " 16  Humidity3pm    3271 non-null   int64  \n",
            " 17  Pressure9am    3271 non-null   float64\n",
            " 18  Pressure3pm    3271 non-null   float64\n",
            " 19  Cloud9am       3271 non-null   int64  \n",
            " 20  Cloud3pm       3271 non-null   int64  \n",
            "dtypes: float64(9), int64(7), object(5)\n",
            "memory usage: 536.8+ KB\n"
          ]
        }
      ],
      "source": [
        "df.info()"
      ]
    },
    {
      "cell_type": "markdown",
      "metadata": {
        "id": "Qs6i-DDYbH-X"
      },
      "source": [
        "### Breakdown dataset into each year dataframe"
      ]
    },
    {
      "cell_type": "code",
      "execution_count": 195,
      "metadata": {
        "colab": {
          "base_uri": "https://localhost:8080/"
        },
        "id": "07nBfr5dZ6Cq",
        "outputId": "5bceccce-6c83-472b-d2e1-59e7eedb02ff"
      },
      "outputs": [
        {
          "name": "stdout",
          "output_type": "stream",
          "text": [
            "2013: 334\n",
            "2014: 365\n",
            "2015: 365\n",
            "2016: 366\n",
            "2017: 365\n",
            "2018: 365\n",
            "2019: 365\n",
            "2020: 366\n",
            "2021: 365\n",
            "2022: 15\n"
          ]
        }
      ],
      "source": [
        "df['Date'] = pd.to_datetime(df['Date'], format='%d-%m-%y')\n",
        "\n",
        "df['Year'] = df['Date'].dt.year\n",
        "\n",
        "all_year_df = {}\n",
        "\n",
        "for year in df['Year'].unique():\n",
        "    all_year_df[year] = df[df['Year'] == year]\n",
        "\n",
        "for i in range(2013, 2023):\n",
        "  print(f\"{i}: {len(all_year_df[i])}\")"
      ]
    },
    {
      "cell_type": "markdown",
      "metadata": {
        "id": "NQ7_EauYc5cu"
      },
      "source": [
        "The dataset contains unmatched data\n",
        "- Making each dataframe with similar number of entries.\n",
        "- Deleting the 2022 dataframe since it is an outlier."
      ]
    },
    {
      "cell_type": "code",
      "execution_count": 196,
      "metadata": {
        "colab": {
          "base_uri": "https://localhost:8080/"
        },
        "id": "iF8g3inlbHLf",
        "outputId": "c598ab45-8b87-44c1-d227-8dc86bc3c332"
      },
      "outputs": [
        {
          "name": "stdout",
          "output_type": "stream",
          "text": [
            "2013: 330\n",
            "2014: 330\n",
            "2015: 330\n",
            "2016: 330\n",
            "2017: 330\n",
            "2018: 330\n",
            "2019: 330\n",
            "2020: 330\n",
            "2021: 330\n",
            "2022: 0\n"
          ]
        }
      ],
      "source": [
        "# Deleting the 2022 dataset since it is an outlier\n",
        "\n",
        "for year in df['Year'].unique():\n",
        "    all_year_df[year] = df[df['Year'] == year].head(330)\n",
        "\n",
        "del all_year_df[2022]\n",
        "\n",
        "for i in range(2013, 2023):\n",
        "    if i in all_year_df:  # Correct way to check if a key exists\n",
        "        print(f\"{i}: {len(all_year_df[i])}\")\n",
        "    else:\n",
        "        print(f\"{i}: 0\")"
      ]
    },
    {
      "cell_type": "markdown",
      "metadata": {},
      "source": [
        "## Adding additional columns"
      ]
    },
    {
      "cell_type": "code",
      "execution_count": 197,
      "metadata": {},
      "outputs": [],
      "source": [
        "for year in df['Year'].unique():\n",
        "\n",
        "    year_df = df[df['Year'] == year].copy()\n",
        "\n",
        "    # humidityIncrease column\n",
        "    year_df['humidityIncrease'] = year_df['Humidity3pm'] > year_df['Humidity9am']\n",
        "    all_year_df[year] = year_df"
      ]
    },
    {
      "cell_type": "code",
      "execution_count": 198,
      "metadata": {},
      "outputs": [
        {
          "name": "stdout",
          "output_type": "stream",
          "text": [
            "        Date  Temp9am  Temp3pm  MinTemp  MaxTemp  Rainfall RainToday  \\\n",
            "0 2013-02-01     20.7     20.9     19.5     22.4      15.6       Yes   \n",
            "1 2013-02-02     22.4     24.8     19.5     25.6       6.0       Yes   \n",
            "2 2013-02-03     23.5     23.0     21.6     24.5       6.6       Yes   \n",
            "3 2013-02-04     21.4     20.9     20.2     22.8      18.8       Yes   \n",
            "4 2013-02-05     22.5     25.5     19.7     25.7      77.4       Yes   \n",
            "\n",
            "   Evaporation  Sunshine WindGustDir  ...  WindSpeed9am WindSpeed3pm  \\\n",
            "0          6.2       0.0           W  ...            17           20   \n",
            "1          3.4       2.7           W  ...             9           13   \n",
            "2          2.4       0.1           W  ...            17            2   \n",
            "3          2.2       0.0           W  ...            22           20   \n",
            "4          4.8       0.0           W  ...            11            6   \n",
            "\n",
            "  Humidity9am  Humidity3pm  Pressure9am  Pressure3pm  Cloud9am  Cloud3pm  \\\n",
            "0          92           84       1017.6       1017.4         8         8   \n",
            "1          83           73       1017.9       1016.4         7         7   \n",
            "2          88           86       1016.7       1015.6         7         8   \n",
            "3          83           90       1014.2       1011.8         8         8   \n",
            "4          88           74       1008.3       1004.8         8         8   \n",
            "\n",
            "   Year  humidityIncrease  \n",
            "0  2013             False  \n",
            "1  2013             False  \n",
            "2  2013             False  \n",
            "3  2013              True  \n",
            "4  2013             False  \n",
            "\n",
            "[5 rows x 23 columns]\n"
          ]
        }
      ],
      "source": [
        "print(all_year_df[2013].head())"
      ]
    },
    {
      "cell_type": "markdown",
      "metadata": {
        "id": "zjrj3T5HadIR"
      },
      "source": [
        "## <ins> Breakdown the data </ins>\n",
        "\n",
        "### <ins> Analysis and information about the data </ins>\n",
        "As per my view after several read through of the dataset:\n",
        "- It contains weather data for ten consecutive years ranging from 2013 to 2022.\n",
        "\n",
        "### Procedures:\n",
        "- Here, I had separated the data into ten different data frames.\n",
        "- Comparison among the each of the year's data and take insights. At this moment, I've accumulated five innovative analysis questions as follows:\n",
        "\n",
        "  1. The year with maximum and minimum temperature.\n",
        "  2. The year with most sunny days.\n",
        "  3. The year with most and least rainy days.\n",
        "  4. The year with most rainfall.\n",
        "  5. The year with most and least humidity."
      ]
    },
    {
      "cell_type": "markdown",
      "metadata": {
        "id": "6yuM_O28ga0E"
      },
      "source": [
        "# 1. <ins>**The year with maximum and minimum temperature.**</ins>"
      ]
    },
    {
      "cell_type": "code",
      "execution_count": 199,
      "metadata": {
        "colab": {
          "base_uri": "https://localhost:8080/"
        },
        "id": "pQ6t6nUliHdE",
        "outputId": "a99541c5-14e0-4292-8c5c-c912fd6ee866"
      },
      "outputs": [
        {
          "name": "stdout",
          "output_type": "stream",
          "text": [
            "Maximum temperature: 45.8 in 2017\n",
            "Minimum temperature: 4.3 in 2015\n"
          ]
        }
      ],
      "source": [
        "max_temp = 0\n",
        "min_temp = float('inf')\n",
        "max_temp_year = 0\n",
        "min_temp_year = 0\n",
        "\n",
        "temperature_data = {}\n",
        "\n",
        "for i in range(2013, 2022):\n",
        "    year_max_temp = all_year_df[i]['MaxTemp'].max()\n",
        "    year_min_temp = all_year_df[i]['MinTemp'].min()\n",
        "\n",
        "    if year_max_temp >= max_temp:\n",
        "        max_temp = year_max_temp\n",
        "        max_temp_year = i\n",
        "    if year_min_temp <= min_temp:\n",
        "        min_temp = year_min_temp\n",
        "        min_temp_year = i\n",
        "\n",
        "    temperature_data[i] = all_year_df[i]['MaxTemp'].mean()\n",
        "\n",
        "print(f\"Maximum temperature: {max_temp} in {max_temp_year}\")\n",
        "print(f\"Minimum temperature: {min_temp} in {min_temp_year}\")"
      ]
    },
    {
      "cell_type": "markdown",
      "metadata": {
        "id": "QpqIHYBTAhmU"
      },
      "source": [
        "Plot"
      ]
    },
    {
      "cell_type": "code",
      "execution_count": 200,
      "metadata": {
        "id": "3Hm0yZpEAig8"
      },
      "outputs": [
        {
          "data": {
            "image/png": "[encoded data removed]",
            "text/plain": [
              "<Figure size 640x480 with 1 Axes>"
            ]
          },
          "metadata": {},
          "output_type": "display_data"
        }
      ],
      "source": [
        "plt.bar(temperature_data.keys(), temperature_data.values(), color='blue', label='Average Temperature')\n",
        "\n",
        "plt.bar(max_temp_year, temperature_data[max_temp_year], color='green', label=f'Year with Max Temp: {max_temp_year}', width=1)\n",
        "plt.bar(min_temp_year, temperature_data[min_temp_year], color='red', label=f'Year with Min Temp: {min_temp_year}', width=1)\n",
        "\n",
        "plt.title('Average Temperature by Year (2013-2021)')\n",
        "plt.xlabel('Year')\n",
        "plt.ylabel('Average Temperature (°C)')\n",
        "plt.legend()\n",
        "plt.show()"
      ]
    },
    {
      "cell_type": "markdown",
      "metadata": {
        "id": "EFgJb6TmjCE8"
      },
      "source": [
        "# 2. <ins>**The year with maximum and minimum sunshine days.**</ins>\n",
        "\n",
        "- Sunshine refers to hours of bright sunshine recorded in a day."
      ]
    },
    {
      "cell_type": "code",
      "execution_count": 201,
      "metadata": {
        "id": "luZO-Io3iQXj"
      },
      "outputs": [
        {
          "name": "stdout",
          "output_type": "stream",
          "text": [
            "Maximum sunny year: 2018 with sunshine value: 13.6\n",
            "Minimum sunny year: 2021 with sunshine value: 0.0\n"
          ]
        }
      ],
      "source": [
        "max_sunshine_val = 0\n",
        "min_sunshine_val = float('inf')\n",
        "max_sunshine_year = 0\n",
        "min_sunshine_year = 0\n",
        "\n",
        "sunshine_data = {}\n",
        "\n",
        "for i in range(2013, 2022):\n",
        "    year_max_sunshine = all_year_df[i]['Sunshine'].mean()\n",
        "    sunshine_data[i] = year_max_sunshine\n",
        "\n",
        "    if all_year_df[i]['Sunshine'].max() >= max_sunshine_val:\n",
        "        max_sunshine_val = all_year_df[i]['Sunshine'].max()\n",
        "        max_sunshine_year = i\n",
        "\n",
        "    if all_year_df[i]['Sunshine'].min() <= min_sunshine_val:\n",
        "        min_sunshine_val = all_year_df[i]['Sunshine'].min()\n",
        "        min_sunshine_year = i\n",
        "\n",
        "print(f\"Maximum sunny year: {max_sunshine_year} with sunshine value: {max_sunshine_val}\")\n",
        "print(f\"Minimum sunny year: {min_sunshine_year} with sunshine value: {min_sunshine_val}\")"
      ]
    },
    {
      "cell_type": "markdown",
      "metadata": {},
      "source": [
        "Plot"
      ]
    },
    {
      "cell_type": "code",
      "execution_count": 202,
      "metadata": {},
      "outputs": [
        {
          "data": {
            "image/png": "[encoded data removed]",
            "text/plain": [
              "<Figure size 640x480 with 1 Axes>"
            ]
          },
          "metadata": {},
          "output_type": "display_data"
        }
      ],
      "source": [
        "plt.bar(sunshine_data.keys(), sunshine_data.values(), color='blue', label='Average Sunshine')\n",
        "plt.bar(max_sunshine_year, sunshine_data[max_sunshine_year], color='green', label=f'Max Sunshine Year: {max_sunshine_year}', width=1)\n",
        "plt.bar(min_sunshine_year, sunshine_data[min_sunshine_year], color='red', label=f'Min Sunshine Year: {min_sunshine_year}', width=1)\n",
        "\n",
        "plt.title('Average Sunshine by Year (2013-2021)')\n",
        "plt.xlabel('Year')\n",
        "plt.ylabel('Average Sunshine (hours)')\n",
        "plt.legend()\n",
        "plt.show()"
      ]
    },
    {
      "cell_type": "markdown",
      "metadata": {},
      "source": [
        "# 3. <ins>**The year with most and least rainy days.**</ins>"
      ]
    },
    {
      "cell_type": "code",
      "execution_count": 203,
      "metadata": {},
      "outputs": [
        {
          "name": "stdout",
          "output_type": "stream",
          "text": [
            "The year with the most rainy days is 2016 with 111 rainy days.\n",
            "The year with the least rainy days is 2017 with 78 rainy days.\n"
          ]
        }
      ],
      "source": [
        "most_rainy_year = 0\n",
        "max_rainy_days = 0\n",
        "\n",
        "least_rainy_year = 0\n",
        "min_rainy_days = float('inf') \n",
        "\n",
        "rainy_days_cnt_data = {}\n",
        "\n",
        "for year in range(2013, 2022):\n",
        "    rainy_days_count = all_year_df[year]['RainToday'].value_counts().get('Yes', 0)\n",
        "\n",
        "    if rainy_days_count > max_rainy_days:\n",
        "        max_rainy_days = rainy_days_count\n",
        "        most_rainy_year = year\n",
        "\n",
        "    if rainy_days_count < min_rainy_days:\n",
        "        min_rainy_days = rainy_days_count\n",
        "        least_rainy_year = year\n",
        "    \n",
        "    rainy_days_cnt_data[year] = rainy_days_count\n",
        "\n",
        "print(f\"The year with the most rainy days is {most_rainy_year} with {max_rainy_days} rainy days.\")\n",
        "print(f\"The year with the least rainy days is {least_rainy_year} with {min_rainy_days} rainy days.\")\n",
        "# print(f\"2014 rainy day count: {all_year_df[2014]['RainToday'].value_counts().get('Yes', 0)}\")"
      ]
    },
    {
      "cell_type": "markdown",
      "metadata": {},
      "source": [
        "Plot"
      ]
    },
    {
      "cell_type": "code",
      "execution_count": 204,
      "metadata": {},
      "outputs": [
        {
          "data": {
            "image/png": "[encoded data removed]",
            "text/plain": [
              "<Figure size 640x480 with 1 Axes>"
            ]
          },
          "metadata": {},
          "output_type": "display_data"
        }
      ],
      "source": [
        "plt.bar(rainy_days_cnt_data.keys(), rainy_days_cnt_data.values(), color='blue')\n",
        "\n",
        "plt.bar(most_rainy_year, max_rainy_days, color='green', label=f'Most Rainy Year: {most_rainy_year}')\n",
        "plt.bar(least_rainy_year, min_rainy_days, color='red', label=f'Least Rainy Year: {least_rainy_year}')\n",
        "\n",
        "plt.title('Rainy Days by Year (2013-2021)')\n",
        "plt.xlabel('Year')\n",
        "plt.ylabel('Total Rainy Days')\n",
        "plt.legend()\n",
        "plt.show()"
      ]
    },
    {
      "cell_type": "markdown",
      "metadata": {},
      "source": [
        "# 4. <ins>**The year with most and least rainfall.**</ins>\n"
      ]
    },
    {
      "cell_type": "code",
      "execution_count": 205,
      "metadata": {},
      "outputs": [
        {
          "name": "stdout",
          "output_type": "stream",
          "text": [
            "The year with the most rainfall is 2016 with 1563.6 total rainfall.\n",
            "The year with the least rainfall is 2014 with 965.4000000000001 total rainfall.\n"
          ]
        }
      ],
      "source": [
        "most_rainfall_year = 0\n",
        "max_rainfall = 0\n",
        "\n",
        "least_rainfall_year = 0\n",
        "min_rainfall = float('inf')\n",
        "\n",
        "rainfall_data = {}\n",
        "\n",
        "for year in range(2013, 2022):\n",
        "    total_rainfall = all_year_df[year]['Rainfall'].sum()\n",
        "\n",
        "    if total_rainfall > max_rainfall:\n",
        "        max_rainfall = total_rainfall\n",
        "        most_rainfall_year = year\n",
        "\n",
        "    if total_rainfall < min_rainfall:\n",
        "        min_rainfall = total_rainfall\n",
        "        least_rainfall_year = year\n",
        "    \n",
        "    rainfall_data[year] = total_rainfall\n",
        "\n",
        "print(f\"The year with the most rainfall is {most_rainfall_year} with {max_rainfall} total rainfall.\")\n",
        "print(f\"The year with the least rainfall is {least_rainfall_year} with {min_rainfall} total rainfall.\")"
      ]
    },
    {
      "cell_type": "markdown",
      "metadata": {},
      "source": [
        "Plot"
      ]
    },
    {
      "cell_type": "code",
      "execution_count": 206,
      "metadata": {},
      "outputs": [
        {
          "data": {
            "image/png": "[encoded data removed]",
            "text/plain": [
              "<Figure size 640x480 with 1 Axes>"
            ]
          },
          "metadata": {},
          "output_type": "display_data"
        }
      ],
      "source": [
        "plt.bar(rainfall_data.keys(), rainfall_data.values(), color='blue', label='Total Rainfall')\n",
        "\n",
        "plt.bar(most_rainfall_year, max_rainfall, color='green', label=f'Most Rainfall: {most_rainfall_year}', width=1)\n",
        "plt.bar(least_rainfall_year, min_rainfall, color='red', label=f'Least Rainfall: {least_rainfall_year}', width=1)\n",
        "\n",
        "plt.title('Total Rainfall by Year (2013-2021)')\n",
        "plt.xlabel('Year')\n",
        "plt.ylabel('Total Rainfall')\n",
        "plt.legend()\n",
        "plt.show()\n"
      ]
    },
    {
      "cell_type": "markdown",
      "metadata": {},
      "source": [
        "# 5. <ins>**The year with most and least humidity.**</ins>\n",
        "\n",
        "The humidity difference can lead to discomfort. If humidity in afternoon (3 PM) is grater than morning (9 AM) can lead to rainy or stormy weather. "
      ]
    },
    {
      "cell_type": "code",
      "execution_count": 207,
      "metadata": {},
      "outputs": [
        {
          "name": "stdout",
          "output_type": "stream",
          "text": [
            "Most humidity increase year is 2016 with 57 days.\n",
            "Least humidity increase year is 2014 with 34 days.\n"
          ]
        }
      ],
      "source": [
        "most_humidity_year = 0\n",
        "max_humidity_day_cnt = 0\n",
        "least_humidity_year = 0\n",
        "min_humidity_day_cnt = float('inf')  \n",
        "\n",
        "humidity_data = {}\n",
        "\n",
        "for year in range(2013, 2022):\n",
        "    true_count = all_year_df[year]['humidityIncrease'].sum()\n",
        "    humidity_data[year] = true_count \n",
        "\n",
        "    if true_count > max_humidity_day_cnt:\n",
        "        max_humidity_day_cnt = true_count\n",
        "        most_humidity_year = year\n",
        "\n",
        "    if true_count < min_humidity_day_cnt:\n",
        "        min_humidity_day_cnt = true_count\n",
        "        least_humidity_year = year\n",
        "\n",
        "print(f\"Most humidity increase year is {most_humidity_year} with {max_humidity_day_cnt} days.\")\n",
        "print(f\"Least humidity increase year is {least_humidity_year} with {min_humidity_day_cnt} days.\")"
      ]
    },
    {
      "cell_type": "markdown",
      "metadata": {},
      "source": [
        "Plot"
      ]
    },
    {
      "cell_type": "code",
      "execution_count": 208,
      "metadata": {},
      "outputs": [
        {
          "data": {
            "image/png": "[encoded data removed]",
            "text/plain": [
              "<Figure size 640x480 with 1 Axes>"
            ]
          },
          "metadata": {},
          "output_type": "display_data"
        }
      ],
      "source": [
        "plt.bar(humidity_data.keys(), humidity_data.values(), color='blue', label='Days with Increased Humidity')\n",
        "plt.bar(most_humidity_year, humidity_data[most_humidity_year], color='green', label=f'Most Humidity Year: {most_humidity_year}', width=1)\n",
        "plt.bar(least_humidity_year, humidity_data[least_humidity_year], color='red', label=f'Least Humidity Year: {least_humidity_year}', width=1)\n",
        "\n",
        "plt.title('Number of Days with Humidity Increase by Year (2013-2021)')\n",
        "plt.xlabel('Year')\n",
        "plt.ylabel('Number of Days')\n",
        "plt.legend()\n",
        "plt.show()"
      ]
    },
    {
      "cell_type": "markdown",
      "metadata": {},
      "source": [
        "Analysis result"
      ]
    },
    {
      "cell_type": "markdown",
      "metadata": {},
      "source": [
        "1. Most humidity year is also the year of most rainfall as well as most rainy year \n",
        "2. Least humidity year is also the year of least rainfall"
      ]
    }
  ],
  "metadata": {
    "accelerator": "TPU",
    "colab": {
      "gpuType": "V28",
      "provenance": []
    },
    "kernelspec": {
      "display_name": "Python 3",
      "name": "python3"
    },
    "language_info": {
      "codemirror_mode": {
        "name": "ipython",
        "version": 3
      },
      "file_extension": ".py",
      "mimetype": "text/x-python",
      "name": "python",
      "nbconvert_exporter": "python",
      "pygments_lexer": "ipython3",
      "version": "3.11.5"
    }
  },
  "nbformat": 4,
  "nbformat_minor": 0
}
