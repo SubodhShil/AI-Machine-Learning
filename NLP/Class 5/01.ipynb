{
 "cells": [
  {
   "cell_type": "code",
   "execution_count": 10,
   "metadata": {},
   "outputs": [
    {
     "name": "stdout",
     "output_type": "stream",
     "text": [
      "Iktam diktam piktam tam \n",
      "tama tam dama dam \n",
      "haki maki saki faki\n",
      "chouki doki moki \n",
      "ha ha ha ha ha"
     ]
    }
   ],
   "source": [
    "file = open(\"01.txt\", \"r\")\n",
    "\n",
    "for sentence in file:\n",
    "    print(sentence, end=\"\")"
   ]
  },
  {
   "cell_type": "code",
   "execution_count": null,
   "metadata": {},
   "outputs": [],
   "source": [
    "lines = [\"one\\n\", \"two\\n\", \"three\"]\n",
    "\n",
    "file2 = open(\"01.txt\", \"w\")\n",
    "file2.writelines(lines) "
   ]
  }
 ],
 "metadata": {
  "kernelspec": {
   "display_name": "Python 3",
   "language": "python",
   "name": "python3"
  },
  "language_info": {
   "codemirror_mode": {
    "name": "ipython",
    "version": 3
   },
   "file_extension": ".py",
   "mimetype": "text/x-python",
   "name": "python",
   "nbconvert_exporter": "python",
   "pygments_lexer": "ipython3",
   "version": "3.11.5"
  }
 },
 "nbformat": 4,
 "nbformat_minor": 2
}
