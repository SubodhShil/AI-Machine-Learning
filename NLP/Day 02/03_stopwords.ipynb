{
  "nbformat": 4,
  "nbformat_minor": 0,
  "metadata": {
    "colab": {
      "provenance": [],
      "gpuType": "T4"
    },
    "kernelspec": {
      "name": "python3",
      "display_name": "Python 3"
    },
    "language_info": {
      "name": "python"
    },
    "accelerator": "GPU"
  },
  "cells": [
    {
      "cell_type": "markdown",
      "metadata": {
        "id": "bLfOaM5h90Pm"
      },
      "source": [
        "## Stopwords\n",
        "\n",
        "These are common words, no need to be process when analyzing a particular usecase due to it's less importance.\n",
        "\n",
        "**<ins>When to use stopwords technique</ins>**\n",
        "\n",
        "1. To analysis the tag of a article\n",
        "2.\n",
        "\n",
        "**<ins>When should not use the stopwords technique</ins>**\n",
        "\n",
        "1. Chatbots, Q&A systems\n",
        "2. Language translators\n",
        "3. Any case where valuable information may lost"
      ]
    },
    {
      "cell_type": "markdown",
      "source": [
        "## Stopwords text preprocessing using NLTK"
      ],
      "metadata": {
        "id": "LMB860Do3HOi"
      }
    },
    {
      "cell_type": "code",
      "source": [
        "import nltk\n",
        "from nltk.stem import PorterStemmer\n",
        "from nltk.stem import WordNetLemmatizer\n",
        "from nltk.corpus import stopwords\n",
        "nltk.download('stopwords')\n",
        "nltk.download('punkt')\n",
        "nltk.download('wordnet')"
      ],
      "metadata": {
        "colab": {
          "base_uri": "https://localhost:8080/"
        },
        "id": "fWZl_mYuZX9y",
        "outputId": "2718de62-62f5-4187-f3a1-43ef045a0d24"
      },
      "execution_count": 16,
      "outputs": [
        {
          "output_type": "stream",
          "name": "stderr",
          "text": [
            "[nltk_data] Downloading package stopwords to /root/nltk_data...\n",
            "[nltk_data]   Package stopwords is already up-to-date!\n",
            "[nltk_data] Downloading package punkt to /root/nltk_data...\n",
            "[nltk_data]   Package punkt is already up-to-date!\n",
            "[nltk_data] Downloading package wordnet to /root/nltk_data...\n"
          ]
        },
        {
          "output_type": "execute_result",
          "data": {
            "text/plain": [
              "True"
            ]
          },
          "metadata": {},
          "execution_count": 16
        }
      ]
    },
    {
      "cell_type": "code",
      "source": [
        "# To see all the stopwords list accumulated by nltk\n",
        "\n",
        "all_stop_words = set(stopwords.words('english'))"
      ],
      "metadata": {
        "id": "B75JKUpOihuG"
      },
      "execution_count": 17,
      "outputs": []
    },
    {
      "cell_type": "code",
      "source": [
        "porterStemming = PorterStemmer()\n",
        "lemmatizer = WordNetLemmatizer()"
      ],
      "metadata": {
        "id": "R5LIH-CviWKn"
      },
      "execution_count": 18,
      "outputs": []
    },
    {
      "cell_type": "code",
      "execution_count": 19,
      "metadata": {
        "id": "mS01342Q94_j"
      },
      "outputs": [],
      "source": [
        "speech = \"My loving people, We have been persuaded by some that are careful of our safety, to take heed how we commit our selves to armed multitudes, for fear of treachery; but I assure you I do not desire to live to distrust my faithful and loving people. Let tyrants fear. I have always so behaved myself that, under God, I have placed my chiefest strength and safeguard in the loyal hearts and good-will of my subjects; and therefore I am come amongst you, as you see, at this time, not for my recreation and disport, but being resolved, in the midst and heat of the battle, to live and die amongst you all; to lay down for my God, and for my kingdom, and my people, my honour and my blood, even in the dust. I know I have the body of a weak, feeble woman; but I have the heart and stomach of a king, and of a king of England too, and think foul scorn that Parma or Spain, or any prince of Europe, should dare to invade the borders of my realm; to which rather than any dishonour shall grow by me, I myself will take up arms, I myself will be your general, judge, and rewarder of every one of your virtues in the field. I know already, for your forwardness you have deserved rewards and crowns; and We do assure you on a word of a prince, they shall be duly paid. In the mean time, my lieutenant general shall be in my stead, than whom never prince commanded a more noble or worthy subject; not doubting but by your obedience to my general, by your concord in the camp, and your valour in the field, we shall shortly have a famous victory over these enemies of my God, of my kingdom, and of my people.\""
      ]
    },
    {
      "cell_type": "code",
      "source": [
        "# Sentence preprocessing: tokenization\n",
        "\n",
        "sentences = nltk.sent_tokenize(speech)\n",
        "for sentence in sentences:\n",
        "  print(sentence)"
      ],
      "metadata": {
        "colab": {
          "base_uri": "https://localhost:8080/"
        },
        "id": "93OAI3c3dZtR",
        "outputId": "c76780f7-2fb4-4eee-b0ff-e8f9a5d8654b"
      },
      "execution_count": 20,
      "outputs": [
        {
          "output_type": "stream",
          "name": "stdout",
          "text": [
            "My loving people, We have been persuaded by some that are careful of our safety, to take heed how we commit our selves to armed multitudes, for fear of treachery; but I assure you I do not desire to live to distrust my faithful and loving people.\n",
            "Let tyrants fear.\n",
            "I have always so behaved myself that, under God, I have placed my chiefest strength and safeguard in the loyal hearts and good-will of my subjects; and therefore I am come amongst you, as you see, at this time, not for my recreation and disport, but being resolved, in the midst and heat of the battle, to live and die amongst you all; to lay down for my God, and for my kingdom, and my people, my honour and my blood, even in the dust.\n",
            "I know I have the body of a weak, feeble woman; but I have the heart and stomach of a king, and of a king of England too, and think foul scorn that Parma or Spain, or any prince of Europe, should dare to invade the borders of my realm; to which rather than any dishonour shall grow by me, I myself will take up arms, I myself will be your general, judge, and rewarder of every one of your virtues in the field.\n",
            "I know already, for your forwardness you have deserved rewards and crowns; and We do assure you on a word of a prince, they shall be duly paid.\n",
            "In the mean time, my lieutenant general shall be in my stead, than whom never prince commanded a more noble or worthy subject; not doubting but by your obedience to my general, by your concord in the camp, and your valour in the field, we shall shortly have a famous victory over these enemies of my God, of my kingdom, and of my people.\n"
          ]
        }
      ]
    },
    {
      "cell_type": "code",
      "source": [
        "for i in range(len(sentences)):\n",
        "  words = nltk.word_tokenize(sentences[i])\n",
        "  words = [lemmatizer.lemmatize(word, pos='v') for word in words if word.lower() not in all_stop_words]\n",
        "  sentences[i] = ' '.join(words)\n",
        "\n",
        "for sentence in sentences:\n",
        "  print(sentence)"
      ],
      "metadata": {
        "id": "g_yQbyrQjfUQ",
        "colab": {
          "base_uri": "https://localhost:8080/"
        },
        "outputId": "852239b4-8ff0-4956-f96a-456f95b53e59"
      },
      "execution_count": 27,
      "outputs": [
        {
          "output_type": "stream",
          "name": "stdout",
          "text": [
            "love people , persuade careful safety , take heed commit selves arm multitudes , fear treachery ; assure desire live distrust faithful love people .\n",
            "Let tyrants fear .\n",
            "always behave , God , place chiefest strength safeguard loyal hearts good-will subject ; therefore come amongst , see , time , recreation disport , resolve , midst heat battle , live die amongst ; lay God , kingdom , people , honour blood , even dust .\n",
            "know body weak , feeble woman ; heart stomach king , king England , think foul scorn Parma Spain , prince Europe , dare invade border realm ; rather dishonour shall grow , take arm , general , judge , rewarder every one virtues field .\n",
            "know already , forwardness deserve reward crown ; assure word prince , shall duly pay .\n",
            "mean time , lieutenant general shall stead , never prince command noble worthy subject ; doubt obedience general , concord camp , valour field , shall shortly famous victory enemies God , kingdom , people .\n"
          ]
        }
      ]
    },
    {
      "cell_type": "markdown",
      "source": [
        "## Stopwords text preprocessing using SpaCy"
      ],
      "metadata": {
        "id": "EEuOQgH17tLx"
      }
    },
    {
      "cell_type": "code",
      "source": [
        "import spacy\n",
        "from spacy.lang.en.stop_words import STOP_WORDS"
      ],
      "metadata": {
        "id": "aGrRoGFz7vAR"
      },
      "execution_count": 31,
      "outputs": []
    },
    {
      "cell_type": "code",
      "source": [
        "nlp = spacy.load(\"en_core_web_sm\")\n",
        "doc = nlp(\"My loving people, We have been persuaded by some that are careful of our safety, to take heed how we commit our selves to armed multitudes, for fear of treachery; but I assure you I do not desire to live to distrust my faithful and loving people. Let tyrants fear. I have always so behaved myself that, under God, I have placed my chiefest strength and safeguard in the loyal hearts and good-will of my subjects; and therefore I am come amongst you, as you see, at this time, not for my recreation and disport, but being resolved, in the midst and heat of the battle, to live and die amongst you all; to lay down for my God, and for my kingdom, and my people, my honour and my blood, even in the dust. I know I have the body of a weak, feeble woman; but I have the heart and stomach of a king, and of a king of England too, and think foul scorn that Parma or Spain, or any prince of Europe, should dare to invade the borders of my realm; to which rather than any dishonour shall grow by me, I myself will take up arms, I myself will be your general, judge, and rewarder of every one of your virtues in the field. I know already, for your forwardness you have deserved rewards and crowns; and We do assure you on a word of a prince, they shall be duly paid. In the mean time, my lieutenant general shall be in my stead, than whom never prince commanded a more noble or worthy subject; not doubting but by your obedience to my general, by your concord in the camp, and your valour in the field, we shall shortly have a famous victory over these enemies of my God, of my kingdom, and of my people.\")"
      ],
      "metadata": {
        "id": "geeUp_d778lR"
      },
      "execution_count": 32,
      "outputs": []
    },
    {
      "cell_type": "code",
      "source": [
        "for token in doc:\n",
        "  if token.is_stop:\n",
        "    print(token, end = \", \")"
      ],
      "metadata": {
        "colab": {
          "base_uri": "https://localhost:8080/"
        },
        "id": "Bfm8O65w8PHy",
        "outputId": "cc773a10-289c-4746-f388-c9fd73ceaa5e"
      },
      "execution_count": 35,
      "outputs": [
        {
          "output_type": "stream",
          "name": "stdout",
          "text": [
            "My, We, have, been, by, some, that, are, of, our, to, take, how, we, our, to, for, of, but, I, you, I, do, not, to, to, my, and, I, have, always, so, myself, that, under, I, have, my, and, in, the, and, will, of, my, and, therefore, I, am, amongst, you, as, you, see, at, this, not, for, my, and, but, being, in, the, and, of, the, to, and, amongst, you, all, to, down, for, my, and, for, my, and, my, my, and, my, even, in, the, I, I, have, the, of, a, but, I, have, the, and, of, a, and, of, a, of, too, and, that, or, or, any, of, should, to, the, of, my, to, which, rather, than, any, by, me, I, myself, will, take, up, I, myself, will, be, your, and, of, every, one, of, your, in, the, I, already, for, your, you, have, and, and, We, do, you, on, a, of, a, they, be, In, the, my, be, in, my, than, whom, never, a, more, or, not, but, by, your, to, my, by, your, in, the, and, your, in, the, we, have, a, over, these, of, my, of, my, and, of, my, "
          ]
        }
      ]
    },
    {
      "cell_type": "code",
      "source": [
        "# This method can used as stopword preprocessing\n",
        "\n",
        "def preprocessing(text):\n",
        "  doc = nlp(text)\n",
        "  without_stop_words = [token.text for token in doc if not token.is_stop and not token.is_punct]\n",
        "\n",
        "  return without_stop_words\n",
        "\n",
        "print(preprocessing(\"My loving people, We have been persuaded by some that are careful of our safety, to take heed how we commit our selves to armed multitudes, for fear of treachery; but I assure you I do not desire to live to distrust my faithful and loving people. Let tyrants fear. I have always so behaved myself that, under God, I have placed my chiefest strength and safeguard in the loyal hearts and good-will of my subjects; and therefore I am come amongst you, as you see, at this time, not for my recreation and disport, but being resolved, in the midst and heat of the battle, to live and die amongst you all; to lay down for my God, and for my kingdom, and my people, my honour and my blood, even in the dust. I know I have the body of a weak, feeble woman; but I have the heart and stomach of a king, and of a king of England too, and think foul scorn that Parma or Spain, or any prince of Europe, should dare to invade the borders of my realm; to which rather than any dishonour shall grow by me, I myself will take up arms, I myself will be your general, judge, and rewarder of every one of your virtues in the field. I know already, for your forwardness you have deserved rewards and crowns; and We do assure you on a word of a prince, they shall be duly paid. In the mean time, my lieutenant general shall be in my stead, than whom never prince commanded a more noble or worthy subject; not doubting but by your obedience to my general, by your concord in the camp, and your valour in the field, we shall shortly have a famous victory over these enemies of my God, of my kingdom, and of my people.\"))"
      ],
      "metadata": {
        "colab": {
          "base_uri": "https://localhost:8080/"
        },
        "id": "4VCemTJj85AR",
        "outputId": "0c687874-26e8-46f6-8aa9-d8c1e7a0ec61"
      },
      "execution_count": 36,
      "outputs": [
        {
          "output_type": "stream",
          "name": "stdout",
          "text": [
            "['loving', 'people', 'persuaded', 'careful', 'safety', 'heed', 'commit', 'selves', 'armed', 'multitudes', 'fear', 'treachery', 'assure', 'desire', 'live', 'distrust', 'faithful', 'loving', 'people', 'Let', 'tyrants', 'fear', 'behaved', 'God', 'placed', 'chiefest', 'strength', 'safeguard', 'loyal', 'hearts', 'good', 'subjects', 'come', 'time', 'recreation', 'disport', 'resolved', 'midst', 'heat', 'battle', 'live', 'die', 'lay', 'God', 'kingdom', 'people', 'honour', 'blood', 'dust', 'know', 'body', 'weak', 'feeble', 'woman', 'heart', 'stomach', 'king', 'king', 'England', 'think', 'foul', 'scorn', 'Parma', 'Spain', 'prince', 'Europe', 'dare', 'invade', 'borders', 'realm', 'dishonour', 'shall', 'grow', 'arms', 'general', 'judge', 'rewarder', 'virtues', 'field', 'know', 'forwardness', 'deserved', 'rewards', 'crowns', 'assure', 'word', 'prince', 'shall', 'duly', 'paid', 'mean', 'time', 'lieutenant', 'general', 'shall', 'stead', 'prince', 'commanded', 'noble', 'worthy', 'subject', 'doubting', 'obedience', 'general', 'concord', 'camp', 'valour', 'field', 'shall', 'shortly', 'famous', 'victory', 'enemies', 'God', 'kingdom', 'people']\n"
          ]
        }
      ]
    },
    {
      "cell_type": "code",
      "source": [],
      "metadata": {
        "id": "2Pl00cg29pbR"
      },
      "execution_count": null,
      "outputs": []
    }
  ]
}