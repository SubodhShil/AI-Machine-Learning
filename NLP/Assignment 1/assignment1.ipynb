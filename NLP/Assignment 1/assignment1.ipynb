{
 "cells": [
  {
   "cell_type": "markdown",
   "metadata": {},
   "source": [
    "# Question 1"
   ]
  },
  {
   "cell_type": "code",
   "execution_count": null,
   "metadata": {},
   "outputs": [
    {
     "name": "stdout",
     "output_type": "stream",
     "text": [
      "60\n"
     ]
    }
   ],
   "source": [
    "def total_treasure(caves):\n",
    "    amount = 0\n",
    "\n",
    "    for treasure in caves:\n",
    "        amount += treasure\n",
    "\n",
    "    return amount\n",
    "\n",
    "\n",
    "print(total_treasure([10, 20, 30]))"
   ]
  },
  {
   "cell_type": "markdown",
   "metadata": {},
   "source": [
    "# Question 2"
   ]
  },
  {
   "cell_type": "code",
   "execution_count": 2,
   "metadata": {},
   "outputs": [
    {
     "name": "stdout",
     "output_type": "stream",
     "text": [
      "['P', 'A']\n"
     ]
    }
   ],
   "source": [
    "def unique_creatures(creatures):\n",
    "    st = set()\n",
    "\n",
    "    for item in creatures:\n",
    "        st.add(item)\n",
    "\n",
    "    unique_creature = list(st)\n",
    "\n",
    "    return unique_creature\n",
    "\n",
    "\n",
    "print(unique_creatures([\"P\", 'A', 'P', 'A']))"
   ]
  },
  {
   "cell_type": "markdown",
   "metadata": {},
   "source": [
    "# Question 3"
   ]
  },
  {
   "cell_type": "code",
   "execution_count": 18,
   "metadata": {},
   "outputs": [
    {
     "name": "stdout",
     "output_type": "stream",
     "text": [
      "Valid serial number\n"
     ]
    }
   ],
   "source": [
    "def is_serial_number_valid(serial_number):\n",
    "\n",
    "    if len(serial_number) < 8:\n",
    "        print(\"Serial number must contain 8 characters or more.\")\n",
    "        return\n",
    "\n",
    "    char_cnt, number_cnt = (0, 0)\n",
    "    for item in serial_number:\n",
    "        if item >= '0' and item <= '9':\n",
    "            number_cnt += 1\n",
    "        else:\n",
    "            char_cnt += 1\n",
    "\n",
    "    if char_cnt == 0:\n",
    "        print(\"Serial number doesn't contain adequate amount of characters.\")\n",
    "    elif number_cnt == 0:\n",
    "        print(\"Serial number doesn't contain adequate amount of digits.\")\n",
    "    else:\n",
    "        print(\"Valid serial number\")\n",
    "\n",
    "\n",
    "is_serial_number_valid(\"1234aa567898\")"
   ]
  },
  {
   "cell_type": "markdown",
   "metadata": {},
   "source": [
    "# Question 4"
   ]
  },
  {
   "cell_type": "code",
   "execution_count": null,
   "metadata": {},
   "outputs": [
    {
     "name": "stdout",
     "output_type": "stream",
     "text": [
      "The plant namely Jupiter has the largest diameter of 139820\n"
     ]
    }
   ],
   "source": [
    "def planet_summary(planets):\n",
    "    largest_diameter = 0\n",
    "    largest_plant = \"\"\n",
    "\n",
    "    for key, value in planets.items():\n",
    "        if value > largest_diameter:\n",
    "            largest_plant = key\n",
    "            largest_diameter = value\n",
    "\n",
    "    return f\"The plant namely {largest_plant} has the largest diameter of {largest_diameter}\"\n",
    "\n",
    "\n",
    "planets_data = {\n",
    "    \"Mars\": 6779,\n",
    "    \"Earth\": 12742,\n",
    "    \"Jupiter\": 139820,\n",
    "    \"Venus\": 12104\n",
    "}\n",
    "\n",
    "print(planet_summary(planets_data))"
   ]
  },
  {
   "cell_type": "markdown",
   "metadata": {},
   "source": [
    "# Question 5"
   ]
  },
  {
   "cell_type": "code",
   "execution_count": 4,
   "metadata": {},
   "outputs": [
    {
     "name": "stdout",
     "output_type": "stream",
     "text": [
      "{'A': 2, 'B': 3, 'C': 10, 'D': 10}\n"
     ]
    }
   ],
   "source": [
    "def level_up(skills):\n",
    "\n",
    "    # Here, skill => key and level => value\n",
    "    for skill, level in skills.items():\n",
    "        if level < 10:\n",
    "            skills[skill] = level + 1\n",
    "\n",
    "    return skills\n",
    "\n",
    "\n",
    "skills = {\n",
    "    \"A\": 1,\n",
    "    \"B\": 2,\n",
    "    \"C\": 10,\n",
    "    \"D\": 9\n",
    "}\n",
    "\n",
    "print(level_up(skills))"
   ]
  },
  {
   "cell_type": "markdown",
   "metadata": {},
   "source": [
    "# Question 6"
   ]
  },
  {
   "cell_type": "code",
   "execution_count": 7,
   "metadata": {},
   "outputs": [
    {
     "name": "stdout",
     "output_type": "stream",
     "text": [
      "A C D X \n"
     ]
    }
   ],
   "source": [
    "def inventory_summary(inventory):\n",
    "    out_of_stock_books = \"\"\n",
    "    for title, quantity in inventory.items():\n",
    "        if quantity == 0:\n",
    "            out_of_stock_books += title + \" \"\n",
    "\n",
    "    return out_of_stock_books\n",
    "\n",
    "\n",
    "inventory = {\n",
    "    \"A\": 0,\n",
    "    \"B\": 30,\n",
    "    \"C\": 0,\n",
    "    \"D\": 0, \n",
    "    \"X\": 0\n",
    "}\n",
    "\n",
    "print(inventory_summary(inventory))"
   ]
  }
 ],
 "metadata": {
  "kernelspec": {
   "display_name": "Python 3",
   "language": "python",
   "name": "python3"
  },
  "language_info": {
   "codemirror_mode": {
    "name": "ipython",
    "version": 3
   },
   "file_extension": ".py",
   "mimetype": "text/x-python",
   "name": "python",
   "nbconvert_exporter": "python",
   "pygments_lexer": "ipython3",
   "version": "3.11.5"
  }
 },
 "nbformat": 4,
 "nbformat_minor": 2
}
