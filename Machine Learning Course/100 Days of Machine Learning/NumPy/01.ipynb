{
 "cells": [
  {
   "cell_type": "markdown",
   "metadata": {},
   "source": [
    "#### **```NumPy```**"
   ]
  },
  {
   "cell_type": "code",
   "execution_count": 1,
   "metadata": {},
   "outputs": [],
   "source": [
    "import numpy as np"
   ]
  },
  {
   "cell_type": "code",
   "execution_count": 2,
   "metadata": {},
   "outputs": [
    {
     "name": "stdout",
     "output_type": "stream",
     "text": [
      "[[1 2 3 4]\n",
      " [5 6 7 8]]\n"
     ]
    }
   ],
   "source": [
    "twoD_array = np.array([(1, 2, 3, 4), (5, 6, 7, 8)])\n",
    "print(twoD_array)"
   ]
  },
  {
   "cell_type": "code",
   "execution_count": 3,
   "metadata": {},
   "outputs": [
    {
     "data": {
      "text/plain": [
       "(2, 4)"
      ]
     },
     "execution_count": 3,
     "metadata": {},
     "output_type": "execute_result"
    }
   ],
   "source": [
    "twoD_array.shape"
   ]
  },
  {
   "cell_type": "code",
   "execution_count": 4,
   "metadata": {},
   "outputs": [
    {
     "name": "stdout",
     "output_type": "stream",
     "text": [
      "2\n"
     ]
    }
   ],
   "source": [
    "# check dimensions of an array\n",
    "print(twoD_array.ndim)"
   ]
  },
  {
   "cell_type": "code",
   "execution_count": 5,
   "metadata": {},
   "outputs": [
    {
     "name": "stdout",
     "output_type": "stream",
     "text": [
      "8\n"
     ]
    }
   ],
   "source": [
    "# number of elements in an array\n",
    "print(twoD_array.size)"
   ]
  },
  {
   "cell_type": "code",
   "execution_count": 6,
   "metadata": {},
   "outputs": [
    {
     "name": "stdout",
     "output_type": "stream",
     "text": [
      "int32\n"
     ]
    }
   ],
   "source": [
    "# check data type\n",
    "print(twoD_array.dtype)"
   ]
  },
  {
   "cell_type": "markdown",
   "metadata": {},
   "source": [
    "```Convert 2D or multidimensional array into 1D array```"
   ]
  },
  {
   "cell_type": "code",
   "execution_count": 7,
   "metadata": {},
   "outputs": [
    {
     "name": "stdout",
     "output_type": "stream",
     "text": [
      "[[6 5]\n",
      " [9 8]\n",
      " [5 7]]\n",
      "[6 5 9 8 5 7]\n"
     ]
    }
   ],
   "source": [
    "multi_array = np.random.randint(5, 10, (3, 2))\n",
    "print(multi_array)\n",
    "\n",
    "# convert into 1D array\n",
    "single_D_array = multi_array.flatten()\n",
    "print(single_D_array)"
   ]
  },
  {
   "cell_type": "markdown",
   "metadata": {},
   "source": [
    "Initial placeholders"
   ]
  },
  {
   "cell_type": "code",
   "execution_count": 8,
   "metadata": {},
   "outputs": [
    {
     "name": "stdout",
     "output_type": "stream",
     "text": [
      "[[0. 0. 0. 0. 0.]\n",
      " [0. 0. 0. 0. 0.]\n",
      " [0. 0. 0. 0. 0.]\n",
      " [0. 0. 0. 0. 0.]]\n"
     ]
    }
   ],
   "source": [
    "# array initialized with all zeros\n",
    "x = np.zeros((4, 5))\n",
    "print(x)"
   ]
  },
  {
   "cell_type": "code",
   "execution_count": 9,
   "metadata": {},
   "outputs": [
    {
     "name": "stdout",
     "output_type": "stream",
     "text": [
      "[[33 33 33 33 33]\n",
      " [33 33 33 33 33]\n",
      " [33 33 33 33 33]\n",
      " [33 33 33 33 33]]\n"
     ]
    }
   ],
   "source": [
    "# array initialized with a particular value\n",
    "y = np.full((4, 5), 33)\n",
    "print(y)"
   ]
  },
  {
   "cell_type": "code",
   "execution_count": 10,
   "metadata": {},
   "outputs": [
    {
     "name": "stdout",
     "output_type": "stream",
     "text": [
      "[[1. 0. 0. 0. 0. 0.]\n",
      " [0. 1. 0. 0. 0. 0.]\n",
      " [0. 0. 1. 0. 0. 0.]\n",
      " [0. 0. 0. 1. 0. 0.]\n",
      " [0. 0. 0. 0. 1. 0.]\n",
      " [0. 0. 0. 0. 0. 1.]]\n"
     ]
    }
   ],
   "source": [
    "# Identity matrix: matrix that have an equal number of rows and columns \n",
    "z = np.eye(6)\n",
    "print(z)"
   ]
  },
  {
   "cell_type": "code",
   "execution_count": 11,
   "metadata": {},
   "outputs": [
    {
     "name": "stdout",
     "output_type": "stream",
     "text": [
      "[[0.0969918  0.36991976 0.11366062 0.85149609 0.437635   0.77721195]\n",
      " [0.01418297 0.17400997 0.65565719 0.75101469 0.64174335 0.88932491]\n",
      " [0.99883322 0.61088151 0.89999378 0.85691552 0.75588696 0.9349958 ]\n",
      " [0.41246634 0.23117228 0.79649959 0.60363438 0.32055762 0.25355656]\n",
      " [0.79484845 0.21495588 0.18141211 0.90600954 0.30683738 0.85375816]]\n"
     ]
    }
   ],
   "source": [
    "# array with random floating point values\n",
    "randMatrix1 = np.random.random((5, 6))\n",
    "print(randMatrix1)"
   ]
  },
  {
   "cell_type": "code",
   "execution_count": 12,
   "metadata": {},
   "outputs": [
    {
     "name": "stdout",
     "output_type": "stream",
     "text": [
      "[[114 132 133 157 111]\n",
      " [133 125 178 173 121]\n",
      " [155 103 144 174 119]\n",
      " [131 176 165 132 111]]\n"
     ]
    }
   ],
   "source": [
    "# array with random integer values within a specific range\n",
    "randMatrix2 = np.random.randint(100, 200, (4, 5))\n",
    "print(randMatrix2)"
   ]
  },
  {
   "cell_type": "code",
   "execution_count": 13,
   "metadata": {},
   "outputs": [
    {
     "name": "stdout",
     "output_type": "stream",
     "text": [
      "[10. 12. 14. 16. 18. 20. 22. 24. 26. 28. 30.]\n"
     ]
    }
   ],
   "source": [
    "# array with evenly spaced values -> number of values required\n",
    "evenlySpacedArray = np.linspace(10, 30, 11)\n",
    "print(evenlySpacedArray)"
   ]
  },
  {
   "cell_type": "code",
   "execution_count": 14,
   "metadata": {},
   "outputs": [
    {
     "name": "stdout",
     "output_type": "stream",
     "text": [
      "[10 12 14 16 18 20 22 24 26 28]\n"
     ]
    }
   ],
   "source": [
    "# array with evenly spaced values -> specifying the number of steps\n",
    "sequenceArray = np.arange(10, 30, 2)\n",
    "print(sequenceArray)"
   ]
  },
  {
   "cell_type": "code",
   "execution_count": 15,
   "metadata": {},
   "outputs": [
    {
     "name": "stdout",
     "output_type": "stream",
     "text": [
      "[10 20 30 40 50]\n"
     ]
    },
    {
     "data": {
      "text/plain": [
       "numpy.ndarray"
      ]
     },
     "execution_count": 15,
     "metadata": {},
     "output_type": "execute_result"
    }
   ],
   "source": [
    "# convert regular python list into numpy array\n",
    "list2 = [10, 20, 30, 40, 50]\n",
    "np_array = np.asarray(list2)\n",
    "print(np_array)\n",
    "type(np_array)"
   ]
  },
  {
   "cell_type": "markdown",
   "metadata": {},
   "source": [
    "#### ```Mathematical operations```"
   ]
  },
  {
   "cell_type": "code",
   "execution_count": 16,
   "metadata": {},
   "outputs": [
    {
     "name": "stdout",
     "output_type": "stream",
     "text": [
      "[11 22 33 44]\n",
      "[ 10  40  90 160]\n"
     ]
    }
   ],
   "source": [
    "list1 = np.array([1, 2, 3, 4])\n",
    "list2 = np.array([10, 20, 30, 40])\n",
    "\n",
    "# concatenation\n",
    "print(list1 + list2)\n",
    "print(list1 * list2)"
   ]
  },
  {
   "cell_type": "code",
   "execution_count": 17,
   "metadata": {},
   "outputs": [
    {
     "name": "stdout",
     "output_type": "stream",
     "text": [
      "[[11 22 33]\n",
      " [44 55 66]]\n",
      "[[ -9 -18 -27]\n",
      " [-36 -45 -54]]\n",
      "[[ 10  40  90]\n",
      " [160 250 360]]\n",
      "[[0.1 0.1 0.1]\n",
      " [0.1 0.1 0.1]]\n"
     ]
    }
   ],
   "source": [
    "list2D_1 = np.array([(1, 2, 3), (4, 5, 6)])\n",
    "list2D_2 = np.array([(10, 20, 30), (40, 50, 60)])\n",
    "print(list2D_1 + list2D_2)\n",
    "print(list2D_1 - list2D_2)\n",
    "print(list2D_1 * list2D_2)\n",
    "print(list2D_1 / list2D_2)"
   ]
  },
  {
   "cell_type": "code",
   "execution_count": 18,
   "metadata": {},
   "outputs": [],
   "source": [
    "a = np.random.randint(10, 20, (3, 3))\n",
    "b = np.random.randint(30, 40, (3, 3))"
   ]
  },
  {
   "cell_type": "code",
   "execution_count": 19,
   "metadata": {},
   "outputs": [
    {
     "name": "stdout",
     "output_type": "stream",
     "text": [
      "[[55 53 47]\n",
      " [42 41 48]\n",
      " [54 48 52]]\n",
      "[[-23 -15 -25]\n",
      " [-18 -21 -12]\n",
      " [-20 -16 -26]]\n",
      "[[624 646 396]\n",
      " [360 310 540]\n",
      " [629 512 507]]\n",
      "[[0.41025641 0.55882353 0.30555556]\n",
      " [0.4        0.32258065 0.6       ]\n",
      " [0.45945946 0.5        0.33333333]]\n"
     ]
    }
   ],
   "source": [
    "print(np.add(a, b))\n",
    "print(np.subtract(a, b))\n",
    "print(np.multiply(a, b))\n",
    "print(np.divide(a, b))"
   ]
  },
  {
   "cell_type": "code",
   "execution_count": 20,
   "metadata": {},
   "outputs": [
    {
     "name": "stdout",
     "output_type": "stream",
     "text": [
      "[[26 27]\n",
      " [23 27]\n",
      " [26 11]]\n",
      "[[26 23 26]\n",
      " [27 27 11]]\n",
      "[[26 23 26]\n",
      " [27 27 11]]\n"
     ]
    }
   ],
   "source": [
    "# Transpose matrix: A matrix that obtained by interchanging the rows and columns.\n",
    "matrix = np.random.randint(10, 30, (3, 2))\n",
    "print(matrix)\n",
    "\n",
    "# initializing matrix as transpose matrix\n",
    "transpose_mat = matrix.T\n",
    "print(transpose_mat)\n",
    "\n",
    "# converting the existing matrix into a transpose matrix\n",
    "matrix = matrix.T\n",
    "print(matrix)"
   ]
  },
  {
   "cell_type": "markdown",
   "metadata": {},
   "source": [
    "```Reshaping an array```"
   ]
  },
  {
   "cell_type": "code",
   "execution_count": 21,
   "metadata": {},
   "outputs": [
    {
     "name": "stdout",
     "output_type": "stream",
     "text": [
      "[[ 7 10  7]\n",
      " [ 8 12 12]\n",
      " [ 9  7 13]\n",
      " [ 6 14  8]]\n",
      "[[ 7 10  7  8]\n",
      " [12 12  9  7]\n",
      " [13  6 14  8]]\n"
     ]
    }
   ],
   "source": [
    "a = np.random.randint(5, 15, (4, 3))\n",
    "print(a)\n",
    "b = a.reshape(3, 4)\n",
    "print(b)"
   ]
  }
 ],
 "metadata": {
  "kernelspec": {
   "display_name": "Python 3",
   "language": "python",
   "name": "python3"
  },
  "language_info": {
   "codemirror_mode": {
    "name": "ipython",
    "version": 3
   },
   "file_extension": ".py",
   "mimetype": "text/x-python",
   "name": "python",
   "nbconvert_exporter": "python",
   "pygments_lexer": "ipython3",
   "version": "3.11.5"
  }
 },
 "nbformat": 4,
 "nbformat_minor": 2
}
