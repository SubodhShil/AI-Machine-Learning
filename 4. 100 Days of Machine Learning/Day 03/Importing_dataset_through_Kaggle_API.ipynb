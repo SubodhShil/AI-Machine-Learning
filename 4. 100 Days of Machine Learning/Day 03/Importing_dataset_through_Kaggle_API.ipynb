{
  "cells": [
    {
      "cell_type": "code",
      "execution_count": null,
      "metadata": {
        "id": "XWKaOmTSf8CV"
      },
      "outputs": [],
      "source": [
        "# Install the Kaggle library\n",
        "!pip install kaggle"
      ]
    },
    {
      "cell_type": "code",
      "execution_count": null,
      "metadata": {
        "id": "mlovImFCi8UY"
      },
      "outputs": [],
      "source": [
        "# Upload kaggle.json file to google colab [copy paste the belowed snippet]\n",
        "\n",
        "# configuring the path of Kaggle.json file\n",
        "!mkdir -p ~/.kaggle\n",
        "!cp kaggle.json ~/.kaggle/\n",
        "!chmod 600 ~/.kaggle/kaggle.json"
      ]
    },
    {
      "cell_type": "code",
      "execution_count": null,
      "metadata": {
        "id": "67R9Xx7dkKCa"
      },
      "outputs": [],
      "source": [
        "# import the dataset [you can have different dataset, just paste the dataset link preceded by !]\n",
        "# API to fetch the dataset from Kaggle\n",
        "!kaggle competitions download -c LANL-Earthquake-Prediction"
      ]
    },
    {
      "cell_type": "code",
      "execution_count": null,
      "metadata": {
        "id": "9uo0f686mQ7R"
      },
      "outputs": [],
      "source": [
        "# extracting the compessed Dataset\n",
        "from zipfile import ZipFile\n",
        "dataset = '/content/train.csv.zip'\n",
        "\n",
        "with ZipFile(dataset,'r') as zip:\n",
        "  zip.extractall()\n",
        "  print('The dataset is extracted')"
      ]
    }
  ],
  "metadata": {
    "colab": {
      "provenance": []
    },
    "kernelspec": {
      "display_name": "Python 3",
      "name": "python3"
    },
    "language_info": {
      "name": "python"
    }
  },
  "nbformat": 4,
  "nbformat_minor": 0
}
